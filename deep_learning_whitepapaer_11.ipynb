{
  "nbformat": 4,
  "nbformat_minor": 0,
  "metadata": {
    "colab": {
      "name": "deep_learning_whitepapaer_11.ipynb",
      "provenance": [],
      "authorship_tag": "ABX9TyPDCg68tQzFqBOOsKmz7svB",
      "include_colab_link": true
    },
    "kernelspec": {
      "name": "python3",
      "display_name": "Python 3"
    },
    "language_info": {
      "name": "python"
    }
  },
  "cells": [
    {
      "cell_type": "markdown",
      "metadata": {
        "id": "view-in-github",
        "colab_type": "text"
      },
      "source": [
        "<a href=\"https://colab.research.google.com/github/khalidpark/whitepaper-DeepLearning/blob/main/deep_learning_whitepapaer_11.ipynb\" target=\"_parent\"><img src=\"https://colab.research.google.com/assets/colab-badge.svg\" alt=\"Open In Colab\"/></a>"
      ]
    },
    {
      "cell_type": "code",
      "metadata": {
        "id": "K7F8oB1Tikf0"
      },
      "source": [
        "# sampling from: 'https://www.kaggle.com/datafiniti/consumer-reviews-of-amazon-products'\n",
        "import pandas as pd\n",
        "df = pd.read_csv('https://ds-lecture-data.s3.ap-northeast-2.amazonaws.com/amazon/Datafiniti_Amazon_Consumer_Reviews_of_Amazon_Products_May19_sample.csv')"
      ],
      "execution_count": 1,
      "outputs": []
    },
    {
      "cell_type": "code",
      "metadata": {
        "id": "zXMyTUN-ikf1",
        "colab": {
          "base_uri": "https://localhost:8080/"
        },
        "outputId": "01576a40-dc4b-44c2-a380-9a06ae71e60b"
      },
      "source": [
        "df.shape"
      ],
      "execution_count": 2,
      "outputs": [
        {
          "output_type": "execute_result",
          "data": {
            "text/plain": [
              "(10483, 25)"
            ]
          },
          "metadata": {
            "tags": []
          },
          "execution_count": 2
        }
      ]
    },
    {
      "cell_type": "code",
      "metadata": {
        "id": "yoQz4724ikf1",
        "colab": {
          "base_uri": "https://localhost:8080/",
          "height": 363
        },
        "outputId": "4faf9039-375f-42eb-bd6e-bf9f9431979c"
      },
      "source": [
        "df.head(3)"
      ],
      "execution_count": 3,
      "outputs": [
        {
          "output_type": "execute_result",
          "data": {
            "text/html": [
              "<div>\n",
              "<style scoped>\n",
              "    .dataframe tbody tr th:only-of-type {\n",
              "        vertical-align: middle;\n",
              "    }\n",
              "\n",
              "    .dataframe tbody tr th {\n",
              "        vertical-align: top;\n",
              "    }\n",
              "\n",
              "    .dataframe thead th {\n",
              "        text-align: right;\n",
              "    }\n",
              "</style>\n",
              "<table border=\"1\" class=\"dataframe\">\n",
              "  <thead>\n",
              "    <tr style=\"text-align: right;\">\n",
              "      <th></th>\n",
              "      <th>Unnamed: 0</th>\n",
              "      <th>id</th>\n",
              "      <th>dateAdded</th>\n",
              "      <th>dateUpdated</th>\n",
              "      <th>name</th>\n",
              "      <th>asins</th>\n",
              "      <th>brand</th>\n",
              "      <th>categories</th>\n",
              "      <th>primaryCategories</th>\n",
              "      <th>imageURLs</th>\n",
              "      <th>keys</th>\n",
              "      <th>manufacturer</th>\n",
              "      <th>manufacturerNumber</th>\n",
              "      <th>reviews.date</th>\n",
              "      <th>reviews.dateSeen</th>\n",
              "      <th>reviews.didPurchase</th>\n",
              "      <th>reviews.doRecommend</th>\n",
              "      <th>reviews.id</th>\n",
              "      <th>reviews.numHelpful</th>\n",
              "      <th>reviews.rating</th>\n",
              "      <th>reviews.sourceURLs</th>\n",
              "      <th>reviews.text</th>\n",
              "      <th>reviews.title</th>\n",
              "      <th>reviews.username</th>\n",
              "      <th>sourceURLs</th>\n",
              "    </tr>\n",
              "  </thead>\n",
              "  <tbody>\n",
              "    <tr>\n",
              "      <th>0</th>\n",
              "      <td>25971</td>\n",
              "      <td>AVqkIhxunnc1JgDc3kg_</td>\n",
              "      <td>2017-03-06T14:59:43Z</td>\n",
              "      <td>2019-02-23T02:49:38Z</td>\n",
              "      <td>Fire HD 8 Tablet with Alexa, 8 HD Display, 16 ...</td>\n",
              "      <td>B018T075DC</td>\n",
              "      <td>Amazon</td>\n",
              "      <td>Fire Tablets,Tablets,All Tablets,Amazon Tablet...</td>\n",
              "      <td>Electronics</td>\n",
              "      <td>https://www.upccodesearch.com/images/barcode/0...</td>\n",
              "      <td>amazon/b018t075dc,firehd8tabletwithalexa8hddis...</td>\n",
              "      <td>Amazon</td>\n",
              "      <td>53-004485</td>\n",
              "      <td>2017-01-18T00:00:00.000Z</td>\n",
              "      <td>2017-04-30T00:00:00Z,2017-06-07T00:00:00Z</td>\n",
              "      <td>NaN</td>\n",
              "      <td>True</td>\n",
              "      <td>NaN</td>\n",
              "      <td>0.0</td>\n",
              "      <td>3</td>\n",
              "      <td>http://reviews.bestbuy.com/3545/5620410/review...</td>\n",
              "      <td>Though I have got it for cheap price during bl...</td>\n",
              "      <td>An average Fire tablet</td>\n",
              "      <td>Ganamurthy</td>\n",
              "      <td>http://reviews.bestbuy.com/3545/5620410/review...</td>\n",
              "    </tr>\n",
              "    <tr>\n",
              "      <th>1</th>\n",
              "      <td>19398</td>\n",
              "      <td>AVwjfXqqQMlgsOJE8qmm</td>\n",
              "      <td>2017-05-20T01:34:04Z</td>\n",
              "      <td>2019-02-25T02:23:15Z</td>\n",
              "      <td>All-New Fire HD 8 Kids Edition Tablet, 8 HD Di...</td>\n",
              "      <td>B01J94SCAM</td>\n",
              "      <td>Amazon</td>\n",
              "      <td>Fire Tablets,Tablets,Amazon Tablets,Computers ...</td>\n",
              "      <td>Electronics</td>\n",
              "      <td>https://www.barcodable.com/images/barcode/0841...</td>\n",
              "      <td>amazonfirehd8kidsedition8tablet32gb7thgenerati...</td>\n",
              "      <td>Amazon</td>\n",
              "      <td>53-005705</td>\n",
              "      <td>2017-06-22T00:00:00.000Z</td>\n",
              "      <td>2018-05-27T00:00:00Z,2017-07-07T00:00:00Z,2017...</td>\n",
              "      <td>NaN</td>\n",
              "      <td>True</td>\n",
              "      <td>NaN</td>\n",
              "      <td>17.0</td>\n",
              "      <td>5</td>\n",
              "      <td>http://reviews.bestbuy.com/3545/5836204/review...</td>\n",
              "      <td>I purchased the 7\" for my son when he was 1.5 ...</td>\n",
              "      <td>3 year old loves it</td>\n",
              "      <td>dcc1970</td>\n",
              "      <td>https://reviews.bestbuy.com/3545/5836204/revie...</td>\n",
              "    </tr>\n",
              "    <tr>\n",
              "      <th>2</th>\n",
              "      <td>2410</td>\n",
              "      <td>AVpgNzjwLJeJML43Kpxn</td>\n",
              "      <td>2015-10-30T08:59:32Z</td>\n",
              "      <td>2019-04-25T09:08:16Z</td>\n",
              "      <td>AmazonBasics AAA Performance Alkaline Batterie...</td>\n",
              "      <td>B00QWO9P0O,B00LH3DMUO</td>\n",
              "      <td>Amazonbasics</td>\n",
              "      <td>AA,AAA,Health,Electronics,Health &amp; Household,C...</td>\n",
              "      <td>Health &amp; Beauty</td>\n",
              "      <td>https://images-na.ssl-images-amazon.com/images...</td>\n",
              "      <td>amazonbasics/hl002619,amazonbasicsaaaperforman...</td>\n",
              "      <td>AmazonBasics</td>\n",
              "      <td>HL-002619</td>\n",
              "      <td>2015-04-02T00:00:00.000Z</td>\n",
              "      <td>2017-08-28T00:00:00Z</td>\n",
              "      <td>NaN</td>\n",
              "      <td>NaN</td>\n",
              "      <td>NaN</td>\n",
              "      <td>NaN</td>\n",
              "      <td>5</td>\n",
              "      <td>https://www.amazon.com/product-reviews/B00QWO9...</td>\n",
              "      <td>Great price and great batteries! I will keep o...</td>\n",
              "      <td>Five Stars</td>\n",
              "      <td>ByDena</td>\n",
              "      <td>https://www.barcodable.com/upc/841710106442,ht...</td>\n",
              "    </tr>\n",
              "  </tbody>\n",
              "</table>\n",
              "</div>"
            ],
            "text/plain": [
              "   Unnamed: 0  ...                                         sourceURLs\n",
              "0       25971  ...  http://reviews.bestbuy.com/3545/5620410/review...\n",
              "1       19398  ...  https://reviews.bestbuy.com/3545/5836204/revie...\n",
              "2        2410  ...  https://www.barcodable.com/upc/841710106442,ht...\n",
              "\n",
              "[3 rows x 25 columns]"
            ]
          },
          "metadata": {
            "tags": []
          },
          "execution_count": 3
        }
      ]
    },
    {
      "cell_type": "markdown",
      "metadata": {
        "id": "QWXVR4Etikf1"
      },
      "source": [
        "아마존 브랜드가 보이네요, 이상한 점을 찾아 보세요"
      ]
    },
    {
      "cell_type": "code",
      "metadata": {
        "id": "8LjA2e3Iikf1",
        "colab": {
          "base_uri": "https://localhost:8080/"
        },
        "outputId": "a4789fe6-c9ba-4fa7-ed24-54189a9b3c77"
      },
      "source": [
        "df['brand'].value_counts()"
      ],
      "execution_count": 4,
      "outputs": [
        {
          "output_type": "execute_result",
          "data": {
            "text/plain": [
              "Amazon          5977\n",
              "Amazonbasics    4499\n",
              "AmazonBasics       7\n",
              "Name: brand, dtype: int64"
            ]
          },
          "metadata": {
            "tags": []
          },
          "execution_count": 4
        }
      ]
    },
    {
      "cell_type": "markdown",
      "metadata": {
        "id": "DsfdNDdbikf1"
      },
      "source": [
        "대소문자를 일치시켜 보겠습니다. 카테고리가 줄겠지요?"
      ]
    },
    {
      "cell_type": "code",
      "metadata": {
        "id": "jiLeDuXBikf2",
        "colab": {
          "base_uri": "https://localhost:8080/"
        },
        "outputId": "83c9abd5-89d8-4194-a5c6-5e1b447825ec"
      },
      "source": [
        "df['brand'] = df['brand'].apply(lambda x: x.lower())\n",
        "df['brand'].value_counts()"
      ],
      "execution_count": 5,
      "outputs": [
        {
          "output_type": "execute_result",
          "data": {
            "text/plain": [
              "amazon          5977\n",
              "amazonbasics    4506\n",
              "Name: brand, dtype: int64"
            ]
          },
          "metadata": {
            "tags": []
          },
          "execution_count": 5
        }
      ]
    },
    {
      "cell_type": "markdown",
      "metadata": {
        "id": "Mcp5-xUCikf2"
      },
      "source": [
        "##### 알파벳/숫자만 남겨 봅시다.\n",
        "\n",
        "이번에는 알파벳과 숫자만 남기기 원합니다. 문장 부호나 공백문자, 다른 기호들은 대부분 노이즈라고 볼 수 있습니다 (항상 그런 것은 아닙니다). 이번에는 `re` (regular expressions, 정규식) 패키지를 사용해서 정제를 해 보겠습니다.\n",
        "\n",
        "사용할 정규식 표현은 `'[^a-zA-Z0-9 ]'` 입니다. 이 표현은 소문자(a-z), 대문자(A-Z), 숫자(0-9), 공백문자(space)를 제외한 모든 문자를 제거합니다."
      ]
    },
    {
      "cell_type": "code",
      "metadata": {
        "id": "sKBJfdinikf2"
      },
      "source": [
        "# 정규식 라이브러리\n",
        "import re\n",
        "\n",
        "# 정규식\n",
        "# []: [] 사이 문자를 매치, ^: not\n",
        "regex = r\"[^a-zA-Z0-9 ]\"\n",
        "\n",
        "# 정규식을 적용할 스트링\n",
        "test_str = (\"(Natural Language Processing) is easy!, DS!\\n\")\n",
        "\n",
        "# 치환할 문자\n",
        "subst = \"\"\n",
        "\n",
        "result = re.sub(regex, subst, test_str)"
      ],
      "execution_count": 6,
      "outputs": []
    },
    {
      "cell_type": "code",
      "metadata": {
        "id": "agAQ94mJikf2",
        "colab": {
          "base_uri": "https://localhost:8080/",
          "height": 35
        },
        "outputId": "9c6d5412-8559-4dfa-acc0-c655e3573c7f"
      },
      "source": [
        "result"
      ],
      "execution_count": 7,
      "outputs": [
        {
          "output_type": "execute_result",
          "data": {
            "application/vnd.google.colaboratory.intrinsic+json": {
              "type": "string"
            },
            "text/plain": [
              "'Natural Language Processing is easy DS'"
            ]
          },
          "metadata": {
            "tags": []
          },
          "execution_count": 7
        }
      ]
    },
    {
      "cell_type": "markdown",
      "metadata": {
        "id": "hsmFFy6Zikf2"
      },
      "source": [
        "정규식 정의에서 치환까지 수행하는 tokenize 함수를 만들어 보세요."
      ]
    },
    {
      "cell_type": "code",
      "metadata": {
        "id": "1BhNbBhcikf3"
      },
      "source": [
        "def tokenize(text):\n",
        "    \"\"\"text 문자열을 의미있는 단어 단위로 list에 저장합니다.\n",
        "    Args:\n",
        "        text (str): 토큰화 할 문자열\n",
        "    Returns:\n",
        "        list: 토큰이 저장된 리스트\n",
        "    \"\"\"\n",
        "    # 정규식 적용\n",
        "    tokens = re.sub(regex, subst, text)\n",
        "\n",
        "    # 소문자로 치환\n",
        "    tokens = tokens.lower().split()\n",
        "    \n",
        "    return tokens"
      ],
      "execution_count": 8,
      "outputs": []
    },
    {
      "cell_type": "code",
      "metadata": {
        "id": "9BNgt4NPikf3",
        "colab": {
          "base_uri": "https://localhost:8080/"
        },
        "outputId": "6a7b7847-f22e-4b6d-e22c-6aed9926bf55"
      },
      "source": [
        "tokenize(test_str)"
      ],
      "execution_count": 9,
      "outputs": [
        {
          "output_type": "execute_result",
          "data": {
            "text/plain": [
              "['natural', 'language', 'processing', 'is', 'easy', 'ds']"
            ]
          },
          "metadata": {
            "tags": []
          },
          "execution_count": 9
        }
      ]
    },
    {
      "cell_type": "markdown",
      "metadata": {
        "id": "guWFaPucUg7T"
      },
      "source": [
        "\n",
        "\n",
        "---\n",
        "\n"
      ]
    },
    {
      "cell_type": "markdown",
      "metadata": {
        "toc-hr-collapsed": true,
        "id": "u3JDHMnlikf3"
      },
      "source": [
        "아마존 제품에 리뷰 데이터 다루어 보겠습니다.\n",
        "Alexa, Echo와 같은 아마존 제품에 대한 리뷰를 토큰화 하고 분석해보겠습니다!\n",
        "- [Kaggle](https://www.kaggle.com/datafiniti/consumer-reviews-of-amazon-products/)."
      ]
    },
    {
      "cell_type": "code",
      "metadata": {
        "colab": {
          "base_uri": "https://localhost:8080/"
        },
        "id": "pi0KgKc88fZs",
        "outputId": "0b455001-100c-4cea-fc12-412ae4b3d326"
      },
      "source": [
        "!pip install squarify"
      ],
      "execution_count": 10,
      "outputs": [
        {
          "output_type": "stream",
          "text": [
            "Requirement already satisfied: squarify in /usr/local/lib/python3.7/dist-packages (0.4.3)\n"
          ],
          "name": "stdout"
        }
      ]
    },
    {
      "cell_type": "code",
      "metadata": {
        "id": "rdcf8DCZikf3",
        "colab": {
          "base_uri": "https://localhost:8080/"
        },
        "outputId": "97327bb0-fd53-4dec-dd62-756c7ae3e7d9"
      },
      "source": [
        "from collections import Counter\n",
        "import re\n",
        "import pandas as pd\n",
        "\n",
        "# squarify treemap\n",
        "import squarify\n",
        "\n",
        "import matplotlib.pyplot as plt\n",
        "import seaborn as sns\n",
        "\n",
        "# # spacy: NLP library\n",
        "import spacy\n",
        "from spacy.tokenizer import Tokenizer\n",
        "from nltk.stem import PorterStemmer\n",
        "\n",
        "# # Load general-purpose pretrained models to predict named entities, part-of-speech tags and syntactic dependencies\n",
        "# ## https://spacy.io/models\n",
        "!python -m spacy download en_core_web_lg"
      ],
      "execution_count": 11,
      "outputs": [
        {
          "output_type": "stream",
          "text": [
            "Requirement already satisfied: en_core_web_lg==2.2.5 from https://github.com/explosion/spacy-models/releases/download/en_core_web_lg-2.2.5/en_core_web_lg-2.2.5.tar.gz#egg=en_core_web_lg==2.2.5 in /usr/local/lib/python3.7/dist-packages (2.2.5)\n",
            "Requirement already satisfied: spacy>=2.2.2 in /usr/local/lib/python3.7/dist-packages (from en_core_web_lg==2.2.5) (2.2.4)\n",
            "Requirement already satisfied: preshed<3.1.0,>=3.0.2 in /usr/local/lib/python3.7/dist-packages (from spacy>=2.2.2->en_core_web_lg==2.2.5) (3.0.5)\n",
            "Requirement already satisfied: numpy>=1.15.0 in /usr/local/lib/python3.7/dist-packages (from spacy>=2.2.2->en_core_web_lg==2.2.5) (1.19.5)\n",
            "Requirement already satisfied: plac<1.2.0,>=0.9.6 in /usr/local/lib/python3.7/dist-packages (from spacy>=2.2.2->en_core_web_lg==2.2.5) (1.1.3)\n",
            "Requirement already satisfied: cymem<2.1.0,>=2.0.2 in /usr/local/lib/python3.7/dist-packages (from spacy>=2.2.2->en_core_web_lg==2.2.5) (2.0.5)\n",
            "Requirement already satisfied: blis<0.5.0,>=0.4.0 in /usr/local/lib/python3.7/dist-packages (from spacy>=2.2.2->en_core_web_lg==2.2.5) (0.4.1)\n",
            "Requirement already satisfied: catalogue<1.1.0,>=0.0.7 in /usr/local/lib/python3.7/dist-packages (from spacy>=2.2.2->en_core_web_lg==2.2.5) (1.0.0)\n",
            "Requirement already satisfied: setuptools in /usr/local/lib/python3.7/dist-packages (from spacy>=2.2.2->en_core_web_lg==2.2.5) (57.0.0)\n",
            "Requirement already satisfied: requests<3.0.0,>=2.13.0 in /usr/local/lib/python3.7/dist-packages (from spacy>=2.2.2->en_core_web_lg==2.2.5) (2.23.0)\n",
            "Requirement already satisfied: murmurhash<1.1.0,>=0.28.0 in /usr/local/lib/python3.7/dist-packages (from spacy>=2.2.2->en_core_web_lg==2.2.5) (1.0.5)\n",
            "Requirement already satisfied: wasabi<1.1.0,>=0.4.0 in /usr/local/lib/python3.7/dist-packages (from spacy>=2.2.2->en_core_web_lg==2.2.5) (0.8.2)\n",
            "Requirement already satisfied: tqdm<5.0.0,>=4.38.0 in /usr/local/lib/python3.7/dist-packages (from spacy>=2.2.2->en_core_web_lg==2.2.5) (4.41.1)\n",
            "Requirement already satisfied: srsly<1.1.0,>=1.0.2 in /usr/local/lib/python3.7/dist-packages (from spacy>=2.2.2->en_core_web_lg==2.2.5) (1.0.5)\n",
            "Requirement already satisfied: thinc==7.4.0 in /usr/local/lib/python3.7/dist-packages (from spacy>=2.2.2->en_core_web_lg==2.2.5) (7.4.0)\n",
            "Requirement already satisfied: importlib-metadata>=0.20; python_version < \"3.8\" in /usr/local/lib/python3.7/dist-packages (from catalogue<1.1.0,>=0.0.7->spacy>=2.2.2->en_core_web_lg==2.2.5) (4.6.0)\n",
            "Requirement already satisfied: certifi>=2017.4.17 in /usr/local/lib/python3.7/dist-packages (from requests<3.0.0,>=2.13.0->spacy>=2.2.2->en_core_web_lg==2.2.5) (2021.5.30)\n",
            "Requirement already satisfied: urllib3!=1.25.0,!=1.25.1,<1.26,>=1.21.1 in /usr/local/lib/python3.7/dist-packages (from requests<3.0.0,>=2.13.0->spacy>=2.2.2->en_core_web_lg==2.2.5) (1.24.3)\n",
            "Requirement already satisfied: idna<3,>=2.5 in /usr/local/lib/python3.7/dist-packages (from requests<3.0.0,>=2.13.0->spacy>=2.2.2->en_core_web_lg==2.2.5) (2.10)\n",
            "Requirement already satisfied: chardet<4,>=3.0.2 in /usr/local/lib/python3.7/dist-packages (from requests<3.0.0,>=2.13.0->spacy>=2.2.2->en_core_web_lg==2.2.5) (3.0.4)\n",
            "Requirement already satisfied: typing-extensions>=3.6.4; python_version < \"3.8\" in /usr/local/lib/python3.7/dist-packages (from importlib-metadata>=0.20; python_version < \"3.8\"->catalogue<1.1.0,>=0.0.7->spacy>=2.2.2->en_core_web_lg==2.2.5) (3.7.4.3)\n",
            "Requirement already satisfied: zipp>=0.5 in /usr/local/lib/python3.7/dist-packages (from importlib-metadata>=0.20; python_version < \"3.8\"->catalogue<1.1.0,>=0.0.7->spacy>=2.2.2->en_core_web_lg==2.2.5) (3.4.1)\n",
            "\u001b[38;5;2m✔ Download and installation successful\u001b[0m\n",
            "You can now load the model via spacy.load('en_core_web_lg')\n"
          ],
          "name": "stdout"
        }
      ]
    },
    {
      "cell_type": "code",
      "metadata": {
        "id": "xeCPbeVuWPJJ"
      },
      "source": [
        "nlp = spacy.load(\"en_core_web_lg\")"
      ],
      "execution_count": 12,
      "outputs": []
    },
    {
      "cell_type": "code",
      "metadata": {
        "id": "eebHa2pvikf3",
        "colab": {
          "base_uri": "https://localhost:8080/",
          "height": 819
        },
        "outputId": "7976d00f-e8cc-489b-82d0-4e4f99f85012"
      },
      "source": [
        "df.head(2).T"
      ],
      "execution_count": 13,
      "outputs": [
        {
          "output_type": "execute_result",
          "data": {
            "text/html": [
              "<div>\n",
              "<style scoped>\n",
              "    .dataframe tbody tr th:only-of-type {\n",
              "        vertical-align: middle;\n",
              "    }\n",
              "\n",
              "    .dataframe tbody tr th {\n",
              "        vertical-align: top;\n",
              "    }\n",
              "\n",
              "    .dataframe thead th {\n",
              "        text-align: right;\n",
              "    }\n",
              "</style>\n",
              "<table border=\"1\" class=\"dataframe\">\n",
              "  <thead>\n",
              "    <tr style=\"text-align: right;\">\n",
              "      <th></th>\n",
              "      <th>0</th>\n",
              "      <th>1</th>\n",
              "    </tr>\n",
              "  </thead>\n",
              "  <tbody>\n",
              "    <tr>\n",
              "      <th>Unnamed: 0</th>\n",
              "      <td>25971</td>\n",
              "      <td>19398</td>\n",
              "    </tr>\n",
              "    <tr>\n",
              "      <th>id</th>\n",
              "      <td>AVqkIhxunnc1JgDc3kg_</td>\n",
              "      <td>AVwjfXqqQMlgsOJE8qmm</td>\n",
              "    </tr>\n",
              "    <tr>\n",
              "      <th>dateAdded</th>\n",
              "      <td>2017-03-06T14:59:43Z</td>\n",
              "      <td>2017-05-20T01:34:04Z</td>\n",
              "    </tr>\n",
              "    <tr>\n",
              "      <th>dateUpdated</th>\n",
              "      <td>2019-02-23T02:49:38Z</td>\n",
              "      <td>2019-02-25T02:23:15Z</td>\n",
              "    </tr>\n",
              "    <tr>\n",
              "      <th>name</th>\n",
              "      <td>Fire HD 8 Tablet with Alexa, 8 HD Display, 16 ...</td>\n",
              "      <td>All-New Fire HD 8 Kids Edition Tablet, 8 HD Di...</td>\n",
              "    </tr>\n",
              "    <tr>\n",
              "      <th>asins</th>\n",
              "      <td>B018T075DC</td>\n",
              "      <td>B01J94SCAM</td>\n",
              "    </tr>\n",
              "    <tr>\n",
              "      <th>brand</th>\n",
              "      <td>amazon</td>\n",
              "      <td>amazon</td>\n",
              "    </tr>\n",
              "    <tr>\n",
              "      <th>categories</th>\n",
              "      <td>Fire Tablets,Tablets,All Tablets,Amazon Tablet...</td>\n",
              "      <td>Fire Tablets,Tablets,Amazon Tablets,Computers ...</td>\n",
              "    </tr>\n",
              "    <tr>\n",
              "      <th>primaryCategories</th>\n",
              "      <td>Electronics</td>\n",
              "      <td>Electronics</td>\n",
              "    </tr>\n",
              "    <tr>\n",
              "      <th>imageURLs</th>\n",
              "      <td>https://www.upccodesearch.com/images/barcode/0...</td>\n",
              "      <td>https://www.barcodable.com/images/barcode/0841...</td>\n",
              "    </tr>\n",
              "    <tr>\n",
              "      <th>keys</th>\n",
              "      <td>amazon/b018t075dc,firehd8tabletwithalexa8hddis...</td>\n",
              "      <td>amazonfirehd8kidsedition8tablet32gb7thgenerati...</td>\n",
              "    </tr>\n",
              "    <tr>\n",
              "      <th>manufacturer</th>\n",
              "      <td>Amazon</td>\n",
              "      <td>Amazon</td>\n",
              "    </tr>\n",
              "    <tr>\n",
              "      <th>manufacturerNumber</th>\n",
              "      <td>53-004485</td>\n",
              "      <td>53-005705</td>\n",
              "    </tr>\n",
              "    <tr>\n",
              "      <th>reviews.date</th>\n",
              "      <td>2017-01-18T00:00:00.000Z</td>\n",
              "      <td>2017-06-22T00:00:00.000Z</td>\n",
              "    </tr>\n",
              "    <tr>\n",
              "      <th>reviews.dateSeen</th>\n",
              "      <td>2017-04-30T00:00:00Z,2017-06-07T00:00:00Z</td>\n",
              "      <td>2018-05-27T00:00:00Z,2017-07-07T00:00:00Z,2017...</td>\n",
              "    </tr>\n",
              "    <tr>\n",
              "      <th>reviews.didPurchase</th>\n",
              "      <td>NaN</td>\n",
              "      <td>NaN</td>\n",
              "    </tr>\n",
              "    <tr>\n",
              "      <th>reviews.doRecommend</th>\n",
              "      <td>True</td>\n",
              "      <td>True</td>\n",
              "    </tr>\n",
              "    <tr>\n",
              "      <th>reviews.id</th>\n",
              "      <td>NaN</td>\n",
              "      <td>NaN</td>\n",
              "    </tr>\n",
              "    <tr>\n",
              "      <th>reviews.numHelpful</th>\n",
              "      <td>0</td>\n",
              "      <td>17</td>\n",
              "    </tr>\n",
              "    <tr>\n",
              "      <th>reviews.rating</th>\n",
              "      <td>3</td>\n",
              "      <td>5</td>\n",
              "    </tr>\n",
              "    <tr>\n",
              "      <th>reviews.sourceURLs</th>\n",
              "      <td>http://reviews.bestbuy.com/3545/5620410/review...</td>\n",
              "      <td>http://reviews.bestbuy.com/3545/5836204/review...</td>\n",
              "    </tr>\n",
              "    <tr>\n",
              "      <th>reviews.text</th>\n",
              "      <td>Though I have got it for cheap price during bl...</td>\n",
              "      <td>I purchased the 7\" for my son when he was 1.5 ...</td>\n",
              "    </tr>\n",
              "    <tr>\n",
              "      <th>reviews.title</th>\n",
              "      <td>An average Fire tablet</td>\n",
              "      <td>3 year old loves it</td>\n",
              "    </tr>\n",
              "    <tr>\n",
              "      <th>reviews.username</th>\n",
              "      <td>Ganamurthy</td>\n",
              "      <td>dcc1970</td>\n",
              "    </tr>\n",
              "    <tr>\n",
              "      <th>sourceURLs</th>\n",
              "      <td>http://reviews.bestbuy.com/3545/5620410/review...</td>\n",
              "      <td>https://reviews.bestbuy.com/3545/5836204/revie...</td>\n",
              "    </tr>\n",
              "  </tbody>\n",
              "</table>\n",
              "</div>"
            ],
            "text/plain": [
              "                                                                     0                                                  1\n",
              "Unnamed: 0                                                       25971                                              19398\n",
              "id                                                AVqkIhxunnc1JgDc3kg_                               AVwjfXqqQMlgsOJE8qmm\n",
              "dateAdded                                         2017-03-06T14:59:43Z                               2017-05-20T01:34:04Z\n",
              "dateUpdated                                       2019-02-23T02:49:38Z                               2019-02-25T02:23:15Z\n",
              "name                 Fire HD 8 Tablet with Alexa, 8 HD Display, 16 ...  All-New Fire HD 8 Kids Edition Tablet, 8 HD Di...\n",
              "asins                                                       B018T075DC                                         B01J94SCAM\n",
              "brand                                                           amazon                                             amazon\n",
              "categories           Fire Tablets,Tablets,All Tablets,Amazon Tablet...  Fire Tablets,Tablets,Amazon Tablets,Computers ...\n",
              "primaryCategories                                          Electronics                                        Electronics\n",
              "imageURLs            https://www.upccodesearch.com/images/barcode/0...  https://www.barcodable.com/images/barcode/0841...\n",
              "keys                 amazon/b018t075dc,firehd8tabletwithalexa8hddis...  amazonfirehd8kidsedition8tablet32gb7thgenerati...\n",
              "manufacturer                                                    Amazon                                             Amazon\n",
              "manufacturerNumber                                           53-004485                                          53-005705\n",
              "reviews.date                                  2017-01-18T00:00:00.000Z                           2017-06-22T00:00:00.000Z\n",
              "reviews.dateSeen             2017-04-30T00:00:00Z,2017-06-07T00:00:00Z  2018-05-27T00:00:00Z,2017-07-07T00:00:00Z,2017...\n",
              "reviews.didPurchase                                                NaN                                                NaN\n",
              "reviews.doRecommend                                               True                                               True\n",
              "reviews.id                                                         NaN                                                NaN\n",
              "reviews.numHelpful                                                   0                                                 17\n",
              "reviews.rating                                                       3                                                  5\n",
              "reviews.sourceURLs   http://reviews.bestbuy.com/3545/5620410/review...  http://reviews.bestbuy.com/3545/5836204/review...\n",
              "reviews.text         Though I have got it for cheap price during bl...  I purchased the 7\" for my son when he was 1.5 ...\n",
              "reviews.title                                   An average Fire tablet                                3 year old loves it\n",
              "reviews.username                                            Ganamurthy                                            dcc1970\n",
              "sourceURLs           http://reviews.bestbuy.com/3545/5620410/review...  https://reviews.bestbuy.com/3545/5836204/revie..."
            ]
          },
          "metadata": {
            "tags": []
          },
          "execution_count": 13
        }
      ]
    },
    {
      "cell_type": "markdown",
      "metadata": {
        "id": "SQyR9JDyikf4"
      },
      "source": [
        "reviews.text 문장의 단어를 카운트 해서 사용해 보겠습니다."
      ]
    },
    {
      "cell_type": "code",
      "metadata": {
        "id": "tL245zXMikf4",
        "colab": {
          "base_uri": "https://localhost:8080/"
        },
        "outputId": "f963ec06-24cf-4cde-bc55-0fb93928afaa"
      },
      "source": [
        "df['reviews.text'].value_counts(normalize=True)[:10]"
      ],
      "execution_count": 14,
      "outputs": [
        {
          "output_type": "execute_result",
          "data": {
            "text/plain": [
              "good           0.002576\n",
              "Good           0.001717\n",
              "great          0.001717\n",
              "Great          0.001431\n",
              "ok             0.001431\n",
              "Great price    0.001431\n",
              "Great value    0.001240\n",
              "Excellent      0.001049\n",
              "great price    0.000859\n",
              "good price     0.000859\n",
              "Name: reviews.text, dtype: float64"
            ]
          },
          "metadata": {
            "tags": []
          },
          "execution_count": 14
        }
      ]
    },
    {
      "cell_type": "markdown",
      "metadata": {
        "id": "Sgb_HHVWikf4"
      },
      "source": [
        "각 리뷰텍스트를 토크나이즈 하여 tokens 칼럼으로 만듭니다."
      ]
    },
    {
      "cell_type": "code",
      "metadata": {
        "id": "MlATIP2Jikf4"
      },
      "source": [
        "df['tokens'] = df['reviews.text'].apply(tokenize)"
      ],
      "execution_count": 15,
      "outputs": []
    },
    {
      "cell_type": "code",
      "metadata": {
        "id": "dmYZSEevikf4",
        "colab": {
          "base_uri": "https://localhost:8080/"
        },
        "outputId": "21db7efc-4096-4dfb-a29f-04811d3f152c"
      },
      "source": [
        "df['tokens'].head()"
      ],
      "execution_count": 16,
      "outputs": [
        {
          "output_type": "execute_result",
          "data": {
            "text/plain": [
              "0    [though, i, have, got, it, for, cheap, price, ...\n",
              "1    [i, purchased, the, 7, for, my, son, when, he,...\n",
              "2    [great, price, and, great, batteries, i, will,...\n",
              "3    [great, tablet, for, kids, my, boys, love, the...\n",
              "4    [they, lasted, really, little, some, of, them,...\n",
              "Name: tokens, dtype: object"
            ]
          },
          "metadata": {
            "tags": []
          },
          "execution_count": 16
        }
      ]
    },
    {
      "cell_type": "code",
      "metadata": {
        "id": "mvaYRbH-ikf4",
        "colab": {
          "base_uri": "https://localhost:8080/",
          "height": 357
        },
        "outputId": "5bd35da4-811e-48ac-9092-5c0f277ee2b8"
      },
      "source": [
        "df[['reviews.text', 'tokens']][:10]"
      ],
      "execution_count": 17,
      "outputs": [
        {
          "output_type": "execute_result",
          "data": {
            "text/html": [
              "<div>\n",
              "<style scoped>\n",
              "    .dataframe tbody tr th:only-of-type {\n",
              "        vertical-align: middle;\n",
              "    }\n",
              "\n",
              "    .dataframe tbody tr th {\n",
              "        vertical-align: top;\n",
              "    }\n",
              "\n",
              "    .dataframe thead th {\n",
              "        text-align: right;\n",
              "    }\n",
              "</style>\n",
              "<table border=\"1\" class=\"dataframe\">\n",
              "  <thead>\n",
              "    <tr style=\"text-align: right;\">\n",
              "      <th></th>\n",
              "      <th>reviews.text</th>\n",
              "      <th>tokens</th>\n",
              "    </tr>\n",
              "  </thead>\n",
              "  <tbody>\n",
              "    <tr>\n",
              "      <th>0</th>\n",
              "      <td>Though I have got it for cheap price during bl...</td>\n",
              "      <td>[though, i, have, got, it, for, cheap, price, ...</td>\n",
              "    </tr>\n",
              "    <tr>\n",
              "      <th>1</th>\n",
              "      <td>I purchased the 7\" for my son when he was 1.5 ...</td>\n",
              "      <td>[i, purchased, the, 7, for, my, son, when, he,...</td>\n",
              "    </tr>\n",
              "    <tr>\n",
              "      <th>2</th>\n",
              "      <td>Great price and great batteries! I will keep o...</td>\n",
              "      <td>[great, price, and, great, batteries, i, will,...</td>\n",
              "    </tr>\n",
              "    <tr>\n",
              "      <th>3</th>\n",
              "      <td>Great tablet for kids my boys love their table...</td>\n",
              "      <td>[great, tablet, for, kids, my, boys, love, the...</td>\n",
              "    </tr>\n",
              "    <tr>\n",
              "      <th>4</th>\n",
              "      <td>They lasted really little.. (some of them) I u...</td>\n",
              "      <td>[they, lasted, really, little, some, of, them,...</td>\n",
              "    </tr>\n",
              "    <tr>\n",
              "      <th>5</th>\n",
              "      <td>I purchased 2 others for my 5 &amp; 6yr-olds, and ...</td>\n",
              "      <td>[i, purchased, 2, others, for, my, 5, 6yrolds,...</td>\n",
              "    </tr>\n",
              "    <tr>\n",
              "      <th>6</th>\n",
              "      <td>We purchased Amazon Fire kids edition tablet t...</td>\n",
              "      <td>[we, purchased, amazon, fire, kids, edition, t...</td>\n",
              "    </tr>\n",
              "    <tr>\n",
              "      <th>7</th>\n",
              "      <td>Got this when they were on sale last year and ...</td>\n",
              "      <td>[got, this, when, they, were, on, sale, last, ...</td>\n",
              "    </tr>\n",
              "    <tr>\n",
              "      <th>8</th>\n",
              "      <td>Lotta batteries. at a good price.</td>\n",
              "      <td>[lotta, batteries, at, a, good, price]</td>\n",
              "    </tr>\n",
              "    <tr>\n",
              "      <th>9</th>\n",
              "      <td>Best deal and work as expected</td>\n",
              "      <td>[best, deal, and, work, as, expected]</td>\n",
              "    </tr>\n",
              "  </tbody>\n",
              "</table>\n",
              "</div>"
            ],
            "text/plain": [
              "                                        reviews.text                                             tokens\n",
              "0  Though I have got it for cheap price during bl...  [though, i, have, got, it, for, cheap, price, ...\n",
              "1  I purchased the 7\" for my son when he was 1.5 ...  [i, purchased, the, 7, for, my, son, when, he,...\n",
              "2  Great price and great batteries! I will keep o...  [great, price, and, great, batteries, i, will,...\n",
              "3  Great tablet for kids my boys love their table...  [great, tablet, for, kids, my, boys, love, the...\n",
              "4  They lasted really little.. (some of them) I u...  [they, lasted, really, little, some, of, them,...\n",
              "5  I purchased 2 others for my 5 & 6yr-olds, and ...  [i, purchased, 2, others, for, my, 5, 6yrolds,...\n",
              "6  We purchased Amazon Fire kids edition tablet t...  [we, purchased, amazon, fire, kids, edition, t...\n",
              "7  Got this when they were on sale last year and ...  [got, this, when, they, were, on, sale, last, ...\n",
              "8                  Lotta batteries. at a good price.             [lotta, batteries, at, a, good, price]\n",
              "9                     Best deal and work as expected              [best, deal, and, work, as, expected]"
            ]
          },
          "metadata": {
            "tags": []
          },
          "execution_count": 17
        }
      ]
    },
    {
      "cell_type": "markdown",
      "metadata": {
        "id": "Fc8URY1Yikf5"
      },
      "source": [
        "어떤 카테고리가 있는지 살펴보겠습니다"
      ]
    },
    {
      "cell_type": "code",
      "metadata": {
        "id": "CR3sbfOIikf5",
        "colab": {
          "base_uri": "https://localhost:8080/"
        },
        "outputId": "24a24d92-d237-43ca-9c00-2e3a221bc8ff"
      },
      "source": [
        "df['primaryCategories'].value_counts()"
      ],
      "execution_count": 18,
      "outputs": [
        {
          "output_type": "execute_result",
          "data": {
            "text/plain": [
              "Electronics                    5184\n",
              "Health & Beauty                4462\n",
              "Toys & Games,Electronics        616\n",
              "Office Supplies,Electronics     146\n",
              "Electronics,Media                70\n",
              "Animals & Pet Supplies            3\n",
              "Electronics,Furniture             1\n",
              "Office Supplies                   1\n",
              "Name: primaryCategories, dtype: int64"
            ]
          },
          "metadata": {
            "tags": []
          },
          "execution_count": 18
        }
      ]
    },
    {
      "cell_type": "markdown",
      "metadata": {
        "id": "h4QRFX8Sikf5"
      },
      "source": [
        "Electronics 카테고리에 해당하는 문장들만 제한해서 분석해보겠습니다."
      ]
    },
    {
      "cell_type": "code",
      "metadata": {
        "id": "j55Zy7kTikf5"
      },
      "source": [
        "\n",
        "df = df[df['primaryCategories'] == 'Electronics']"
      ],
      "execution_count": 19,
      "outputs": []
    },
    {
      "cell_type": "code",
      "metadata": {
        "id": "DzKDkNv5ikf5",
        "colab": {
          "base_uri": "https://localhost:8080/",
          "height": 382
        },
        "outputId": "fe64ff6e-3855-43b3-e49b-fd80613e12b3"
      },
      "source": [
        "df.head(2)"
      ],
      "execution_count": 20,
      "outputs": [
        {
          "output_type": "execute_result",
          "data": {
            "text/html": [
              "<div>\n",
              "<style scoped>\n",
              "    .dataframe tbody tr th:only-of-type {\n",
              "        vertical-align: middle;\n",
              "    }\n",
              "\n",
              "    .dataframe tbody tr th {\n",
              "        vertical-align: top;\n",
              "    }\n",
              "\n",
              "    .dataframe thead th {\n",
              "        text-align: right;\n",
              "    }\n",
              "</style>\n",
              "<table border=\"1\" class=\"dataframe\">\n",
              "  <thead>\n",
              "    <tr style=\"text-align: right;\">\n",
              "      <th></th>\n",
              "      <th>Unnamed: 0</th>\n",
              "      <th>id</th>\n",
              "      <th>dateAdded</th>\n",
              "      <th>dateUpdated</th>\n",
              "      <th>name</th>\n",
              "      <th>asins</th>\n",
              "      <th>brand</th>\n",
              "      <th>categories</th>\n",
              "      <th>primaryCategories</th>\n",
              "      <th>imageURLs</th>\n",
              "      <th>keys</th>\n",
              "      <th>manufacturer</th>\n",
              "      <th>manufacturerNumber</th>\n",
              "      <th>reviews.date</th>\n",
              "      <th>reviews.dateSeen</th>\n",
              "      <th>reviews.didPurchase</th>\n",
              "      <th>reviews.doRecommend</th>\n",
              "      <th>reviews.id</th>\n",
              "      <th>reviews.numHelpful</th>\n",
              "      <th>reviews.rating</th>\n",
              "      <th>reviews.sourceURLs</th>\n",
              "      <th>reviews.text</th>\n",
              "      <th>reviews.title</th>\n",
              "      <th>reviews.username</th>\n",
              "      <th>sourceURLs</th>\n",
              "      <th>tokens</th>\n",
              "    </tr>\n",
              "  </thead>\n",
              "  <tbody>\n",
              "    <tr>\n",
              "      <th>0</th>\n",
              "      <td>25971</td>\n",
              "      <td>AVqkIhxunnc1JgDc3kg_</td>\n",
              "      <td>2017-03-06T14:59:43Z</td>\n",
              "      <td>2019-02-23T02:49:38Z</td>\n",
              "      <td>Fire HD 8 Tablet with Alexa, 8 HD Display, 16 ...</td>\n",
              "      <td>B018T075DC</td>\n",
              "      <td>amazon</td>\n",
              "      <td>Fire Tablets,Tablets,All Tablets,Amazon Tablet...</td>\n",
              "      <td>Electronics</td>\n",
              "      <td>https://www.upccodesearch.com/images/barcode/0...</td>\n",
              "      <td>amazon/b018t075dc,firehd8tabletwithalexa8hddis...</td>\n",
              "      <td>Amazon</td>\n",
              "      <td>53-004485</td>\n",
              "      <td>2017-01-18T00:00:00.000Z</td>\n",
              "      <td>2017-04-30T00:00:00Z,2017-06-07T00:00:00Z</td>\n",
              "      <td>NaN</td>\n",
              "      <td>True</td>\n",
              "      <td>NaN</td>\n",
              "      <td>0.0</td>\n",
              "      <td>3</td>\n",
              "      <td>http://reviews.bestbuy.com/3545/5620410/review...</td>\n",
              "      <td>Though I have got it for cheap price during bl...</td>\n",
              "      <td>An average Fire tablet</td>\n",
              "      <td>Ganamurthy</td>\n",
              "      <td>http://reviews.bestbuy.com/3545/5620410/review...</td>\n",
              "      <td>[though, i, have, got, it, for, cheap, price, ...</td>\n",
              "    </tr>\n",
              "    <tr>\n",
              "      <th>1</th>\n",
              "      <td>19398</td>\n",
              "      <td>AVwjfXqqQMlgsOJE8qmm</td>\n",
              "      <td>2017-05-20T01:34:04Z</td>\n",
              "      <td>2019-02-25T02:23:15Z</td>\n",
              "      <td>All-New Fire HD 8 Kids Edition Tablet, 8 HD Di...</td>\n",
              "      <td>B01J94SCAM</td>\n",
              "      <td>amazon</td>\n",
              "      <td>Fire Tablets,Tablets,Amazon Tablets,Computers ...</td>\n",
              "      <td>Electronics</td>\n",
              "      <td>https://www.barcodable.com/images/barcode/0841...</td>\n",
              "      <td>amazonfirehd8kidsedition8tablet32gb7thgenerati...</td>\n",
              "      <td>Amazon</td>\n",
              "      <td>53-005705</td>\n",
              "      <td>2017-06-22T00:00:00.000Z</td>\n",
              "      <td>2018-05-27T00:00:00Z,2017-07-07T00:00:00Z,2017...</td>\n",
              "      <td>NaN</td>\n",
              "      <td>True</td>\n",
              "      <td>NaN</td>\n",
              "      <td>17.0</td>\n",
              "      <td>5</td>\n",
              "      <td>http://reviews.bestbuy.com/3545/5836204/review...</td>\n",
              "      <td>I purchased the 7\" for my son when he was 1.5 ...</td>\n",
              "      <td>3 year old loves it</td>\n",
              "      <td>dcc1970</td>\n",
              "      <td>https://reviews.bestbuy.com/3545/5836204/revie...</td>\n",
              "      <td>[i, purchased, the, 7, for, my, son, when, he,...</td>\n",
              "    </tr>\n",
              "  </tbody>\n",
              "</table>\n",
              "</div>"
            ],
            "text/plain": [
              "   Unnamed: 0  ...                                             tokens\n",
              "0       25971  ...  [though, i, have, got, it, for, cheap, price, ...\n",
              "1       19398  ...  [i, purchased, the, 7, for, my, son, when, he,...\n",
              "\n",
              "[2 rows x 26 columns]"
            ]
          },
          "metadata": {
            "tags": []
          },
          "execution_count": 20
        }
      ]
    },
    {
      "cell_type": "markdown",
      "metadata": {
        "id": "BZiA6PUxW5gG"
      },
      "source": [
        "\n",
        "\n",
        "---\n",
        "\n"
      ]
    },
    {
      "cell_type": "markdown",
      "metadata": {
        "id": "18UZWIeKikf5"
      },
      "source": [
        "#### 토큰을 분석해 봅시다."
      ]
    },
    {
      "cell_type": "markdown",
      "metadata": {
        "id": "cK1kVdPyikf6"
      },
      "source": [
        "Counter를 사용하여 모든 리뷰 토큰을 카운트 해보겠습니다."
      ]
    },
    {
      "cell_type": "code",
      "metadata": {
        "id": "-C5uNrl8ikf6",
        "colab": {
          "base_uri": "https://localhost:8080/"
        },
        "outputId": "5efd7b97-a362-4a8d-d3cd-21fd9ea08023"
      },
      "source": [
        "from collections import Counter\n",
        "\n",
        "# Counter 객체는 리스트요소의 값과 요소의 갯수를 카운트 하여 저장하고 있습니다.\n",
        "# 카운터 객체는 .update 메소드로 계속 업데이트 가능합니다.\n",
        "word_counts = Counter()\n",
        "\n",
        "# 토큰화된 각 리뷰 리스트를 카운터 객체에 업데이트 합니다. \n",
        "df['tokens'].apply(lambda x: word_counts.update(x))\n",
        "\n",
        "# 가장 많이 존재하는 단어 순으로 10개를 나열합니다\n",
        "word_counts.most_common(10)"
      ],
      "execution_count": 21,
      "outputs": [
        {
          "output_type": "execute_result",
          "data": {
            "text/plain": [
              "[('the', 6562),\n",
              " ('and', 5183),\n",
              " ('it', 4786),\n",
              " ('to', 4685),\n",
              " ('for', 4496),\n",
              " ('i', 4378),\n",
              " ('a', 3861),\n",
              " ('is', 3036),\n",
              " ('my', 2942),\n",
              " ('this', 2924)]"
            ]
          },
          "metadata": {
            "tags": []
          },
          "execution_count": 21
        }
      ]
    },
    {
      "cell_type": "markdown",
      "metadata": {
        "id": "aQrRGkrWikf6"
      },
      "source": [
        "the, and, a, is... 같은 어떤 문서에든지 많이 나타나는 단어들은 사실 큰 의미를 찾기 어려운 단어들 입니다.\n",
        "\n",
        "이런 단어들을 **stopword(불용어)** 라고 합니다."
      ]
    },
    {
      "cell_type": "markdown",
      "metadata": {
        "id": "X_404LZ0ikf6"
      },
      "source": [
        "이와같은 프로세스를 사용해서 코퍼스의 전체 워드 카운트, 랭크 등 정보가 담긴 데이터프레임을 리턴하는 함수를 만들어 봅시다. 이 함수는 토큰화된 문서들이 들어있는 코퍼스를 입력으로 받습니다."
      ]
    },
    {
      "cell_type": "code",
      "metadata": {
        "id": "5NQNBwVTikf6"
      },
      "source": [
        "def word_count(docs):\n",
        "    \"\"\" 토큰화된 문서들을 입력받아 토큰을 카운트 하고 관련된 속성을 가진 데이터프레임을 리턴합니다.\n",
        "    Args:\n",
        "        docs (series or list): 토큰화된 문서가 들어있는 list\n",
        "    Returns:\n",
        "        list: Dataframe\n",
        "    \"\"\"\n",
        "    # 전체 코퍼스에서 단어 빈도 카운트\n",
        "    word_counts = Counter()\n",
        "\n",
        "    # 단어가 존재하는 문서의 빈도 카운트, 단어가 한 번 이상 존재하면 +1\n",
        "    word_in_docs = Counter()\n",
        "\n",
        "    # 전체 문서의 갯수\n",
        "    total_docs = len(docs)\n",
        "\n",
        "    for doc in docs:\n",
        "        word_counts.update(doc)\n",
        "        word_in_docs.update(set(doc))\n",
        "\n",
        "    temp = zip(word_counts.keys(), word_counts.values())\n",
        "\n",
        "    wc = pd.DataFrame(temp, columns = ['word', 'count'])\n",
        "\n",
        "    # 단어의 순위\n",
        "    # method='first': 같은 값의 경우 먼저나온 요소를 우선\n",
        "    wc['rank'] = wc['count'].rank(method='first', ascending=False)\n",
        "    total = wc['count'].sum()\n",
        "\n",
        "    # 코퍼스 내 단어의 비율\n",
        "    wc['percent'] = wc['count'].apply(lambda x: x / total)\n",
        "\n",
        "    wc = wc.sort_values(by='rank')\n",
        "\n",
        "    # 누적 비율\n",
        "    # cumsum() : cumulative sum\n",
        "    wc['cul_percent'] = wc['percent'].cumsum()\n",
        "\n",
        "    temp2 = zip(word_in_docs.keys(), word_in_docs.values())\n",
        "    ac = pd.DataFrame(temp2, columns=['word', 'word_in_docs'])\n",
        "    wc = ac.merge(wc, on='word')\n",
        "    \n",
        "    # 전체 문서 중 존재하는 비율\n",
        "    wc['word_in_docs_percent'] = wc['word_in_docs'].apply(lambda x: x / total_docs)\n",
        "\n",
        "    return wc.sort_values(by='rank')"
      ],
      "execution_count": 22,
      "outputs": []
    },
    {
      "cell_type": "code",
      "metadata": {
        "id": "dA3-2DTRikf7"
      },
      "source": [
        "wc = word_count(df['tokens'])"
      ],
      "execution_count": 23,
      "outputs": []
    },
    {
      "cell_type": "code",
      "metadata": {
        "id": "uOM20Zmaikf8",
        "colab": {
          "base_uri": "https://localhost:8080/",
          "height": 203
        },
        "outputId": "abe518e5-1ef4-40cc-e7a3-93fe85192425"
      },
      "source": [
        "wc.head()"
      ],
      "execution_count": 24,
      "outputs": [
        {
          "output_type": "execute_result",
          "data": {
            "text/html": [
              "<div>\n",
              "<style scoped>\n",
              "    .dataframe tbody tr th:only-of-type {\n",
              "        vertical-align: middle;\n",
              "    }\n",
              "\n",
              "    .dataframe tbody tr th {\n",
              "        vertical-align: top;\n",
              "    }\n",
              "\n",
              "    .dataframe thead th {\n",
              "        text-align: right;\n",
              "    }\n",
              "</style>\n",
              "<table border=\"1\" class=\"dataframe\">\n",
              "  <thead>\n",
              "    <tr style=\"text-align: right;\">\n",
              "      <th></th>\n",
              "      <th>word</th>\n",
              "      <th>word_in_docs</th>\n",
              "      <th>count</th>\n",
              "      <th>rank</th>\n",
              "      <th>percent</th>\n",
              "      <th>cul_percent</th>\n",
              "      <th>word_in_docs_percent</th>\n",
              "    </tr>\n",
              "  </thead>\n",
              "  <tbody>\n",
              "    <tr>\n",
              "      <th>68</th>\n",
              "      <td>the</td>\n",
              "      <td>2951</td>\n",
              "      <td>6562</td>\n",
              "      <td>1.0</td>\n",
              "      <td>0.041588</td>\n",
              "      <td>0.041588</td>\n",
              "      <td>0.569252</td>\n",
              "    </tr>\n",
              "    <tr>\n",
              "      <th>16</th>\n",
              "      <td>and</td>\n",
              "      <td>3162</td>\n",
              "      <td>5183</td>\n",
              "      <td>2.0</td>\n",
              "      <td>0.032848</td>\n",
              "      <td>0.074436</td>\n",
              "      <td>0.609954</td>\n",
              "    </tr>\n",
              "    <tr>\n",
              "      <th>24</th>\n",
              "      <td>it</td>\n",
              "      <td>2719</td>\n",
              "      <td>4786</td>\n",
              "      <td>3.0</td>\n",
              "      <td>0.030332</td>\n",
              "      <td>0.104768</td>\n",
              "      <td>0.524498</td>\n",
              "    </tr>\n",
              "    <tr>\n",
              "      <th>101</th>\n",
              "      <td>to</td>\n",
              "      <td>2647</td>\n",
              "      <td>4685</td>\n",
              "      <td>4.0</td>\n",
              "      <td>0.029692</td>\n",
              "      <td>0.134461</td>\n",
              "      <td>0.510610</td>\n",
              "    </tr>\n",
              "    <tr>\n",
              "      <th>2</th>\n",
              "      <td>for</td>\n",
              "      <td>2952</td>\n",
              "      <td>4496</td>\n",
              "      <td>5.0</td>\n",
              "      <td>0.028494</td>\n",
              "      <td>0.162955</td>\n",
              "      <td>0.569444</td>\n",
              "    </tr>\n",
              "  </tbody>\n",
              "</table>\n",
              "</div>"
            ],
            "text/plain": [
              "    word  word_in_docs  count  ...   percent  cul_percent  word_in_docs_percent\n",
              "68   the          2951   6562  ...  0.041588     0.041588              0.569252\n",
              "16   and          3162   5183  ...  0.032848     0.074436              0.609954\n",
              "24    it          2719   4786  ...  0.030332     0.104768              0.524498\n",
              "101   to          2647   4685  ...  0.029692     0.134461              0.510610\n",
              "2    for          2952   4496  ...  0.028494     0.162955              0.569444\n",
              "\n",
              "[5 rows x 7 columns]"
            ]
          },
          "metadata": {
            "tags": []
          },
          "execution_count": 24
        }
      ]
    },
    {
      "cell_type": "code",
      "metadata": {
        "id": "JvVUaaJFikf8",
        "colab": {
          "base_uri": "https://localhost:8080/",
          "height": 279
        },
        "outputId": "6824af58-0ef0-4e88-e343-153f9782ed61"
      },
      "source": [
        "    import seaborn as sns\n",
        "\n",
        "    # 누적분포그래프(CDF)\n",
        "    sns.lineplot(x='rank', y='cul_percent', data=wc);"
      ],
      "execution_count": 25,
      "outputs": [
        {
          "output_type": "display_data",
          "data": {
            "image/png": "[encoded data removed]",
            "text/plain": [
              "<Figure size 432x288 with 1 Axes>"
            ]
          },
          "metadata": {
            "tags": [],
            "needs_background": "light"
          }
        }
      ]
    },
    {
      "cell_type": "code",
      "metadata": {
        "id": "_tNVq6Ihikf8",
        "colab": {
          "base_uri": "https://localhost:8080/"
        },
        "outputId": "c21a69d8-08f7-401b-d37a-91268426097b"
      },
      "source": [
        "wc[wc['rank'] <= 1000]['cul_percent'].max()"
      ],
      "execution_count": 26,
      "outputs": [
        {
          "output_type": "execute_result",
          "data": {
            "text/plain": [
              "0.917869772983658"
            ]
          },
          "metadata": {
            "tags": []
          },
          "execution_count": 26
        }
      ]
    },
    {
      "cell_type": "code",
      "metadata": {
        "id": "iX1wxsp-ikf8",
        "colab": {
          "base_uri": "https://localhost:8080/",
          "height": 248
        },
        "outputId": "7a38f61c-f712-4257-a2df-8fa7e3367bbc"
      },
      "source": [
        "import squarify\n",
        "import matplotlib.pyplot as plt\n",
        "\n",
        "color=['viridis']\n",
        "\n",
        "wc_top20 = wc[wc['rank'] <= 20]\n",
        "squarify.plot(sizes=wc_top20['percent'], label=wc_top20['word'], alpha=0.6)\n",
        "plt.axis('off')\n",
        "plt.show()"
      ],
      "execution_count": 27,
      "outputs": [
        {
          "output_type": "display_data",
          "data": {
            "image/png": "[encoded data removed]",
            "text/plain": [
              "<Figure size 432x288 with 1 Axes>"
            ]
          },
          "metadata": {
            "tags": [],
            "needs_background": "light"
          }
        }
      ]
    }
  ]
}