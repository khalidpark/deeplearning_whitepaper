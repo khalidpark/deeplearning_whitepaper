{
  "nbformat": 4,
  "nbformat_minor": 0,
  "metadata": {
    "colab": {
      "name": "deep_learning_whitepaper_4.ipynb",
      "provenance": [],
      "authorship_tag": "ABX9TyPoLrNbgxuMrZP8yZWZsPVr",
      "include_colab_link": true
    },
    "kernelspec": {
      "name": "python3",
      "display_name": "Python 3"
    },
    "language_info": {
      "name": "python"
    }
  },
  "cells": [
    {
      "cell_type": "markdown",
      "metadata": {
        "id": "view-in-github",
        "colab_type": "text"
      },
      "source": [
        "<a href=\"https://colab.research.google.com/github/khalidpark/deeplearning_whitepaper/blob/main/deep_learning_whitepaper_4.ipynb\" target=\"_parent\"><img src=\"https://colab.research.google.com/assets/colab-badge.svg\" alt=\"Open In Colab\"/></a>"
      ]
    },
    {
      "cell_type": "code",
      "metadata": {
        "id": "EJwEMIEvuCbZ"
      },
      "source": [
        "# 앞서 살펴본 선형 데이터를 만들기 위함 함수\n",
        "def make_samples(n=1000):\n",
        "    study = np.random.uniform(1, 8, (n, 1))\n",
        "    sleep = np.random.uniform(1, 8, (n, 1))\n",
        "    \n",
        "    y = 5 * study + 2 * sleep + 40\n",
        "    X = np.append(study, sleep, axis = 1)\n",
        "    \n",
        "    # 정규화 \n",
        "    X = X / np.amax(X, axis = 0)\n",
        "    y = y / 100\n",
        "    \n",
        "    return X, y\n"
      ],
      "execution_count": 1,
      "outputs": []
    },
    {
      "cell_type": "code",
      "metadata": {
        "colab": {
          "base_uri": "https://localhost:8080/"
        },
        "id": "G7MAh3JKAe27",
        "outputId": "65cb7a8a-b31b-4dce-f0ba-5c01cbfd2194"
      },
      "source": [
        "import numpy as np\n",
        "import matplotlib.pyplot as plt\n",
        "X, y = make_samples()\n",
        "X[:10]\n"
      ],
      "execution_count": 2,
      "outputs": [
        {
          "output_type": "execute_result",
          "data": {
            "text/plain": [
              "array([[0.14537071, 0.48149962],\n",
              "       [0.78360106, 0.27098449],\n",
              "       [0.73829518, 0.15656173],\n",
              "       [0.66347269, 0.24439105],\n",
              "       [0.64621252, 0.33351195],\n",
              "       [0.77144502, 0.83269291],\n",
              "       [0.36310311, 0.9668375 ],\n",
              "       [0.14942123, 0.39402818],\n",
              "       [0.72509395, 0.79219808],\n",
              "       [0.36118126, 0.38982845]])"
            ]
          },
          "metadata": {
            "tags": []
          },
          "execution_count": 2
        }
      ]
    },
    {
      "cell_type": "code",
      "metadata": {
        "colab": {
          "base_uri": "https://localhost:8080/"
        },
        "id": "OTB0INtOAg_y",
        "outputId": "580e5829-efb3-4988-8a4a-d424fd959b02"
      },
      "source": [
        "from tensorflow.keras.models import Sequential\n",
        "from tensorflow.keras.layers import Dense\n",
        " \n",
        "model = Sequential()\n",
        "\n",
        "# 신경망 모델 구조 정의\n",
        "model.add(Dense(3, input_dim=2, activation='sigmoid'))\n",
        "model.add(Dense(1, activation='sigmoid'))\n",
        "\n",
        "# 컴파일 단계, 옵티마이저와 손실함수, 측정지표를 연결해서 계산 그래프를 구성을 마무리 합니다.\n",
        "model.compile(optimizer='sgd', loss='mse', metrics=['mae', 'mse'])\n",
        "# model.compile(loss='binary_crossentropy', optimizer='adam', metrics=['accuracy']) # 분류인 경우 예시\n",
        "\n",
        "results = model.fit(X,y, epochs=50)\n"
      ],
      "execution_count": 3,
      "outputs": [
        {
          "output_type": "stream",
          "text": [
            "Epoch 1/50\n",
            "32/32 [==============================] - 1s 1ms/step - loss: 0.1148 - mae: 0.3222 - mse: 0.1148\n",
            "Epoch 2/50\n",
            "32/32 [==============================] - 0s 980us/step - loss: 0.0999 - mae: 0.2989 - mse: 0.0999\n",
            "Epoch 3/50\n",
            "32/32 [==============================] - 0s 965us/step - loss: 0.0898 - mae: 0.2809 - mse: 0.0898\n",
            "Epoch 4/50\n",
            "32/32 [==============================] - 0s 1ms/step - loss: 0.0748 - mae: 0.2543 - mse: 0.0748\n",
            "Epoch 5/50\n",
            "32/32 [==============================] - 0s 1ms/step - loss: 0.0684 - mae: 0.2416 - mse: 0.0684\n",
            "Epoch 6/50\n",
            "32/32 [==============================] - 0s 1ms/step - loss: 0.0580 - mae: 0.2190 - mse: 0.0580\n",
            "Epoch 7/50\n",
            "32/32 [==============================] - 0s 974us/step - loss: 0.0517 - mae: 0.2047 - mse: 0.0517\n",
            "Epoch 8/50\n",
            "32/32 [==============================] - 0s 1ms/step - loss: 0.0476 - mae: 0.1940 - mse: 0.0476\n",
            "Epoch 9/50\n",
            "32/32 [==============================] - 0s 1ms/step - loss: 0.0404 - mae: 0.1761 - mse: 0.0404\n",
            "Epoch 10/50\n",
            "32/32 [==============================] - 0s 1ms/step - loss: 0.0358 - mae: 0.1642 - mse: 0.0358\n",
            "Epoch 11/50\n",
            "32/32 [==============================] - 0s 1ms/step - loss: 0.0341 - mae: 0.1586 - mse: 0.0341\n",
            "Epoch 12/50\n",
            "32/32 [==============================] - 0s 1ms/step - loss: 0.0278 - mae: 0.1402 - mse: 0.0278\n",
            "Epoch 13/50\n",
            "32/32 [==============================] - 0s 1ms/step - loss: 0.0269 - mae: 0.1377 - mse: 0.0269\n",
            "Epoch 14/50\n",
            "32/32 [==============================] - 0s 1ms/step - loss: 0.0249 - mae: 0.1308 - mse: 0.0249\n",
            "Epoch 15/50\n",
            "32/32 [==============================] - 0s 1ms/step - loss: 0.0236 - mae: 0.1281 - mse: 0.0236\n",
            "Epoch 16/50\n",
            "32/32 [==============================] - 0s 990us/step - loss: 0.0205 - mae: 0.1173 - mse: 0.0205\n",
            "Epoch 17/50\n",
            "32/32 [==============================] - 0s 1ms/step - loss: 0.0206 - mae: 0.1177 - mse: 0.0206\n",
            "Epoch 18/50\n",
            "32/32 [==============================] - 0s 1ms/step - loss: 0.0195 - mae: 0.1150 - mse: 0.0195\n",
            "Epoch 19/50\n",
            "32/32 [==============================] - 0s 1ms/step - loss: 0.0171 - mae: 0.1084 - mse: 0.0171\n",
            "Epoch 20/50\n",
            "32/32 [==============================] - 0s 1ms/step - loss: 0.0165 - mae: 0.1052 - mse: 0.0165\n",
            "Epoch 21/50\n",
            "32/32 [==============================] - 0s 1ms/step - loss: 0.0161 - mae: 0.1044 - mse: 0.0161\n",
            "Epoch 22/50\n",
            "32/32 [==============================] - 0s 1ms/step - loss: 0.0143 - mae: 0.0985 - mse: 0.0143\n",
            "Epoch 23/50\n",
            "32/32 [==============================] - 0s 1ms/step - loss: 0.0138 - mae: 0.0966 - mse: 0.0138\n",
            "Epoch 24/50\n",
            "32/32 [==============================] - 0s 1ms/step - loss: 0.0135 - mae: 0.0946 - mse: 0.0135\n",
            "Epoch 25/50\n",
            "32/32 [==============================] - 0s 1ms/step - loss: 0.0127 - mae: 0.0920 - mse: 0.0127\n",
            "Epoch 26/50\n",
            "32/32 [==============================] - 0s 1ms/step - loss: 0.0133 - mae: 0.0951 - mse: 0.0133\n",
            "Epoch 27/50\n",
            "32/32 [==============================] - 0s 1ms/step - loss: 0.0119 - mae: 0.0903 - mse: 0.0119\n",
            "Epoch 28/50\n",
            "32/32 [==============================] - 0s 1ms/step - loss: 0.0119 - mae: 0.0905 - mse: 0.0119\n",
            "Epoch 29/50\n",
            "32/32 [==============================] - 0s 1ms/step - loss: 0.0119 - mae: 0.0908 - mse: 0.0119\n",
            "Epoch 30/50\n",
            "32/32 [==============================] - 0s 1ms/step - loss: 0.0110 - mae: 0.0868 - mse: 0.0110\n",
            "Epoch 31/50\n",
            "32/32 [==============================] - 0s 1ms/step - loss: 0.0107 - mae: 0.0853 - mse: 0.0107\n",
            "Epoch 32/50\n",
            "32/32 [==============================] - 0s 1ms/step - loss: 0.0109 - mae: 0.0861 - mse: 0.0109\n",
            "Epoch 33/50\n",
            "32/32 [==============================] - 0s 1ms/step - loss: 0.0108 - mae: 0.0866 - mse: 0.0108\n",
            "Epoch 34/50\n",
            "32/32 [==============================] - 0s 1ms/step - loss: 0.0112 - mae: 0.0879 - mse: 0.0112\n",
            "Epoch 35/50\n",
            "32/32 [==============================] - 0s 992us/step - loss: 0.0105 - mae: 0.0848 - mse: 0.0105\n",
            "Epoch 36/50\n",
            "32/32 [==============================] - 0s 1ms/step - loss: 0.0100 - mae: 0.0825 - mse: 0.0100\n",
            "Epoch 37/50\n",
            "32/32 [==============================] - 0s 1ms/step - loss: 0.0103 - mae: 0.0841 - mse: 0.0103\n",
            "Epoch 38/50\n",
            "32/32 [==============================] - 0s 993us/step - loss: 0.0097 - mae: 0.0823 - mse: 0.0097\n",
            "Epoch 39/50\n",
            "32/32 [==============================] - 0s 1ms/step - loss: 0.0098 - mae: 0.0823 - mse: 0.0098\n",
            "Epoch 40/50\n",
            "32/32 [==============================] - 0s 1ms/step - loss: 0.0099 - mae: 0.0831 - mse: 0.0099\n",
            "Epoch 41/50\n",
            "32/32 [==============================] - 0s 1ms/step - loss: 0.0098 - mae: 0.0821 - mse: 0.0098\n",
            "Epoch 42/50\n",
            "32/32 [==============================] - 0s 1ms/step - loss: 0.0097 - mae: 0.0824 - mse: 0.0097\n",
            "Epoch 43/50\n",
            "32/32 [==============================] - 0s 2ms/step - loss: 0.0097 - mae: 0.0827 - mse: 0.0097\n",
            "Epoch 44/50\n",
            "32/32 [==============================] - 0s 1ms/step - loss: 0.0097 - mae: 0.0820 - mse: 0.0097\n",
            "Epoch 45/50\n",
            "32/32 [==============================] - 0s 1ms/step - loss: 0.0094 - mae: 0.0810 - mse: 0.0094\n",
            "Epoch 46/50\n",
            "32/32 [==============================] - 0s 1ms/step - loss: 0.0098 - mae: 0.0824 - mse: 0.0098\n",
            "Epoch 47/50\n",
            "32/32 [==============================] - 0s 1ms/step - loss: 0.0093 - mae: 0.0798 - mse: 0.0093\n",
            "Epoch 48/50\n",
            "32/32 [==============================] - 0s 1ms/step - loss: 0.0097 - mae: 0.0823 - mse: 0.0097\n",
            "Epoch 49/50\n",
            "32/32 [==============================] - 0s 1ms/step - loss: 0.0098 - mae: 0.0829 - mse: 0.0098\n",
            "Epoch 50/50\n",
            "32/32 [==============================] - 0s 1ms/step - loss: 0.0101 - mae: 0.0846 - mse: 0.0101\n"
          ],
          "name": "stdout"
        }
      ]
    },
    {
      "cell_type": "code",
      "metadata": {
        "colab": {
          "base_uri": "https://localhost:8080/"
        },
        "id": "ihkoksKEAlfx",
        "outputId": "1c4509fc-7471-413e-f442-8b900e38be17"
      },
      "source": [
        "results.history.keys()\n"
      ],
      "execution_count": 4,
      "outputs": [
        {
          "output_type": "execute_result",
          "data": {
            "text/plain": [
              "dict_keys(['loss', 'mae', 'mse'])"
            ]
          },
          "metadata": {
            "tags": []
          },
          "execution_count": 4
        }
      ]
    },
    {
      "cell_type": "code",
      "metadata": {
        "colab": {
          "base_uri": "https://localhost:8080/",
          "height": 282
        },
        "id": "EGAiERJ2AnFm",
        "outputId": "0fa24924-7d86-40b8-da72-f58594d672bc"
      },
      "source": [
        "plt.plot(results.history['loss'])\n"
      ],
      "execution_count": 5,
      "outputs": [
        {
          "output_type": "execute_result",
          "data": {
            "text/plain": [
              "[<matplotlib.lines.Line2D at 0x7fa74a4c8610>]"
            ]
          },
          "metadata": {
            "tags": []
          },
          "execution_count": 5
        },
        {
          "output_type": "display_data",
          "data": {
            "image/png": "[encoded data removed]",
            "text/plain": [
              "<Figure size 432x288 with 1 Axes>"
            ]
          },
          "metadata": {
            "tags": [],
            "needs_background": "light"
          }
        }
      ]
    },
    {
      "cell_type": "code",
      "metadata": {
        "colab": {
          "base_uri": "https://localhost:8080/",
          "height": 282
        },
        "id": "R5NCh-WwApHV",
        "outputId": "7229fa5a-d897-46a2-b310-6d5d90d633a1"
      },
      "source": [
        "plt.plot(results.history['mae'])\n"
      ],
      "execution_count": 6,
      "outputs": [
        {
          "output_type": "execute_result",
          "data": {
            "text/plain": [
              "[<matplotlib.lines.Line2D at 0x7fa749f9a710>]"
            ]
          },
          "metadata": {
            "tags": []
          },
          "execution_count": 6
        },
        {
          "output_type": "display_data",
          "data": {
            "image/png": "[encoded data removed]",
            "text/plain": [
              "<Figure size 432x288 with 1 Axes>"
            ]
          },
          "metadata": {
            "tags": [],
            "needs_background": "light"
          }
        }
      ]
    }
  ]
}