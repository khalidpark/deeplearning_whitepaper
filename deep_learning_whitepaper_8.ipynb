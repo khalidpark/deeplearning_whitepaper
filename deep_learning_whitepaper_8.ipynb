{
  "nbformat": 4,
  "nbformat_minor": 0,
  "metadata": {
    "colab": {
      "name": "deep_learning_whitepaper_8.ipynb",
      "provenance": [],
      "collapsed_sections": [],
      "authorship_tag": "ABX9TyPPLRH4Q3Vb9raO1ACYdZS6",
      "include_colab_link": true
    },
    "kernelspec": {
      "name": "python3",
      "display_name": "Python 3"
    },
    "language_info": {
      "name": "python"
    }
  },
  "cells": [
    {
      "cell_type": "markdown",
      "metadata": {
        "id": "view-in-github",
        "colab_type": "text"
      },
      "source": [
        "<a href=\"https://colab.research.google.com/github/khalidpark/deeplearning_whitepaper/blob/main/deep_learning_whitepaper_8.ipynb\" target=\"_parent\"><img src=\"https://colab.research.google.com/assets/colab-badge.svg\" alt=\"Open In Colab\"/></a>"
      ]
    },
    {
      "cell_type": "markdown",
      "metadata": {
        "id": "0mAkgj1olc1e"
      },
      "source": [
        "# CV Cross Validation"
      ]
    },
    {
      "cell_type": "code",
      "metadata": {
        "id": "3RT-W5Yqf9FV"
      },
      "source": [
        "# 데이터를 불러옵니다. \n",
        "from tensorflow.keras.datasets import boston_housing\n",
        "\n",
        "(x_train, y_train), (x_test, y_test) = boston_housing.load_data()\n"
      ],
      "execution_count": 18,
      "outputs": []
    },
    {
      "cell_type": "code",
      "metadata": {
        "colab": {
          "base_uri": "https://localhost:8080/"
        },
        "id": "GAxqpvPHg6p7",
        "outputId": "b444dd0a-d3ff-44e4-8ab9-c2bbc5472511"
      },
      "source": [
        "print(x_train[:2])\n",
        "print(y_train[:2])"
      ],
      "execution_count": 20,
      "outputs": [
        {
          "output_type": "stream",
          "text": [
            "[[1.23247e+00 0.00000e+00 8.14000e+00 0.00000e+00 5.38000e-01 6.14200e+00\n",
            "  9.17000e+01 3.97690e+00 4.00000e+00 3.07000e+02 2.10000e+01 3.96900e+02\n",
            "  1.87200e+01]\n",
            " [2.17700e-02 8.25000e+01 2.03000e+00 0.00000e+00 4.15000e-01 7.61000e+00\n",
            "  1.57000e+01 6.27000e+00 2.00000e+00 3.48000e+02 1.47000e+01 3.95380e+02\n",
            "  3.11000e+00]]\n",
            "[15.2 42.3]\n"
          ],
          "name": "stdout"
        }
      ]
    },
    {
      "cell_type": "code",
      "metadata": {
        "colab": {
          "base_uri": "https://localhost:8080/"
        },
        "id": "k9TfdCDEg8Dj",
        "outputId": "86625c86-4ddf-4a05-9d7e-da1f34414560"
      },
      "source": [
        "import numpy as np\n",
        "import pandas as pd\n",
        "import os\n",
        "from sklearn.model_selection import KFold, StratifiedKFold\n",
        "import tensorflow as tf\n",
        "from tensorflow.keras.preprocessing.image import ImageDataGenerator\n",
        "\n",
        "kf = KFold(n_splits = 5)             \n",
        "skf = StratifiedKFold(n_splits = 5, random_state = 100, shuffle = True) \n",
        "\n",
        "x_train.shape\n"
      ],
      "execution_count": 21,
      "outputs": [
        {
          "output_type": "execute_result",
          "data": {
            "text/plain": [
              "(404, 13)"
            ]
          },
          "metadata": {
            "tags": []
          },
          "execution_count": 21
        }
      ]
    },
    {
      "cell_type": "code",
      "metadata": {
        "colab": {
          "base_uri": "https://localhost:8080/"
        },
        "id": "cyu1V0uNg9xj",
        "outputId": "942d2508-1236-4b2e-e8d4-e1b90720591d"
      },
      "source": [
        "x_train.shape[0]\n"
      ],
      "execution_count": 22,
      "outputs": [
        {
          "output_type": "execute_result",
          "data": {
            "text/plain": [
              "404"
            ]
          },
          "metadata": {
            "tags": []
          },
          "execution_count": 22
        }
      ]
    },
    {
      "cell_type": "code",
      "metadata": {
        "colab": {
          "base_uri": "https://localhost:8080/"
        },
        "id": "cTkQDlc-k2rk",
        "outputId": "fd307909-b4cd-4196-b483-dd64f27079b9"
      },
      "source": [
        "x_train = pd.DataFrame(x_train)\n",
        "y_train = pd.DataFrame(y_train)\n",
        "for train_index, val_index in kf.split(np.zeros(x_train.shape[0])):\n",
        "  training_data = x_train.iloc[train_index, :]\n",
        "  training_data_label = y_train.iloc[train_index]\n",
        "  validation_data = x_train.iloc[val_index, :]\n",
        "  validation_data_label = y_train.iloc[val_index]\n",
        "\n",
        "  # CV\n",
        "  model.compile(loss='mean_squared_error', optimizer='adam')\n",
        "  model.fit(x_train, y_train,\n",
        "\t\t\t    epochs=10,\n",
        "          batch_size=30,\n",
        "          validation_data = (validation_data, validation_data_label),\n",
        "          )\n",
        "  results = model.evaluate(x_test, y_test, batch_size=128)\n",
        "  print(\"test loss, test mse:\", results)"
      ],
      "execution_count": 32,
      "outputs": [
        {
          "output_type": "stream",
          "text": [
            "Epoch 1/10\n",
            "14/14 [==============================] - 1s 17ms/step - loss: 182.6682 - val_loss: 68.7254\n",
            "Epoch 2/10\n",
            "14/14 [==============================] - 0s 4ms/step - loss: 69.7003 - val_loss: 57.2732\n",
            "Epoch 3/10\n",
            "14/14 [==============================] - 0s 4ms/step - loss: 61.2859 - val_loss: 46.2394\n",
            "Epoch 4/10\n",
            "14/14 [==============================] - 0s 4ms/step - loss: 54.5046 - val_loss: 44.9849\n",
            "Epoch 5/10\n",
            "14/14 [==============================] - 0s 4ms/step - loss: 55.7428 - val_loss: 40.4928\n",
            "Epoch 6/10\n",
            "14/14 [==============================] - 0s 5ms/step - loss: 47.3430 - val_loss: 43.6442\n",
            "Epoch 7/10\n",
            "14/14 [==============================] - 0s 4ms/step - loss: 53.2663 - val_loss: 39.9225\n",
            "Epoch 8/10\n",
            "14/14 [==============================] - 0s 4ms/step - loss: 51.6695 - val_loss: 40.3026\n",
            "Epoch 9/10\n",
            "14/14 [==============================] - 0s 4ms/step - loss: 59.5627 - val_loss: 35.4440\n",
            "Epoch 10/10\n",
            "14/14 [==============================] - 0s 4ms/step - loss: 44.0341 - val_loss: 35.1868\n",
            "1/1 [==============================] - 0s 69ms/step - loss: 47.3767\n",
            "test loss, test mse: 47.376747131347656\n",
            "Epoch 1/10\n",
            "14/14 [==============================] - 1s 16ms/step - loss: 78.1949 - val_loss: 63.7835\n",
            "Epoch 2/10\n",
            "14/14 [==============================] - 0s 4ms/step - loss: 53.2416 - val_loss: 53.6959\n",
            "Epoch 3/10\n",
            "14/14 [==============================] - 0s 4ms/step - loss: 56.1297 - val_loss: 51.5236\n",
            "Epoch 4/10\n",
            "14/14 [==============================] - 0s 4ms/step - loss: 47.4318 - val_loss: 49.7439\n",
            "Epoch 5/10\n",
            "14/14 [==============================] - 0s 4ms/step - loss: 44.5933 - val_loss: 48.3095\n",
            "Epoch 6/10\n",
            "14/14 [==============================] - 0s 4ms/step - loss: 44.5335 - val_loss: 42.2684\n",
            "Epoch 7/10\n",
            "14/14 [==============================] - 0s 4ms/step - loss: 48.6885 - val_loss: 47.9653\n",
            "Epoch 8/10\n",
            "14/14 [==============================] - 0s 4ms/step - loss: 48.1728 - val_loss: 39.6730\n",
            "Epoch 9/10\n",
            "14/14 [==============================] - 0s 4ms/step - loss: 39.6378 - val_loss: 40.0553\n",
            "Epoch 10/10\n",
            "14/14 [==============================] - 0s 4ms/step - loss: 42.9427 - val_loss: 37.8089\n",
            "1/1 [==============================] - 0s 81ms/step - loss: 42.3422\n",
            "test loss, test mse: 42.34217834472656\n",
            "Epoch 1/10\n",
            "14/14 [==============================] - 0s 15ms/step - loss: 75.5260 - val_loss: 53.1457\n",
            "Epoch 2/10\n",
            "14/14 [==============================] - 0s 4ms/step - loss: 60.0170 - val_loss: 37.8441\n",
            "Epoch 3/10\n",
            "14/14 [==============================] - 0s 4ms/step - loss: 41.6097 - val_loss: 27.6735\n",
            "Epoch 4/10\n",
            "14/14 [==============================] - 0s 4ms/step - loss: 38.8000 - val_loss: 24.0464\n",
            "Epoch 5/10\n",
            "14/14 [==============================] - 0s 4ms/step - loss: 39.0635 - val_loss: 25.8079\n",
            "Epoch 6/10\n",
            "14/14 [==============================] - 0s 4ms/step - loss: 37.1493 - val_loss: 23.0214\n",
            "Epoch 7/10\n",
            "14/14 [==============================] - 0s 4ms/step - loss: 26.4812 - val_loss: 25.6735\n",
            "Epoch 8/10\n",
            "14/14 [==============================] - 0s 4ms/step - loss: 35.4747 - val_loss: 23.4523\n",
            "Epoch 9/10\n",
            "14/14 [==============================] - 0s 4ms/step - loss: 32.4789 - val_loss: 38.2998\n",
            "Epoch 10/10\n",
            "14/14 [==============================] - 0s 4ms/step - loss: 39.4484 - val_loss: 23.2730\n",
            "1/1 [==============================] - 0s 73ms/step - loss: 40.2400\n",
            "test loss, test mse: 40.240047454833984\n",
            "Epoch 1/10\n",
            "14/14 [==============================] - 0s 13ms/step - loss: 47.6871 - val_loss: 46.5890\n",
            "Epoch 2/10\n",
            "14/14 [==============================] - 0s 4ms/step - loss: 44.1275 - val_loss: 46.0074\n",
            "Epoch 3/10\n",
            "14/14 [==============================] - 0s 4ms/step - loss: 35.6161 - val_loss: 42.1815\n",
            "Epoch 4/10\n",
            "14/14 [==============================] - 0s 4ms/step - loss: 30.7632 - val_loss: 42.0956\n",
            "Epoch 5/10\n",
            "14/14 [==============================] - 0s 4ms/step - loss: 36.0716 - val_loss: 41.4102\n",
            "Epoch 6/10\n",
            "14/14 [==============================] - 0s 4ms/step - loss: 32.6038 - val_loss: 47.0629\n",
            "Epoch 7/10\n",
            "14/14 [==============================] - 0s 4ms/step - loss: 34.8398 - val_loss: 51.3495\n",
            "Epoch 8/10\n",
            "14/14 [==============================] - 0s 4ms/step - loss: 30.3690 - val_loss: 37.8334\n",
            "Epoch 9/10\n",
            "14/14 [==============================] - 0s 4ms/step - loss: 36.2766 - val_loss: 37.7494\n",
            "Epoch 10/10\n",
            "14/14 [==============================] - 0s 4ms/step - loss: 27.6155 - val_loss: 37.6595\n",
            "1/1 [==============================] - 0s 79ms/step - loss: 33.4650\n",
            "test loss, test mse: 33.4649543762207\n",
            "Epoch 1/10\n",
            "14/14 [==============================] - 1s 24ms/step - loss: 54.4469 - val_loss: 34.1786\n",
            "Epoch 2/10\n",
            "14/14 [==============================] - 0s 4ms/step - loss: 35.7575 - val_loss: 43.2667\n",
            "Epoch 3/10\n",
            "14/14 [==============================] - 0s 5ms/step - loss: 44.2272 - val_loss: 39.5572\n",
            "Epoch 4/10\n",
            "14/14 [==============================] - 0s 4ms/step - loss: 34.9737 - val_loss: 29.4195\n",
            "Epoch 5/10\n",
            "14/14 [==============================] - 0s 5ms/step - loss: 24.5798 - val_loss: 29.7225\n",
            "Epoch 6/10\n",
            "14/14 [==============================] - 0s 4ms/step - loss: 29.0805 - val_loss: 29.9298\n",
            "Epoch 7/10\n",
            "14/14 [==============================] - 0s 4ms/step - loss: 25.8635 - val_loss: 32.1685\n",
            "Epoch 8/10\n",
            "14/14 [==============================] - 0s 4ms/step - loss: 34.0447 - val_loss: 27.9460\n",
            "Epoch 9/10\n",
            "14/14 [==============================] - 0s 4ms/step - loss: 33.5481 - val_loss: 31.5652\n",
            "Epoch 10/10\n",
            "14/14 [==============================] - 0s 4ms/step - loss: 24.3644 - val_loss: 33.0679\n",
            "1/1 [==============================] - 0s 70ms/step - loss: 34.2191\n",
            "test loss, test mse: 34.21912384033203\n"
          ],
          "name": "stdout"
        }
      ]
    },
    {
      "cell_type": "markdown",
      "metadata": {
        "id": "0y1XRwDpmIMM"
      },
      "source": [
        "# 입력데이터 정규화"
      ]
    },
    {
      "cell_type": "code",
      "metadata": {
        "colab": {
          "base_uri": "https://localhost:8080/"
        },
        "id": "5mmvEEi0mJmb",
        "outputId": "ac677dc9-290e-435a-e503-c1ceda2d9bcd"
      },
      "source": [
        "# 정규화를 위한 함수 호출\n",
        "from sklearn.preprocessing import StandardScaler\n",
        "\n",
        "scaler = StandardScaler()\n",
        "\n",
        "x_train = scaler.fit_transform(x_train)\n",
        "x_test = scaler.transform(x_test)\n",
        "print(x_train[:10])\n"
      ],
      "execution_count": 33,
      "outputs": [
        {
          "output_type": "stream",
          "text": [
            "[[-0.27224633 -0.48361547 -0.43576161 -0.25683275 -0.1652266  -0.1764426\n",
            "   0.81306188  0.1166983  -0.62624905 -0.59517003  1.14850044  0.44807713\n",
            "   0.8252202 ]\n",
            " [-0.40342651  2.99178419 -1.33391162 -0.25683275 -1.21518188  1.89434613\n",
            "  -1.91036058  1.24758524 -0.85646254 -0.34843254 -1.71818909  0.43190599\n",
            "  -1.32920239]\n",
            " [ 0.1249402  -0.48361547  1.0283258  -0.25683275  0.62864202 -1.82968811\n",
            "   1.11048828 -1.18743907  1.67588577  1.5652875   0.78447637  0.22061726\n",
            "  -1.30850006]\n",
            " [-0.40149354 -0.48361547 -0.86940196 -0.25683275 -0.3615597  -0.3245576\n",
            "  -1.23667187  1.10717989 -0.51114231 -1.094663    0.78447637  0.44807713\n",
            "  -0.65292624]\n",
            " [-0.0056343  -0.48361547  1.0283258  -0.25683275  1.32861221  0.15364225\n",
            "   0.69480801 -0.57857203  1.67588577  1.5652875   0.78447637  0.3898823\n",
            "   0.26349695]\n",
            " [-0.37502238 -0.48361547 -0.54747912 -0.25683275 -0.54935658 -0.78865126\n",
            "   0.18954148  0.48371503 -0.51114231 -0.71552978  0.51145832  0.38669063\n",
            "  -0.13812828]\n",
            " [ 0.58963463 -0.48361547  1.0283258  -0.25683275  1.21764133 -1.03127774\n",
            "   1.11048828 -1.06518235  1.67588577  1.5652875   0.78447637  0.44807713\n",
            "   1.49873604]\n",
            " [ 0.0381708  -0.48361547  1.24588095 -0.25683275  2.67733525 -1.12719983\n",
            "   1.11048828 -1.14833073 -0.51114231 -0.01744323 -1.71818909  0.44807713\n",
            "   1.88793986]\n",
            " [-0.17228416 -0.48361547  1.24588095 -0.25683275  2.67733525 -0.90150078\n",
            "   1.11048828 -1.09664657 -0.51114231 -0.01744323 -1.71818909 -1.97365769\n",
            "   0.53952803]\n",
            " [-0.22932104 -0.48361547  1.58544339 -0.25683275  0.56888847 -1.76056777\n",
            "   1.11048828 -1.13471925 -0.62624905  0.18716835  1.23950646  0.44807713\n",
            "   2.99068404]]\n"
          ],
          "name": "stdout"
        }
      ]
    },
    {
      "cell_type": "markdown",
      "metadata": {
        "id": "YJehg3UQmOA7"
      },
      "source": [
        "# 모델 자동 검증 기능"
      ]
    },
    {
      "cell_type": "code",
      "metadata": {
        "colab": {
          "base_uri": "https://localhost:8080/"
        },
        "id": "V3s2WmRgmPS7",
        "outputId": "0f7f8561-808c-4129-a487-303b06f2db98"
      },
      "source": [
        "from tensorflow import keras\n",
        "from tensorflow.keras.models import Sequential\n",
        "from tensorflow.keras.layers import Dense\n",
        "\n",
        "# 중요한 하이퍼 파라미터들\n",
        "inputs = x_train.shape[1]\n",
        "epochs = 75                 # 전체 반복횟수\n",
        "batch_size = 10             # 한번에 학습하는 사이즈\n",
        "\n",
        "\n",
        "# 모델을 생성합니다\n",
        "model = Sequential()\n",
        "model.add(Dense(64, activation='relu', input_shape=(inputs,)))\n",
        "model.add(Dense(64, activation='relu'))\n",
        "model.add(Dense(1))\n",
        "\n",
        "# Sequential인 경우, 아래의 방법으로도 모델을 만들 수 있습니다.\n",
        "# model = Sequential(\n",
        "# [\n",
        "#     Dense(64, activation='relu', input_shape=(inputs,)),\n",
        "#     Dense(64, activation='relu'),\n",
        "#     Dense(1)\n",
        "# ]\n",
        "# )\n",
        "\n",
        "# Compile Model\n",
        "model.compile(optimizer='adam', loss='mse', metrics=['mse', 'mae'])\n",
        "\n",
        "# Fit Model\n",
        "model.fit(x_train, y_train, \n",
        "          validation_data=(x_test,y_test),  # validation set\n",
        "          epochs=epochs,                    # 전체 반복횟수\n",
        "          batch_size=batch_size             # 한번에 학습하는 사이즈\n",
        "         )\n"
      ],
      "execution_count": 34,
      "outputs": [
        {
          "output_type": "stream",
          "text": [
            "Epoch 1/75\n",
            "41/41 [==============================] - 1s 6ms/step - loss: 521.7471 - mse: 521.7471 - mae: 21.1969 - val_loss: 408.7388 - val_mse: 408.7388 - val_mae: 18.2125\n",
            "Epoch 2/75\n",
            "41/41 [==============================] - 0s 2ms/step - loss: 321.4866 - mse: 321.4866 - mae: 15.6391 - val_loss: 107.5910 - val_mse: 107.5910 - val_mae: 8.6594\n",
            "Epoch 3/75\n",
            "41/41 [==============================] - 0s 2ms/step - loss: 61.9244 - mse: 61.9244 - mae: 6.0047 - val_loss: 43.5690 - val_mse: 43.5690 - val_mae: 5.0027\n",
            "Epoch 4/75\n",
            "41/41 [==============================] - 0s 3ms/step - loss: 29.3929 - mse: 29.3929 - mae: 3.9653 - val_loss: 32.6122 - val_mse: 32.6122 - val_mae: 4.4358\n",
            "Epoch 5/75\n",
            "41/41 [==============================] - 0s 2ms/step - loss: 20.4711 - mse: 20.4711 - mae: 3.2108 - val_loss: 28.4624 - val_mse: 28.4624 - val_mae: 4.2045\n",
            "Epoch 6/75\n",
            "41/41 [==============================] - 0s 2ms/step - loss: 26.7205 - mse: 26.7205 - mae: 3.5058 - val_loss: 26.7852 - val_mse: 26.7852 - val_mae: 3.9611\n",
            "Epoch 7/75\n",
            "41/41 [==============================] - 0s 2ms/step - loss: 16.7131 - mse: 16.7131 - mae: 2.8490 - val_loss: 26.9350 - val_mse: 26.9350 - val_mae: 3.9552\n",
            "Epoch 8/75\n",
            "41/41 [==============================] - 0s 3ms/step - loss: 15.7454 - mse: 15.7454 - mae: 2.8680 - val_loss: 27.0261 - val_mse: 27.0261 - val_mae: 3.8562\n",
            "Epoch 9/75\n",
            "41/41 [==============================] - 0s 2ms/step - loss: 18.0819 - mse: 18.0819 - mae: 2.8686 - val_loss: 24.6424 - val_mse: 24.6424 - val_mae: 3.6218\n",
            "Epoch 10/75\n",
            "41/41 [==============================] - 0s 2ms/step - loss: 16.1288 - mse: 16.1288 - mae: 2.8148 - val_loss: 25.7578 - val_mse: 25.7578 - val_mae: 3.6109\n",
            "Epoch 11/75\n",
            "41/41 [==============================] - 0s 2ms/step - loss: 13.8118 - mse: 13.8118 - mae: 2.4969 - val_loss: 25.6085 - val_mse: 25.6085 - val_mae: 3.5534\n",
            "Epoch 12/75\n",
            "41/41 [==============================] - 0s 3ms/step - loss: 13.7295 - mse: 13.7295 - mae: 2.6606 - val_loss: 26.4186 - val_mse: 26.4186 - val_mae: 3.5694\n",
            "Epoch 13/75\n",
            "41/41 [==============================] - 0s 2ms/step - loss: 13.5678 - mse: 13.5678 - mae: 2.5337 - val_loss: 24.3559 - val_mse: 24.3559 - val_mae: 3.4080\n",
            "Epoch 14/75\n",
            "41/41 [==============================] - 0s 2ms/step - loss: 10.2485 - mse: 10.2485 - mae: 2.2999 - val_loss: 26.1921 - val_mse: 26.1921 - val_mae: 3.4696\n",
            "Epoch 15/75\n",
            "41/41 [==============================] - 0s 3ms/step - loss: 8.8087 - mse: 8.8087 - mae: 2.2526 - val_loss: 25.5106 - val_mse: 25.5106 - val_mae: 3.3931\n",
            "Epoch 16/75\n",
            "41/41 [==============================] - 0s 3ms/step - loss: 10.2053 - mse: 10.2053 - mae: 2.3430 - val_loss: 26.4037 - val_mse: 26.4037 - val_mae: 3.4230\n",
            "Epoch 17/75\n",
            "41/41 [==============================] - 0s 3ms/step - loss: 10.0805 - mse: 10.0805 - mae: 2.2182 - val_loss: 25.0155 - val_mse: 25.0155 - val_mae: 3.3208\n",
            "Epoch 18/75\n",
            "41/41 [==============================] - 0s 2ms/step - loss: 11.9682 - mse: 11.9682 - mae: 2.3442 - val_loss: 24.2221 - val_mse: 24.2221 - val_mae: 3.2478\n",
            "Epoch 19/75\n",
            "41/41 [==============================] - 0s 2ms/step - loss: 10.6474 - mse: 10.6474 - mae: 2.2498 - val_loss: 24.4498 - val_mse: 24.4498 - val_mae: 3.2935\n",
            "Epoch 20/75\n",
            "41/41 [==============================] - 0s 2ms/step - loss: 9.5484 - mse: 9.5484 - mae: 2.2749 - val_loss: 25.6534 - val_mse: 25.6534 - val_mae: 3.2691\n",
            "Epoch 21/75\n",
            "41/41 [==============================] - 0s 2ms/step - loss: 10.4909 - mse: 10.4909 - mae: 2.3494 - val_loss: 24.0807 - val_mse: 24.0807 - val_mae: 3.1789\n",
            "Epoch 22/75\n",
            "41/41 [==============================] - 0s 2ms/step - loss: 7.7337 - mse: 7.7337 - mae: 2.0757 - val_loss: 24.5489 - val_mse: 24.5489 - val_mae: 3.1804\n",
            "Epoch 23/75\n",
            "41/41 [==============================] - 0s 2ms/step - loss: 9.2087 - mse: 9.2087 - mae: 2.2226 - val_loss: 24.6942 - val_mse: 24.6942 - val_mae: 3.1843\n",
            "Epoch 24/75\n",
            "41/41 [==============================] - 0s 2ms/step - loss: 9.9718 - mse: 9.9718 - mae: 2.2091 - val_loss: 24.1952 - val_mse: 24.1952 - val_mae: 3.1645\n",
            "Epoch 25/75\n",
            "41/41 [==============================] - 0s 2ms/step - loss: 10.5532 - mse: 10.5532 - mae: 2.2097 - val_loss: 22.9254 - val_mse: 22.9254 - val_mae: 3.0490\n",
            "Epoch 26/75\n",
            "41/41 [==============================] - 0s 2ms/step - loss: 8.8997 - mse: 8.8997 - mae: 2.0702 - val_loss: 23.7187 - val_mse: 23.7187 - val_mae: 3.0835\n",
            "Epoch 27/75\n",
            "41/41 [==============================] - 0s 3ms/step - loss: 7.3093 - mse: 7.3093 - mae: 1.9349 - val_loss: 24.7743 - val_mse: 24.7743 - val_mae: 3.1632\n",
            "Epoch 28/75\n",
            "41/41 [==============================] - 0s 2ms/step - loss: 13.1605 - mse: 13.1605 - mae: 2.4793 - val_loss: 24.6784 - val_mse: 24.6784 - val_mae: 3.1732\n",
            "Epoch 29/75\n",
            "41/41 [==============================] - 0s 3ms/step - loss: 7.3168 - mse: 7.3168 - mae: 2.0649 - val_loss: 23.0721 - val_mse: 23.0721 - val_mae: 3.0175\n",
            "Epoch 30/75\n",
            "41/41 [==============================] - 0s 2ms/step - loss: 9.0791 - mse: 9.0791 - mae: 2.2014 - val_loss: 21.8183 - val_mse: 21.8183 - val_mae: 2.9527\n",
            "Epoch 31/75\n",
            "41/41 [==============================] - 0s 2ms/step - loss: 7.3212 - mse: 7.3212 - mae: 1.9492 - val_loss: 24.5651 - val_mse: 24.5651 - val_mae: 3.0738\n",
            "Epoch 32/75\n",
            "41/41 [==============================] - 0s 2ms/step - loss: 8.9251 - mse: 8.9251 - mae: 2.2378 - val_loss: 23.1942 - val_mse: 23.1942 - val_mae: 2.9954\n",
            "Epoch 33/75\n",
            "41/41 [==============================] - 0s 2ms/step - loss: 10.6539 - mse: 10.6539 - mae: 2.1827 - val_loss: 21.8707 - val_mse: 21.8707 - val_mae: 2.9982\n",
            "Epoch 34/75\n",
            "41/41 [==============================] - 0s 2ms/step - loss: 8.9130 - mse: 8.9130 - mae: 1.9910 - val_loss: 22.5640 - val_mse: 22.5640 - val_mae: 3.0769\n",
            "Epoch 35/75\n",
            "41/41 [==============================] - 0s 2ms/step - loss: 11.4644 - mse: 11.4644 - mae: 2.2371 - val_loss: 21.8260 - val_mse: 21.8260 - val_mae: 2.9536\n",
            "Epoch 36/75\n",
            "41/41 [==============================] - 0s 3ms/step - loss: 7.5321 - mse: 7.5321 - mae: 2.0185 - val_loss: 23.0409 - val_mse: 23.0409 - val_mae: 2.9698\n",
            "Epoch 37/75\n",
            "41/41 [==============================] - 0s 3ms/step - loss: 7.2536 - mse: 7.2536 - mae: 2.0441 - val_loss: 22.2298 - val_mse: 22.2298 - val_mae: 2.8936\n",
            "Epoch 38/75\n",
            "41/41 [==============================] - 0s 3ms/step - loss: 8.2882 - mse: 8.2882 - mae: 2.0853 - val_loss: 21.2415 - val_mse: 21.2415 - val_mae: 2.7891\n",
            "Epoch 39/75\n",
            "41/41 [==============================] - 0s 3ms/step - loss: 8.9238 - mse: 8.9238 - mae: 2.1607 - val_loss: 21.8725 - val_mse: 21.8725 - val_mae: 2.8452\n",
            "Epoch 40/75\n",
            "41/41 [==============================] - 0s 2ms/step - loss: 7.4312 - mse: 7.4312 - mae: 1.9681 - val_loss: 23.1058 - val_mse: 23.1058 - val_mae: 2.9614\n",
            "Epoch 41/75\n",
            "41/41 [==============================] - 0s 3ms/step - loss: 6.4357 - mse: 6.4357 - mae: 1.8083 - val_loss: 21.4324 - val_mse: 21.4324 - val_mae: 2.8416\n",
            "Epoch 42/75\n",
            "41/41 [==============================] - 0s 3ms/step - loss: 7.7231 - mse: 7.7231 - mae: 2.0422 - val_loss: 20.9493 - val_mse: 20.9493 - val_mae: 2.8540\n",
            "Epoch 43/75\n",
            "41/41 [==============================] - 0s 3ms/step - loss: 8.5822 - mse: 8.5822 - mae: 2.0908 - val_loss: 21.7839 - val_mse: 21.7839 - val_mae: 2.7983\n",
            "Epoch 44/75\n",
            "41/41 [==============================] - 0s 3ms/step - loss: 8.7167 - mse: 8.7167 - mae: 2.1328 - val_loss: 21.0393 - val_mse: 21.0393 - val_mae: 2.7710\n",
            "Epoch 45/75\n",
            "41/41 [==============================] - 0s 2ms/step - loss: 6.3177 - mse: 6.3177 - mae: 1.7932 - val_loss: 20.6652 - val_mse: 20.6652 - val_mae: 2.7228\n",
            "Epoch 46/75\n",
            "41/41 [==============================] - 0s 2ms/step - loss: 6.5735 - mse: 6.5735 - mae: 1.8076 - val_loss: 20.5053 - val_mse: 20.5053 - val_mae: 2.7572\n",
            "Epoch 47/75\n",
            "41/41 [==============================] - 0s 2ms/step - loss: 6.2825 - mse: 6.2825 - mae: 1.8460 - val_loss: 20.4678 - val_mse: 20.4678 - val_mae: 2.6732\n",
            "Epoch 48/75\n",
            "41/41 [==============================] - 0s 3ms/step - loss: 6.5450 - mse: 6.5450 - mae: 1.8561 - val_loss: 20.4638 - val_mse: 20.4638 - val_mae: 2.6911\n",
            "Epoch 49/75\n",
            "41/41 [==============================] - 0s 2ms/step - loss: 5.5300 - mse: 5.5300 - mae: 1.7365 - val_loss: 20.0545 - val_mse: 20.0545 - val_mae: 2.6886\n",
            "Epoch 50/75\n",
            "41/41 [==============================] - 0s 2ms/step - loss: 8.0376 - mse: 8.0376 - mae: 2.0213 - val_loss: 19.8776 - val_mse: 19.8776 - val_mae: 2.6837\n",
            "Epoch 51/75\n",
            "41/41 [==============================] - 0s 2ms/step - loss: 6.0552 - mse: 6.0552 - mae: 1.7762 - val_loss: 20.4040 - val_mse: 20.4040 - val_mae: 2.7923\n",
            "Epoch 52/75\n",
            "41/41 [==============================] - 0s 2ms/step - loss: 6.3527 - mse: 6.3527 - mae: 1.8044 - val_loss: 21.2605 - val_mse: 21.2605 - val_mae: 2.8644\n",
            "Epoch 53/75\n",
            "41/41 [==============================] - 0s 3ms/step - loss: 7.0002 - mse: 7.0002 - mae: 1.7916 - val_loss: 19.9344 - val_mse: 19.9344 - val_mae: 2.7048\n",
            "Epoch 54/75\n",
            "41/41 [==============================] - 0s 2ms/step - loss: 8.0967 - mse: 8.0967 - mae: 2.0153 - val_loss: 19.3730 - val_mse: 19.3730 - val_mae: 2.7155\n",
            "Epoch 55/75\n",
            "41/41 [==============================] - 0s 2ms/step - loss: 5.9962 - mse: 5.9962 - mae: 1.7514 - val_loss: 19.9632 - val_mse: 19.9632 - val_mae: 2.7462\n",
            "Epoch 56/75\n",
            "41/41 [==============================] - 0s 3ms/step - loss: 5.6973 - mse: 5.6973 - mae: 1.7078 - val_loss: 20.1637 - val_mse: 20.1637 - val_mae: 2.6513\n",
            "Epoch 57/75\n",
            "41/41 [==============================] - 0s 3ms/step - loss: 5.5305 - mse: 5.5305 - mae: 1.7284 - val_loss: 20.1660 - val_mse: 20.1660 - val_mae: 2.6214\n",
            "Epoch 58/75\n",
            "41/41 [==============================] - 0s 3ms/step - loss: 6.2809 - mse: 6.2809 - mae: 1.7943 - val_loss: 20.2019 - val_mse: 20.2019 - val_mae: 2.7776\n",
            "Epoch 59/75\n",
            "41/41 [==============================] - 0s 3ms/step - loss: 8.3143 - mse: 8.3143 - mae: 1.8988 - val_loss: 19.5974 - val_mse: 19.5974 - val_mae: 2.6201\n",
            "Epoch 60/75\n",
            "41/41 [==============================] - 0s 3ms/step - loss: 6.2383 - mse: 6.2383 - mae: 1.7513 - val_loss: 20.3752 - val_mse: 20.3752 - val_mae: 2.8620\n",
            "Epoch 61/75\n",
            "41/41 [==============================] - 0s 3ms/step - loss: 7.1861 - mse: 7.1861 - mae: 1.9142 - val_loss: 19.5949 - val_mse: 19.5949 - val_mae: 2.7021\n",
            "Epoch 62/75\n",
            "41/41 [==============================] - 0s 2ms/step - loss: 8.1145 - mse: 8.1145 - mae: 1.9457 - val_loss: 19.1599 - val_mse: 19.1599 - val_mae: 2.6837\n",
            "Epoch 63/75\n",
            "41/41 [==============================] - 0s 2ms/step - loss: 5.8130 - mse: 5.8130 - mae: 1.7795 - val_loss: 18.1308 - val_mse: 18.1308 - val_mae: 2.5265\n",
            "Epoch 64/75\n",
            "41/41 [==============================] - 0s 2ms/step - loss: 6.0441 - mse: 6.0441 - mae: 1.8404 - val_loss: 18.0879 - val_mse: 18.0879 - val_mae: 2.5544\n",
            "Epoch 65/75\n",
            "41/41 [==============================] - 0s 2ms/step - loss: 5.3178 - mse: 5.3178 - mae: 1.6903 - val_loss: 18.5924 - val_mse: 18.5924 - val_mae: 2.6719\n",
            "Epoch 66/75\n",
            "41/41 [==============================] - 0s 2ms/step - loss: 5.2281 - mse: 5.2281 - mae: 1.6767 - val_loss: 18.6839 - val_mse: 18.6839 - val_mae: 2.6146\n",
            "Epoch 67/75\n",
            "41/41 [==============================] - 0s 2ms/step - loss: 5.1852 - mse: 5.1852 - mae: 1.6258 - val_loss: 18.1395 - val_mse: 18.1395 - val_mae: 2.5405\n",
            "Epoch 68/75\n",
            "41/41 [==============================] - 0s 2ms/step - loss: 6.1973 - mse: 6.1973 - mae: 1.7334 - val_loss: 19.3714 - val_mse: 19.3714 - val_mae: 2.7566\n",
            "Epoch 69/75\n",
            "41/41 [==============================] - 0s 2ms/step - loss: 5.6655 - mse: 5.6655 - mae: 1.7256 - val_loss: 19.8850 - val_mse: 19.8850 - val_mae: 2.7226\n",
            "Epoch 70/75\n",
            "41/41 [==============================] - 0s 2ms/step - loss: 6.4670 - mse: 6.4670 - mae: 1.8199 - val_loss: 18.0905 - val_mse: 18.0905 - val_mae: 2.6623\n",
            "Epoch 71/75\n",
            "41/41 [==============================] - 0s 3ms/step - loss: 6.8906 - mse: 6.8906 - mae: 1.8026 - val_loss: 17.4684 - val_mse: 17.4684 - val_mae: 2.6386\n",
            "Epoch 72/75\n",
            "41/41 [==============================] - 0s 3ms/step - loss: 6.3172 - mse: 6.3172 - mae: 1.6498 - val_loss: 17.2905 - val_mse: 17.2905 - val_mae: 2.5305\n",
            "Epoch 73/75\n",
            "41/41 [==============================] - 0s 3ms/step - loss: 5.6033 - mse: 5.6033 - mae: 1.7553 - val_loss: 17.1290 - val_mse: 17.1290 - val_mae: 2.5993\n",
            "Epoch 74/75\n",
            "41/41 [==============================] - 0s 3ms/step - loss: 4.5212 - mse: 4.5212 - mae: 1.6014 - val_loss: 16.5847 - val_mse: 16.5847 - val_mae: 2.4479\n",
            "Epoch 75/75\n",
            "41/41 [==============================] - 0s 2ms/step - loss: 4.6086 - mse: 4.6086 - mae: 1.6025 - val_loss: 18.2799 - val_mse: 18.2799 - val_mae: 2.6048\n"
          ],
          "name": "stdout"
        },
        {
          "output_type": "execute_result",
          "data": {
            "text/plain": [
              "<tensorflow.python.keras.callbacks.History at 0x7f2ca74df1d0>"
            ]
          },
          "metadata": {
            "tags": []
          },
          "execution_count": 34
        }
      ]
    }
  ]
}