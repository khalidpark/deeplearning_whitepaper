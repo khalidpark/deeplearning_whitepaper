{
  "nbformat": 4,
  "nbformat_minor": 0,
  "metadata": {
    "colab": {
      "name": "deep_learning_whitepaper_7.ipynb",
      "provenance": [],
      "collapsed_sections": [],
      "authorship_tag": "ABX9TyPekeLjamdbY6Rg0DjvJAAv",
      "include_colab_link": true
    },
    "kernelspec": {
      "name": "python3",
      "display_name": "Python 3"
    },
    "language_info": {
      "name": "python"
    }
  },
  "cells": [
    {
      "cell_type": "markdown",
      "metadata": {
        "id": "view-in-github",
        "colab_type": "text"
      },
      "source": [
        "<a href=\"https://colab.research.google.com/github/khalidpark/deeplearning_whitepaper/blob/main/deep_learning_whitepaper_7.ipynb\" target=\"_parent\"><img src=\"https://colab.research.google.com/assets/colab-badge.svg\" alt=\"Open In Colab\"/></a>"
      ]
    },
    {
      "cell_type": "markdown",
      "metadata": {
        "id": "VTeC_ZaTr6vz"
      },
      "source": [
        "# early stop"
      ]
    },
    {
      "cell_type": "code",
      "metadata": {
        "colab": {
          "base_uri": "https://localhost:8080/"
        },
        "id": "u_p3Eq0rrR47",
        "outputId": "2b1d264e-e4e1-4b54-f034-42012d4ac9b3"
      },
      "source": [
        "import numpy as np\n",
        "\n",
        "# Tensorflow에서 데이터를 가져와 규제 하는 코드\n",
        "\n",
        "from tensorflow.keras.datasets import fashion_mnist\n",
        "\n",
        "# 데이터 불러오기\n",
        "(X_train, y_train), (X_test, y_test) = fashion_mnist.load_data()\n",
        "print(X_train.shape, X_test.shape)\n",
        "\n",
        "# 데이터를 정규화 합니다\n",
        "X_train = X_train / 255.\n",
        "X_test = X_test /255.\n",
        "\n",
        "# 클래스를 확인합니다.\n",
        "np.unique(y_train)\n"
      ],
      "execution_count": 2,
      "outputs": [
        {
          "output_type": "stream",
          "text": [
            "Downloading data from https://storage.googleapis.com/tensorflow/tf-keras-datasets/train-labels-idx1-ubyte.gz\n",
            "32768/29515 [=================================] - 0s 0us/step\n",
            "Downloading data from https://storage.googleapis.com/tensorflow/tf-keras-datasets/train-images-idx3-ubyte.gz\n",
            "26427392/26421880 [==============================] - 0s 0us/step\n",
            "Downloading data from https://storage.googleapis.com/tensorflow/tf-keras-datasets/t10k-labels-idx1-ubyte.gz\n",
            "8192/5148 [===============================================] - 0s 0us/step\n",
            "Downloading data from https://storage.googleapis.com/tensorflow/tf-keras-datasets/t10k-images-idx3-ubyte.gz\n",
            "4423680/4422102 [==============================] - 0s 0us/step\n",
            "(60000, 28, 28) (10000, 28, 28)\n"
          ],
          "name": "stdout"
        },
        {
          "output_type": "execute_result",
          "data": {
            "text/plain": [
              "array([0, 1, 2, 3, 4, 5, 6, 7, 8, 9], dtype=uint8)"
            ]
          },
          "metadata": {
            "tags": []
          },
          "execution_count": 2
        }
      ]
    },
    {
      "cell_type": "code",
      "metadata": {
        "colab": {
          "base_uri": "https://localhost:8080/"
        },
        "id": "4KsU1n88rYyn",
        "outputId": "fb769310-6074-431e-e4e9-6d45e193df7e"
      },
      "source": [
        "# 기본적인 신경망을 만드는 코드\n",
        "\n",
        "from tensorflow.keras.models import Sequential\n",
        "from tensorflow.keras.layers import Dense, Flatten\n",
        "import keras, os\n",
        "\n",
        "# 모델 구성을 확인합니다.\n",
        "model = Sequential([\n",
        "    Flatten(input_shape=(28, 28)),\n",
        "    Dense(10, activation='softmax')\n",
        "])\n",
        "# 업데이트 방식을 설정합니다.\n",
        "model.compile(optimizer='adam'\n",
        "             , loss='sparse_categorical_crossentropy'\n",
        "             , metrics=['accuracy'])\n",
        "model.summary()\n",
        "# 총 7850 parameters (10 bias)\n"
      ],
      "execution_count": 3,
      "outputs": [
        {
          "output_type": "stream",
          "text": [
            "Model: \"sequential\"\n",
            "_________________________________________________________________\n",
            "Layer (type)                 Output Shape              Param #   \n",
            "=================================================================\n",
            "flatten (Flatten)            (None, 784)               0         \n",
            "_________________________________________________________________\n",
            "dense (Dense)                (None, 10)                7850      \n",
            "=================================================================\n",
            "Total params: 7,850\n",
            "Trainable params: 7,850\n",
            "Non-trainable params: 0\n",
            "_________________________________________________________________\n"
          ],
          "name": "stdout"
        }
      ]
    },
    {
      "cell_type": "code",
      "metadata": {
        "colab": {
          "base_uri": "https://localhost:8080/"
        },
        "id": "MSQ-3zKKrbLF",
        "outputId": "865c8ab9-67e9-4f8b-8356-f5df2ddaa634"
      },
      "source": [
        "import tensorflow as tf\n",
        "\n",
        "# 모델 학습을 위한 코드\n",
        "\n",
        "# 변수 설정을 따로 하는 방법을 적용하기 위한 코드입니다. \n",
        "batch_size = 30\n",
        "epochs_max = 1\n",
        "\n",
        "# 학습시킨 데이터를 저장시키기 위한 코드입니다. \n",
        "checkpoint_filepath = \"FMbest.hdf5\"\n",
        "\n",
        "# overfitting을 방지하기 위해서 학습 중 early stop을 수행하기 위한 코드입니다.\n",
        "early_stop = keras.callbacks.EarlyStopping(monitor='val_loss', min_delta=0, patience=10, verbose=1)\n",
        "\n",
        "# Validation Set을 기준으로 가장 최적의 모델을 찾기 위한 코드입니다.\n",
        "save_best = tf.keras.callbacks.ModelCheckpoint(\n",
        "    filepath=checkpoint_filepath, monitor='val_loss', verbose=1, save_best_only=True,\n",
        "    save_weights_only=True, mode='auto', save_freq='epoch', options=None)\n",
        "\n",
        "# 모델 학습 코드 + early stop + Best model\n",
        "model.fit(X_train, y_train, batch_size=batch_size, epochs=epochs_max, verbose=1, \n",
        "          validation_data=(X_test,y_test), \n",
        "          callbacks=[early_stop, save_best])\n"
      ],
      "execution_count": 4,
      "outputs": [
        {
          "output_type": "stream",
          "text": [
            "2000/2000 [==============================] - 3s 1ms/step - loss: 0.7758 - accuracy: 0.7382 - val_loss: 0.5002 - val_accuracy: 0.8298\n",
            "\n",
            "Epoch 00001: val_loss improved from inf to 0.50021, saving model to FMbest.hdf5\n"
          ],
          "name": "stdout"
        },
        {
          "output_type": "execute_result",
          "data": {
            "text/plain": [
              "<tensorflow.python.keras.callbacks.History at 0x7f09b3b82dd0>"
            ]
          },
          "metadata": {
            "tags": []
          },
          "execution_count": 4
        }
      ]
    },
    {
      "cell_type": "code",
      "metadata": {
        "colab": {
          "base_uri": "https://localhost:8080/"
        },
        "id": "h61A0fNCrhEi",
        "outputId": "3c937a00-ae9f-4ca6-be52-abcd7a55fca2"
      },
      "source": [
        "# 학습된 모델을 이용하여 테스트하는 코드\n",
        "\n",
        "model.predict(X_test[0:1])\n",
        "test_loss, test_acc = model.evaluate(X_test,  y_test, verbose=2)\n"
      ],
      "execution_count": 5,
      "outputs": [
        {
          "output_type": "stream",
          "text": [
            "313/313 - 0s - loss: 0.5002 - accuracy: 0.8298\n"
          ],
          "name": "stdout"
        }
      ]
    },
    {
      "cell_type": "code",
      "metadata": {
        "colab": {
          "base_uri": "https://localhost:8080/"
        },
        "id": "-gyIjGOorjoA",
        "outputId": "e9fa48f4-1eb1-4694-c94c-cf308756d2cd"
      },
      "source": [
        "!ls\n"
      ],
      "execution_count": 6,
      "outputs": [
        {
          "output_type": "stream",
          "text": [
            "FMbest.hdf5  sample_data\n"
          ],
          "name": "stdout"
        }
      ]
    },
    {
      "cell_type": "code",
      "metadata": {
        "id": "MTpuD6H3rl6b"
      },
      "source": [
        "# 체크포인트에 저장된 가중치들을 불러들이는 코드\n",
        "\n",
        "model.load_weights(checkpoint_filepath)\n"
      ],
      "execution_count": 7,
      "outputs": []
    },
    {
      "cell_type": "code",
      "metadata": {
        "colab": {
          "base_uri": "https://localhost:8080/"
        },
        "id": "KZfMuJ2frnmy",
        "outputId": "7cbce97f-9e13-4eb3-d668-045ea9aadadc"
      },
      "source": [
        "# best model을 이용한 테스트 데이터 예측 정확도 재확인 코드\n",
        "\n",
        "model.predict(X_test[0:1])\n",
        "test_loss, test_acc = model.evaluate(X_test,  y_test, verbose=2)\n"
      ],
      "execution_count": 8,
      "outputs": [
        {
          "output_type": "stream",
          "text": [
            "313/313 - 0s - loss: 0.5002 - accuracy: 0.8298\n"
          ],
          "name": "stdout"
        }
      ]
    },
    {
      "cell_type": "markdown",
      "metadata": {
        "id": "kid5p1Nfr3fH"
      },
      "source": [
        "\n",
        "\n",
        "---\n",
        "\n"
      ]
    },
    {
      "cell_type": "markdown",
      "metadata": {
        "id": "92OMhjRgr4LN"
      },
      "source": [
        "# weight decay"
      ]
    },
    {
      "cell_type": "code",
      "metadata": {
        "colab": {
          "base_uri": "https://localhost:8080/"
        },
        "id": "3KrCBga9dIxt",
        "outputId": "15b71809-f028-49ef-df41-7c2cda342c89"
      },
      "source": [
        "# Weight Decay를 전체적으로 반영한 예시 코드\n",
        "from tensorflow.keras.constraints import MaxNorm\n",
        "from tensorflow.keras import regularizers\n",
        "\n",
        "# 모델 구성을 확인합니다.\n",
        "model = Sequential([\n",
        "    Flatten(input_shape=(28, 28)),\n",
        "    Dense(64, input_dim=64,\n",
        "            kernel_regularizer=regularizers.l2(0.01),    # L2 norm regularization\n",
        "            activity_regularizer=regularizers.l1(0.01)), # L1 norm regularization\n",
        "    Dense(10, activation='softmax')\n",
        "])\n",
        "# 업데이트 방식을 설정합니다.\n",
        "model.compile(optimizer='adam'\n",
        "             , loss='sparse_categorical_crossentropy'\n",
        "             , metrics=['accuracy'])\n",
        "model.summary()\n",
        "\n",
        "model.fit(X_train, y_train, batch_size=30, epochs=1, verbose=1, \n",
        "          validation_data=(X_test,y_test))\n"
      ],
      "execution_count": 9,
      "outputs": [
        {
          "output_type": "stream",
          "text": [
            "Model: \"sequential_1\"\n",
            "_________________________________________________________________\n",
            "Layer (type)                 Output Shape              Param #   \n",
            "=================================================================\n",
            "flatten_1 (Flatten)          (None, 784)               0         \n",
            "_________________________________________________________________\n",
            "dense_1 (Dense)              (None, 64)                50240     \n",
            "_________________________________________________________________\n",
            "dense_2 (Dense)              (None, 10)                650       \n",
            "=================================================================\n",
            "Total params: 50,890\n",
            "Trainable params: 50,890\n",
            "Non-trainable params: 0\n",
            "_________________________________________________________________\n",
            "2000/2000 [==============================] - 4s 2ms/step - loss: 1.3741 - accuracy: 0.7609 - val_loss: 0.8169 - val_accuracy: 0.8022\n"
          ],
          "name": "stdout"
        },
        {
          "output_type": "execute_result",
          "data": {
            "text/plain": [
              "<tensorflow.python.keras.callbacks.History at 0x7f09ace7e990>"
            ]
          },
          "metadata": {
            "tags": []
          },
          "execution_count": 9
        }
      ]
    },
    {
      "cell_type": "markdown",
      "metadata": {
        "id": "pfQZ-Y6kemDr"
      },
      "source": [
        "# weight Constraints"
      ]
    },
    {
      "cell_type": "code",
      "metadata": {
        "colab": {
          "base_uri": "https://localhost:8080/"
        },
        "id": "nbNYOGuyewYr",
        "outputId": "051aada8-a3f0-4386-9acd-352bae21ca4f"
      },
      "source": [
        "# 모델 구성을 확인합니다.\n",
        "model = Sequential([\n",
        "    Flatten(input_shape=(28, 28)),\n",
        "    Dense(64, input_dim=64,\n",
        "            kernel_regularizer=regularizers.l2(0.01),\n",
        "            activity_regularizer=regularizers.l1(0.01),\n",
        "            kernel_constraint=MaxNorm(2.)),             ## add constraints\n",
        "    Dense(10, activation='softmax')\n",
        "])\n",
        "# 업데이트 방식을 설정합니다.\n",
        "model.compile(optimizer='adam'\n",
        "             , loss='sparse_categorical_crossentropy'\n",
        "             , metrics=['accuracy'])\n",
        "model.summary()\n",
        "\n",
        "\n",
        "model.fit(X_train, y_train, batch_size=30, epochs=1, verbose=1, \n",
        "          validation_data=(X_test,y_test))\n"
      ],
      "execution_count": 10,
      "outputs": [
        {
          "output_type": "stream",
          "text": [
            "Model: \"sequential_2\"\n",
            "_________________________________________________________________\n",
            "Layer (type)                 Output Shape              Param #   \n",
            "=================================================================\n",
            "flatten_2 (Flatten)          (None, 784)               0         \n",
            "_________________________________________________________________\n",
            "dense_3 (Dense)              (None, 64)                50240     \n",
            "_________________________________________________________________\n",
            "dense_4 (Dense)              (None, 10)                650       \n",
            "=================================================================\n",
            "Total params: 50,890\n",
            "Trainable params: 50,890\n",
            "Non-trainable params: 0\n",
            "_________________________________________________________________\n",
            "2000/2000 [==============================] - 4s 2ms/step - loss: 1.3971 - accuracy: 0.7613 - val_loss: 0.8319 - val_accuracy: 0.8004\n"
          ],
          "name": "stdout"
        },
        {
          "output_type": "execute_result",
          "data": {
            "text/plain": [
              "<tensorflow.python.keras.callbacks.History at 0x7f09acdb6f10>"
            ]
          },
          "metadata": {
            "tags": []
          },
          "execution_count": 10
        }
      ]
    },
    {
      "cell_type": "markdown",
      "metadata": {
        "id": "QBdwoG7rezRS"
      },
      "source": [
        "# Dropout"
      ]
    },
    {
      "cell_type": "code",
      "metadata": {
        "colab": {
          "base_uri": "https://localhost:8080/"
        },
        "id": "01ca9jtIeyy6",
        "outputId": "aa17453b-7708-4b00-8546-23291b778475"
      },
      "source": [
        "from tensorflow.keras.layers import Dropout\n",
        "from tensorflow.keras.constraints import MaxNorm\n",
        "from tensorflow.keras import regularizers\n",
        "# 모델 구성을 확인합니다.\n",
        "model = Sequential([\n",
        "    Flatten(input_shape=(28, 28)),\n",
        "    Dense(64, input_dim=64,\n",
        "            kernel_regularizer=regularizers.l2(0.01),\n",
        "            activity_regularizer=regularizers.l1(0.01),\n",
        "            kernel_constraint=MaxNorm(2.)),             \n",
        "    Dropout(0.5)       ,                                   ## add dropout\n",
        "    Dense(10, activation='softmax')\n",
        "])\n",
        "# 업데이트 방식을 설정합니다.\n",
        "model.compile(optimizer='adam'\n",
        "             , loss='sparse_categorical_crossentropy'\n",
        "             , metrics=['accuracy'])\n",
        "model.summary()\n",
        "\n",
        "\n",
        "model.fit(X_train, y_train, batch_size=30, epochs=1, verbose=1, \n",
        "          validation_data=(X_test,y_test))\n"
      ],
      "execution_count": 11,
      "outputs": [
        {
          "output_type": "stream",
          "text": [
            "Model: \"sequential_3\"\n",
            "_________________________________________________________________\n",
            "Layer (type)                 Output Shape              Param #   \n",
            "=================================================================\n",
            "flatten_3 (Flatten)          (None, 784)               0         \n",
            "_________________________________________________________________\n",
            "dense_5 (Dense)              (None, 64)                50240     \n",
            "_________________________________________________________________\n",
            "dropout (Dropout)            (None, 64)                0         \n",
            "_________________________________________________________________\n",
            "dense_6 (Dense)              (None, 10)                650       \n",
            "=================================================================\n",
            "Total params: 50,890\n",
            "Trainable params: 50,890\n",
            "Non-trainable params: 0\n",
            "_________________________________________________________________\n",
            "2000/2000 [==============================] - 4s 2ms/step - loss: 1.6057 - accuracy: 0.7212 - val_loss: 0.8743 - val_accuracy: 0.8137\n"
          ],
          "name": "stdout"
        },
        {
          "output_type": "execute_result",
          "data": {
            "text/plain": [
              "<tensorflow.python.keras.callbacks.History at 0x7f09acb65490>"
            ]
          },
          "metadata": {
            "tags": []
          },
          "execution_count": 11
        }
      ]
    },
    {
      "cell_type": "markdown",
      "metadata": {
        "id": "uqBAS3y2fCfM"
      },
      "source": [
        "# Learning rate decay\n"
      ]
    },
    {
      "cell_type": "code",
      "metadata": {
        "colab": {
          "base_uri": "https://localhost:8080/"
        },
        "id": "KXk6UlsRfFsd",
        "outputId": "d3030015-56f4-4524-cd1a-f12aff668a7d"
      },
      "source": [
        "model.compile(optimizer=tf.keras.optimizers.Adam(lr=0.001, beta_1 = 0.89)\n",
        "             , loss='sparse_categorical_crossentropy'\n",
        "             , metrics=['accuracy'])\n",
        "model.summary()\n",
        "\n",
        "\n",
        "model.fit(X_train, y_train, batch_size=30, epochs=1, verbose=1, \n",
        "          validation_data=(X_test,y_test))\n"
      ],
      "execution_count": 12,
      "outputs": [
        {
          "output_type": "stream",
          "text": [
            "Model: \"sequential_3\"\n",
            "_________________________________________________________________\n",
            "Layer (type)                 Output Shape              Param #   \n",
            "=================================================================\n",
            "flatten_3 (Flatten)          (None, 784)               0         \n",
            "_________________________________________________________________\n",
            "dense_5 (Dense)              (None, 64)                50240     \n",
            "_________________________________________________________________\n",
            "dropout (Dropout)            (None, 64)                0         \n",
            "_________________________________________________________________\n",
            "dense_6 (Dense)              (None, 10)                650       \n",
            "=================================================================\n",
            "Total params: 50,890\n",
            "Trainable params: 50,890\n",
            "Non-trainable params: 0\n",
            "_________________________________________________________________\n",
            "2000/2000 [==============================] - 4s 2ms/step - loss: 0.9407 - accuracy: 0.7852 - val_loss: 0.9049 - val_accuracy: 0.7874\n"
          ],
          "name": "stdout"
        },
        {
          "output_type": "execute_result",
          "data": {
            "text/plain": [
              "<tensorflow.python.keras.callbacks.History at 0x7f09aca056d0>"
            ]
          },
          "metadata": {
            "tags": []
          },
          "execution_count": 12
        }
      ]
    },
    {
      "cell_type": "markdown",
      "metadata": {
        "id": "49gO_aT3fJLC"
      },
      "source": [
        "# learning rate 스케쥴링\n"
      ]
    },
    {
      "cell_type": "code",
      "metadata": {
        "colab": {
          "base_uri": "https://localhost:8080/"
        },
        "id": "xidyGfJifK_K",
        "outputId": "dd86dc36-7d9c-444f-eeea-0e41db6cbfd0"
      },
      "source": [
        "lr_schedule = keras.optimizers.schedules.ExponentialDecay(\n",
        "    initial_learning_rate=1e-2,\n",
        "    decay_steps=10000,\n",
        "    decay_rate=0.9)\n",
        "\n",
        "model.compile(optimizer=tf.keras.optimizers.Adam(learning_rate=lr_schedule)\n",
        "             , loss='sparse_categorical_crossentropy'\n",
        "             , metrics=['accuracy'])\n",
        "model.summary()\n",
        "\n",
        "\n",
        "model.fit(X_train, y_train, batch_size=30, epochs=1, verbose=1, \n",
        "          validation_data=(X_test,y_test))\n"
      ],
      "execution_count": 13,
      "outputs": [
        {
          "output_type": "stream",
          "text": [
            "Model: \"sequential_3\"\n",
            "_________________________________________________________________\n",
            "Layer (type)                 Output Shape              Param #   \n",
            "=================================================================\n",
            "flatten_3 (Flatten)          (None, 784)               0         \n",
            "_________________________________________________________________\n",
            "dense_5 (Dense)              (None, 64)                50240     \n",
            "_________________________________________________________________\n",
            "dropout (Dropout)            (None, 64)                0         \n",
            "_________________________________________________________________\n",
            "dense_6 (Dense)              (None, 10)                650       \n",
            "=================================================================\n",
            "Total params: 50,890\n",
            "Trainable params: 50,890\n",
            "Non-trainable params: 0\n",
            "_________________________________________________________________\n",
            "2000/2000 [==============================] - 4s 2ms/step - loss: 2.2946 - accuracy: 0.6626 - val_loss: 1.7128 - val_accuracy: 0.7129\n"
          ],
          "name": "stdout"
        },
        {
          "output_type": "execute_result",
          "data": {
            "text/plain": [
              "<tensorflow.python.keras.callbacks.History at 0x7f09ac87f790>"
            ]
          },
          "metadata": {
            "tags": []
          },
          "execution_count": 13
        }
      ]
    },
    {
      "cell_type": "code",
      "metadata": {
        "colab": {
          "base_uri": "https://localhost:8080/"
        },
        "id": "kHMhA-QafhmC",
        "outputId": "b76d0718-4c42-458e-8648-a0999121f6ac"
      },
      "source": [
        "def decayed_learning_rate(step):\n",
        "  step = min(step, decay_steps)\n",
        "  cosine_decay = 0.5 * (1 + cos(pi * step / decay_steps))\n",
        "  decayed = (1 - alpha) * cosine_decay + alpha\n",
        "  return initial_learning_rate * decayed\n",
        "\n",
        "first_decay_steps = 1000\n",
        "initial_learning_rate = 0.01\n",
        "lr_decayed_fn = (\n",
        "  tf.keras.experimental.CosineDecayRestarts(\n",
        "      initial_learning_rate,\n",
        "      first_decay_steps))\n",
        "\n",
        "model.compile(optimizer=tf.keras.optimizers.Adam(learning_rate=lr_schedule)\n",
        "             , loss='sparse_categorical_crossentropy'\n",
        "             , metrics=['accuracy'])\n",
        "model.summary()\n",
        "\n",
        "\n",
        "model.fit(X_train, y_train, batch_size=30, epochs=1, verbose=1, \n",
        "          validation_data=(X_test,y_test))\n"
      ],
      "execution_count": 14,
      "outputs": [
        {
          "output_type": "stream",
          "text": [
            "Model: \"sequential_3\"\n",
            "_________________________________________________________________\n",
            "Layer (type)                 Output Shape              Param #   \n",
            "=================================================================\n",
            "flatten_3 (Flatten)          (None, 784)               0         \n",
            "_________________________________________________________________\n",
            "dense_5 (Dense)              (None, 64)                50240     \n",
            "_________________________________________________________________\n",
            "dropout (Dropout)            (None, 64)                0         \n",
            "_________________________________________________________________\n",
            "dense_6 (Dense)              (None, 10)                650       \n",
            "=================================================================\n",
            "Total params: 50,890\n",
            "Trainable params: 50,890\n",
            "Non-trainable params: 0\n",
            "_________________________________________________________________\n",
            "2000/2000 [==============================] - 4s 2ms/step - loss: 1.9885 - accuracy: 0.6514 - val_loss: 1.7167 - val_accuracy: 0.6811\n"
          ],
          "name": "stdout"
        },
        {
          "output_type": "execute_result",
          "data": {
            "text/plain": [
              "<tensorflow.python.keras.callbacks.History at 0x7f09ac68bd10>"
            ]
          },
          "metadata": {
            "tags": []
          },
          "execution_count": 14
        }
      ]
    }
  ]
}