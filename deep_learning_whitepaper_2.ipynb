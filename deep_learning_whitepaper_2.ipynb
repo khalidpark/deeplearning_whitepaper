{
  "nbformat": 4,
  "nbformat_minor": 0,
  "metadata": {
    "colab": {
      "name": "deep_learning_whitepaper_2.ipynb",
      "provenance": [],
      "authorship_tag": "ABX9TyMI4Jilt/Uz45gM7z+c8DCE",
      "include_colab_link": true
    },
    "kernelspec": {
      "name": "python3",
      "display_name": "Python 3"
    },
    "language_info": {
      "name": "python"
    }
  },
  "cells": [
    {
      "cell_type": "markdown",
      "metadata": {
        "id": "view-in-github",
        "colab_type": "text"
      },
      "source": [
        "<a href=\"https://colab.research.google.com/github/khalidpark/deeplearning_whitepaper/blob/main/deep_learning_whitepaper_2.ipynb\" target=\"_parent\"><img src=\"https://colab.research.google.com/assets/colab-badge.svg\" alt=\"Open In Colab\"/></a>"
      ]
    },
    {
      "cell_type": "code",
      "metadata": {
        "id": "LRI2UvIXgD-L"
      },
      "source": [
        "import numpy as np\n",
        "\n",
        "# 학습데이터를 생성합니다\n",
        "np.random.seed(827)\n",
        "\n",
        "# 입력 벡터: [x0, x1]\n",
        "# X: 입력(inputs)\n",
        "X = np.array([\n",
        "    [0, 0]\n",
        "    ,[1, 1]\n",
        "    ,[1, 0]\n",
        "    ,[0, 1]\n",
        "])\n",
        "\n",
        "# bias\n",
        "b = 1\n",
        "\n",
        "# Y: 타겟값(correct outputs)\n",
        "Y= np.array([[0],[1],[1],[1]])\n"
      ],
      "execution_count": 11,
      "outputs": []
    },
    {
      "cell_type": "code",
      "metadata": {
        "id": "cCSMQictgQGD"
      },
      "source": [
        "# 시그모이드 함수\n",
        "# net: 입력과 가중치의 가중합\n",
        "def sigmoid(net):\n",
        "    return 1 / (1 + np.exp(-net))\n",
        "\n",
        "# 시그모이드 함수의 도함수 유도 예시\n",
        "# https://towardsdatascience.com/derivative-of-the-sigmoid-function-536880cf918e\n",
        "def sigmoid_prime(net):\n",
        "    sig = sigmoid(net)\n",
        "    return sig * (1 - sig)\n"
      ],
      "execution_count": 12,
      "outputs": []
    },
    {
      "cell_type": "code",
      "metadata": {
        "colab": {
          "base_uri": "https://localhost:8080/",
          "height": 265
        },
        "id": "eF6Lj0w7gUu5",
        "outputId": "f8c66c99-2337-41a4-8e99-e0ea0f99e6b5"
      },
      "source": [
        "import matplotlib.pyplot as plt\n",
        "\n",
        "# 시그모이드 함수 그래프 생성\n",
        "x_range = np.arange(-10., 10., 0.2)\n",
        "y_range = np.array([sigmoid(x) for x in x_range])\n",
        "y_prime = np.array([sigmoid_prime(x) for x in x_range])\n",
        "\n",
        "plt.plot(x_range, y_range, label='sigmoid') \n",
        "plt.plot(x_range, y_prime, label='sigmoid_prime')\n",
        "plt.legend()\n",
        "plt.show();\n"
      ],
      "execution_count": 13,
      "outputs": [
        {
          "output_type": "display_data",
          "data": {
            "image/png": "[encoded data removed]",
            "text/plain": [
              "<Figure size 432x288 with 1 Axes>"
            ]
          },
          "metadata": {
            "tags": [],
            "needs_background": "light"
          }
        }
      ]
    },
    {
      "cell_type": "code",
      "metadata": {
        "colab": {
          "base_uri": "https://localhost:8080/"
        },
        "id": "sRCjS-Vzgiy6",
        "outputId": "0d8a2c79-666c-41d9-a021-8a4121fa1fc1"
      },
      "source": [
        "#초기 가중치는 무작위(Random)\n",
        "\n",
        "# W: [weight0, weight1]\n",
        "W = 2 * np.random.rand(2,1) - 1\n",
        "W\n"
      ],
      "execution_count": 14,
      "outputs": [
        {
          "output_type": "execute_result",
          "data": {
            "text/plain": [
              "array([[-0.36561912],\n",
              "       [-0.48951912]])"
            ]
          },
          "metadata": {
            "tags": []
          },
          "execution_count": 14
        }
      ]
    },
    {
      "cell_type": "code",
      "metadata": {
        "colab": {
          "base_uri": "https://localhost:8080/"
        },
        "id": "Vuh-yVofgnfo",
        "outputId": "48108134-1dff-4618-f715-0a8966fb39aa"
      },
      "source": [
        "#입력데이터와 가중치 연산\n",
        "\n",
        "# Z: 가중합\n",
        "Z = np.dot(X, W) + b\n",
        "Z\n"
      ],
      "execution_count": 15,
      "outputs": [
        {
          "output_type": "execute_result",
          "data": {
            "text/plain": [
              "array([[1.        ],\n",
              "       [0.14486176],\n",
              "       [0.63438088],\n",
              "       [0.51048088]])"
            ]
          },
          "metadata": {
            "tags": []
          },
          "execution_count": 15
        }
      ]
    },
    {
      "cell_type": "code",
      "metadata": {
        "colab": {
          "base_uri": "https://localhost:8080/"
        },
        "id": "fV2Ie1K2grsZ",
        "outputId": "20f00cb1-d5aa-4a47-e9a7-7d8fde4efef7"
      },
      "source": [
        "#활성화 함수를 사용해 학습군(epoch)의 출력\n",
        "# A: 출력(activated outputs)\n",
        "A = sigmoid(Z)\n",
        "A"
      ],
      "execution_count": 16,
      "outputs": [
        {
          "output_type": "execute_result",
          "data": {
            "text/plain": [
              "array([[0.73105858],\n",
              "       [0.53615224],\n",
              "       [0.65348215],\n",
              "       [0.6249192 ]])"
            ]
          },
          "metadata": {
            "tags": []
          },
          "execution_count": 16
        }
      ]
    },
    {
      "cell_type": "code",
      "metadata": {
        "colab": {
          "base_uri": "https://localhost:8080/"
        },
        "id": "Fa0Ej4FCguph",
        "outputId": "424d0ce8-1d6e-4571-fc7d-7d8148a8e567"
      },
      "source": [
        "#출력 오차를 줄이기 위한 역전파(경사하강법 이용)\n",
        "\n",
        "# da: 에러값,  dE/da\n",
        "# dz: dE/dz\n",
        "# dw: 가중치 업데이트 값 \n",
        "# db: bias 업데이트 값\n",
        "da = A - Y\n",
        "dz = da * sigmoid_prime(Z)\n",
        "dw = np.dot(X.T, dz)\n",
        "db = np.sum(da, keepdims=True)\n",
        "\n",
        "print(dw)\n",
        "print(db)\n"
      ],
      "execution_count": 17,
      "outputs": [
        {
          "output_type": "stream",
          "text": [
            "[[-0.19382232]\n",
            " [-0.20327284]]\n",
            "[[-0.45438783]]\n"
          ],
          "name": "stdout"
        }
      ]
    },
    {
      "cell_type": "code",
      "metadata": {
        "colab": {
          "base_uri": "https://localhost:8080/"
        },
        "id": "3ehwNza3p26D",
        "outputId": "adcf7fc5-d8f0-4bf7-9e72-9426691a1148"
      },
      "source": [
        "X.T\n"
      ],
      "execution_count": 18,
      "outputs": [
        {
          "output_type": "execute_result",
          "data": {
            "text/plain": [
              "array([[0, 1, 1, 0],\n",
              "       [0, 1, 0, 1]])"
            ]
          },
          "metadata": {
            "tags": []
          },
          "execution_count": 18
        }
      ]
    },
    {
      "cell_type": "code",
      "metadata": {
        "colab": {
          "base_uri": "https://localhost:8080/"
        },
        "id": "lxxp10Xnp4FS",
        "outputId": "45d77dbb-7730-40c7-d6ab-e91f70a1a17c"
      },
      "source": [
        "dz\n"
      ],
      "execution_count": 19,
      "outputs": [
        {
          "output_type": "execute_result",
          "data": {
            "text/plain": [
              "array([[ 0.14373484],\n",
              "       [-0.1153557 ],\n",
              "       [-0.07846662],\n",
              "       [-0.08791714]])"
            ]
          },
          "metadata": {
            "tags": []
          },
          "execution_count": 19
        }
      ]
    },
    {
      "cell_type": "code",
      "metadata": {
        "colab": {
          "base_uri": "https://localhost:8080/"
        },
        "id": "DjL2Q7trp5b6",
        "outputId": "7092a897-7ddc-4ddd-e855-27d53e9448b7"
      },
      "source": [
        "db"
      ],
      "execution_count": 20,
      "outputs": [
        {
          "output_type": "execute_result",
          "data": {
            "text/plain": [
              "array([[-0.45438783]])"
            ]
          },
          "metadata": {
            "tags": []
          },
          "execution_count": 20
        }
      ]
    },
    {
      "cell_type": "code",
      "metadata": {
        "colab": {
          "base_uri": "https://localhost:8080/"
        },
        "id": "V0WfaebJp7dj",
        "outputId": "3c6d3475-c843-46e0-cc58-ff057af279a1"
      },
      "source": [
        "print('기존 가중치: \\n',W)\n"
      ],
      "execution_count": 21,
      "outputs": [
        {
          "output_type": "stream",
          "text": [
            "기존 가중치: \n",
            " [[-0.36561912]\n",
            " [-0.48951912]]\n"
          ],
          "name": "stdout"
        }
      ]
    },
    {
      "cell_type": "code",
      "metadata": {
        "id": "lxx44SLsp9EC"
      },
      "source": [
        "# 가중치 업데이트(batch)\n",
        "W += dw\n",
        "b += db\n"
      ],
      "execution_count": 22,
      "outputs": []
    },
    {
      "cell_type": "code",
      "metadata": {
        "colab": {
          "base_uri": "https://localhost:8080/"
        },
        "id": "U9ukQtHHp-bi",
        "outputId": "86b68ab9-5774-49d1-e0be-6dcced4b8878"
      },
      "source": [
        "print('업데이트 후 가중치: \\n', W)\n",
        "print('업데이트 후 bias: \\n', b)\n"
      ],
      "execution_count": 23,
      "outputs": [
        {
          "output_type": "stream",
          "text": [
            "업데이트 후 가중치: \n",
            " [[-0.55944144]\n",
            " [-0.69279195]]\n",
            "업데이트 후 bias: \n",
            " [[0.54561217]]\n"
          ],
          "name": "stdout"
        }
      ]
    },
    {
      "cell_type": "markdown",
      "metadata": {
        "id": "qSTHY4-2qQhl"
      },
      "source": [
        "반복(iteration)을 통한 정교한 가중치 생성¶\n"
      ]
    },
    {
      "cell_type": "code",
      "metadata": {
        "colab": {
          "base_uri": "https://localhost:8080/"
        },
        "id": "DdJy3rAGqQ9r",
        "outputId": "1a0cd919-befd-4861-f4d3-b94c120fbb61"
      },
      "source": [
        "# 이미 입력 데이터와 타겟 출력은 윗 부분에서 선언 하였습니다.\n",
        "\n",
        "# 가중치 초기화\n",
        "# W = 2 * np.random.random((2,1)) - 1\n",
        "W = np.random.randn(2,1)\n",
        "# W = np.zeros((2,1))\n",
        "\n",
        "b = 0\n",
        "\n",
        "print('학습 전 가중치: \\n', W)\n",
        "\n",
        "# 가중치 업데이트를 10,000회 (10,000 epoch) 진행하겠습니다.\n",
        "\n",
        "for iteration in range(1000):\n",
        "\n",
        "    # 순방향 전파\n",
        "    Z = np.dot(X, W) + b\n",
        "    A = sigmoid(Z)\n",
        "\n",
        "    # 역방향 전파(기울기 계산)\n",
        "    da = Y - A\n",
        "    dz = da * sigmoid_prime(Z)\n",
        "    dw = np.dot(X.T, dz)\n",
        "    db = np.sum(da, keepdims=True)\n",
        "    \n",
        "    W += dw\n",
        "    b += db\n",
        "\n",
        "print('학습 후 가중치: \\n', W)\n",
        "print('학습 후 bias: \\n', b)\n",
        "print('학습 후 예측값: \\n', A.round(3))\n"
      ],
      "execution_count": 24,
      "outputs": [
        {
          "output_type": "stream",
          "text": [
            "학습 전 가중치: \n",
            " [[-0.26203003]\n",
            " [ 0.47949834]]\n",
            "학습 후 가중치: \n",
            " [[5.92195632]\n",
            " [5.9220684 ]]\n",
            "학습 후 bias: \n",
            " [[-2.5909238]]\n",
            "학습 후 예측값: \n",
            " [[0.07 ]\n",
            " [1.   ]\n",
            " [0.965]\n",
            " [0.965]]\n"
          ],
          "name": "stdout"
        }
      ]
    }
  ]
}