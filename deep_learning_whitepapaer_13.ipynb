{
  "nbformat": 4,
  "nbformat_minor": 0,
  "metadata": {
    "colab": {
      "name": "deep_learning_whitepapaer_13.ipynb",
      "provenance": [],
      "collapsed_sections": [],
      "toc_visible": true,
      "authorship_tag": "ABX9TyNNmwpYEj1gCn7whG4IfZ0r",
      "include_colab_link": true
    },
    "kernelspec": {
      "name": "python3",
      "display_name": "Python 3"
    },
    "language_info": {
      "name": "python"
    }
  },
  "cells": [
    {
      "cell_type": "markdown",
      "metadata": {
        "id": "view-in-github",
        "colab_type": "text"
      },
      "source": [
        "<a href=\"https://colab.research.google.com/github/khalidpark/whitepaper-DeepLearning/blob/main/deep_learning_whitepapaer_13.ipynb\" target=\"_parent\"><img src=\"https://colab.research.google.com/assets/colab-badge.svg\" alt=\"Open In Colab\"/></a>"
      ]
    },
    {
      "cell_type": "markdown",
      "metadata": {
        "id": "Rll8BiMGcw0a"
      },
      "source": [
        "## ⛏ 텍스트에서 특성들을 추출하고 문서 분류기를 만들어 보겠습니다."
      ]
    },
    {
      "cell_type": "markdown",
      "metadata": {
        "id": "aQTs6vWEcw0a"
      },
      "source": [
        "Sklearn 파이프라인을 사용하면 머신러닝 프로세스에 사용되는 여러 컴포넌트들을 쉽게 연결할 수 있었습니다.\n",
        "\n",
        "이번에는 파이프라인을 이용해 코퍼스 입력, 차원 축소, 학습 프로세스를 진행해 보겠습니다.\n",
        "\n",
        "벡터화 과정중에 n-gram 범위, 최대 토큰의 수 같은 하이퍼파라미터들을 수정해 가며 실험을 해 보아야 합니다."
      ]
    },
    {
      "cell_type": "code",
      "metadata": {
        "id": "HrJ9-RkBcw0a"
      },
      "source": [
        "from sklearn.pipeline import Pipeline\n",
        "from sklearn.datasets import fetch_20newsgroups #뉴스그룹 문서 데이터셋\n",
        "from sklearn.ensemble import RandomForestClassifier\n",
        "from sklearn.model_selection import GridSearchCV\n",
        "from sklearn.feature_extraction.text import TfidfVectorizer"
      ],
      "execution_count": 1,
      "outputs": []
    },
    {
      "cell_type": "markdown",
      "metadata": {
        "id": "lFH03a_Xcw0b"
      },
      "source": [
        "20개 뉴스그룹으로 분류된 18,000개의 뉴스그룹 문서 데이터셋 입니다.\n",
        "- [20newsgroups](https://scikit-learn.org/stable/modules/generated/sklearn.datasets.fetch_20newsgroups.html#sklearn.datasets.fetch_20newsgroups)\n",
        "- 전자와 정치에 관한 두 개의 다른 카테고리 뉴스를 가져오겠습니다.\n"
      ]
    },
    {
      "cell_type": "code",
      "metadata": {
        "id": "tB_MPmeacw0b",
        "colab": {
          "base_uri": "https://localhost:8080/"
        },
        "outputId": "a4e1ba31-8b98-4223-e713-245e67b7ad7d"
      },
      "source": [
        "categories = ['sci.electronics',\n",
        "              'talk.politics.misc']\n",
        "\n",
        "ng_train = fetch_20newsgroups(subset='train'\n",
        "                             , remove=('headers', 'footers', 'quotes')\n",
        "                             , categories=categories\n",
        "                             )\n",
        "\n",
        "ng_test = fetch_20newsgroups(subset='test'\n",
        "                             , remove=('headers', 'footers', 'quotes')\n",
        "                             , categories=categories\n",
        "                             )"
      ],
      "execution_count": 2,
      "outputs": [
        {
          "output_type": "stream",
          "text": [
            "Downloading 20news dataset. This may take a few minutes.\n",
            "Downloading dataset from https://ndownloader.figshare.com/files/5975967 (14 MB)\n"
          ],
          "name": "stderr"
        }
      ]
    },
    {
      "cell_type": "markdown",
      "metadata": {
        "id": "jU0Jt2iNcw0b"
      },
      "source": [
        "학습, 테스트 데이터가 분리되어 있습니다."
      ]
    },
    {
      "cell_type": "code",
      "metadata": {
        "id": "qYp4f-SScw0b",
        "colab": {
          "base_uri": "https://localhost:8080/"
        },
        "outputId": "133d9331-8f0e-4344-9808-af6f5e047b2a"
      },
      "source": [
        "len(ng_train.data), len(ng_test.data)"
      ],
      "execution_count": 3,
      "outputs": [
        {
          "output_type": "execute_result",
          "data": {
            "text/plain": [
              "(1056, 703)"
            ]
          },
          "metadata": {
            "tags": []
          },
          "execution_count": 3
        }
      ]
    },
    {
      "cell_type": "markdown",
      "metadata": {
        "id": "URUyGDqvcw0c"
      },
      "source": [
        "한 문서를 확인해 보겠습니다."
      ]
    },
    {
      "cell_type": "code",
      "metadata": {
        "id": "Bxl1DlbAcw0c",
        "colab": {
          "base_uri": "https://localhost:8080/",
          "height": 142
        },
        "outputId": "30000aee-c59d-437a-dda0-9b12b740e72e"
      },
      "source": [
        "ng_train.data[5]"
      ],
      "execution_count": 4,
      "outputs": [
        {
          "output_type": "execute_result",
          "data": {
            "application/vnd.google.colaboratory.intrinsic+json": {
              "type": "string"
            },
            "text/plain": [
              "\"\\nMight be a good idea...  The resolution you requested is about 0.3mV\\nIn order to get what you've paid for, noise level better be lower than\\nthat.  It is kind of hard to do it in a noisy box like you can expect\\ninside a PC.\\n\\nBefore you pay $$$ for a PC card, test it out by sampling a low\\ndistortion sine wave (I think there is a sine wave on a CD.  Digital\\nDomain ?  There are possibly other low THD sources)  Run the digitized\\nwaveform through a FFT transform and take alook at the noise floor on\\nthe spectrum.  That's should give you a good indication of the design.\\n(That's what I am doing to test a data acquistion system I have designed\\n- I got the idea from MAXIM data sheet.)\\n\\nIf you can live with 14 bit resolution, I would recommend looking at\\nthe MAX121 from MAXIM.  It is a high speed (308KHz) complete\\nsampling A/D with DSP interface.  The input range is +/- 5V and it\\nuses a serial interface (which can easily be optically isolated\\nfrom the computer to elinimate a major noise source)  The Analog design\\nguide I got from them shows a -100db noise level.  They claim a -77db\\nmax (-85 typ.) THD.  Looks pretty good for the $12 @ 1000 pieces\\n\\nA evaluation kit is available.  Might want to give these nice folks a\\ncall.  1-800-998-8800 or fax: (408)737-7194 and (408) 737-7600 ext4000\\nfor application assistance.\\n\\nThis assumes that you can build your own DAS and write your own software.\\n(Hey you can get the MAX121 as a free sample just by calling the 1-800 #)\\n\\n\\nI would recommend you to find out the resolution that can be gotten out\\nof your system by looking at the noise level, otherwise you might be\\nthrowing out your money.\\n\\n\\nK. C. Lee\\nElec. Eng. Grad. Student\""
            ]
          },
          "metadata": {
            "tags": []
          },
          "execution_count": 4
        }
      ]
    },
    {
      "cell_type": "markdown",
      "metadata": {
        "id": "FL7Bkvbrcw0c"
      },
      "source": [
        "이 문서의 타겟 레이블 입니다"
      ]
    },
    {
      "cell_type": "code",
      "metadata": {
        "id": "zJYcdu4Icw0c",
        "colab": {
          "base_uri": "https://localhost:8080/"
        },
        "outputId": "5e14b4d3-0b97-490e-b1bc-08f1e00a592b"
      },
      "source": [
        "ng_train.target[5]"
      ],
      "execution_count": 5,
      "outputs": [
        {
          "output_type": "execute_result",
          "data": {
            "text/plain": [
              "0"
            ]
          },
          "metadata": {
            "tags": []
          },
          "execution_count": 5
        }
      ]
    },
    {
      "cell_type": "code",
      "metadata": {
        "id": "u6QaGCSjcw0d",
        "colab": {
          "base_uri": "https://localhost:8080/"
        },
        "outputId": "2baba190-4c1e-4326-d279-5155dba2c906"
      },
      "source": [
        "ng_train.target_names"
      ],
      "execution_count": 6,
      "outputs": [
        {
          "output_type": "execute_result",
          "data": {
            "text/plain": [
              "['sci.electronics', 'talk.politics.misc']"
            ]
          },
          "metadata": {
            "tags": []
          },
          "execution_count": 6
        }
      ]
    },
    {
      "cell_type": "markdown",
      "metadata": {
        "id": "i_LAH5Sao0lW"
      },
      "source": [
        "\n",
        "\n",
        "---\n",
        "\n"
      ]
    },
    {
      "cell_type": "markdown",
      "metadata": {
        "id": "zQ8Qfh_ccw0d"
      },
      "source": [
        "### 데이터를 살펴봅시다\n",
        "- [Step 1: Gather Data](https://developers.google.com/machine-learning/guides/text-classification/step-1)\n",
        "\n",
        "- [Step 2: Explore Your Data](https://developers.google.com/machine-learning/guides/text-classification/step-2)\n",
        "\n",
        "학습 모델을 만드는 일은 데이터 분석 과정 중 한 부분입니다. \n",
        "\n",
        "모델링 전 데이터의 특성을 확인하고 이해하는 과정을 통해 더욱 좋은 모델을 만들 수 있게 됩니다. \n",
        "\n",
        "데이터를 미리 잘 살펴보면 더 적은 데이터로 더 높은 성능을 가진 모델을 만들 수도 있습니다.\n",
        "\n",
        "- [explore_data.py](https://github.com/google/eng-edu/blob/master/ml/guides/text_classification/explore_data.py) 파일은 ipynb 폴더에 다운받아 import 하여 사용하세요\n",
        "\n",
        "- [Direct Download Link](https://ds-lecture-data.s3.ap-northeast-2.amazonaws.com/etc/explore_data.py)\n",
        "\n"
      ]
    },
    {
      "cell_type": "code",
      "metadata": {
        "id": "0p3OiXx9r0Up",
        "colab": {
          "resources": {
            "http://localhost:8080/nbextensions/google.colab/files.js": {
              "data": "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",
              "ok": true,
              "headers": [
                [
                  "content-type",
                  "application/javascript"
                ]
              ],
              "status": 200,
              "status_text": ""
            }
          },
          "base_uri": "https://localhost:8080/",
          "height": 114
        },
        "outputId": "e6c8d26b-d13e-4c26-87b7-d63fff19e989"
      },
      "source": [
        "from google.colab import files\n",
        "\n",
        "uploaded = files.upload()\n",
        "\n",
        "for filename in uploaded.keys():\n",
        "    print(uploaded[filename])"
      ],
      "execution_count": 7,
      "outputs": [
        {
          "output_type": "display_data",
          "data": {
            "text/html": [
              "\n",
              "     <input type=\"file\" id=\"files-df2bb9c5-4c55-4f9d-80ff-bff4c57e0de7\" name=\"files[]\" multiple disabled\n",
              "        style=\"border:none\" />\n",
              "     <output id=\"result-df2bb9c5-4c55-4f9d-80ff-bff4c57e0de7\">\n",
              "      Upload widget is only available when the cell has been executed in the\n",
              "      current browser session. Please rerun this cell to enable.\n",
              "      </output>\n",
              "      <script src=\"/nbextensions/google.colab/files.js\"></script> "
            ],
            "text/plain": [
              "<IPython.core.display.HTML object>"
            ]
          },
          "metadata": {
            "tags": []
          }
        },
        {
          "output_type": "stream",
          "text": [
            "Saving explore_data.py to explore_data.py\n",
            "b'\"\"\"Module to explore data.\\nContains functions to help study, visualize and understand datasets.\\n\"\"\"\\nfrom __future__ import absolute_import\\nfrom __future__ import division\\nfrom __future__ import print_function\\n\\nimport numpy as np\\nimport matplotlib.pyplot as plt\\n\\nfrom collections import Counter\\nfrom sklearn.feature_extraction.text import CountVectorizer\\n\\n\\ndef get_num_classes(labels):\\n    \"\"\"Gets the total number of classes.\\n    # Arguments\\n        labels: list, label values.\\n            There should be at lease one sample for values in the\\n            range (0, num_classes -1)\\n    # Returns\\n        int, total number of classes.\\n    # Raises\\n        ValueError: if any label value in the range(0, num_classes - 1)\\n            is missing or if number of classes is <= 1.\\n    \"\"\"\\n    num_classes = max(labels) + 1\\n    missing_classes = [i for i in range(num_classes) if i not in labels]\\n    if len(missing_classes):\\n        raise ValueError(\\'Missing samples with label value(s) \\'\\n                         \\'{missing_classes}. Please make sure you have \\'\\n                         \\'at least one sample for every label value \\'\\n                         \\'in the range(0, {max_class})\\'.format(\\n                            missing_classes=missing_classes,\\n                            max_class=num_classes - 1))\\n\\n    if num_classes <= 1:\\n        raise ValueError(\\'Invalid number of labels: {num_classes}.\\'\\n                         \\'Please make sure there are at least two classes \\'\\n                         \\'of samples\\'.format(num_classes=num_classes))\\n    return num_classes\\n\\n\\ndef get_num_words_per_sample(sample_texts):\\n    \"\"\"Gets the median number of words per sample given corpus.\\n    # Arguments\\n        sample_texts: list, sample texts.\\n    # Returns\\n        int, median number of words per sample.\\n    \"\"\"\\n    num_words = [len(s.split()) for s in sample_texts]\\n    return np.median(num_words)\\n\\n\\ndef plot_frequency_distribution_of_ngrams(sample_texts,\\n                                          ngram_range=(1, 2),\\n                                          num_ngrams=50):\\n    \"\"\"Plots the frequency distribution of n-grams.\\n    # Arguments\\n        samples_texts: list, sample texts.\\n        ngram_range: tuple (min, mplt), The range of n-gram values to consider.\\n            Min and mplt are the lower and upper bound values for the range.\\n        num_ngrams: int, number of n-grams to plot.\\n            Top `num_ngrams` frequent n-grams will be plotted.\\n    \"\"\"\\n    # Create args required for vectorizing.\\n    kwargs = {\\n            \\'ngram_range\\': (1, 1),\\n            \\'dtype\\': \\'int32\\',\\n            \\'strip_accents\\': \\'unicode\\',\\n            \\'decode_error\\': \\'replace\\',\\n            \\'analyzer\\': \\'word\\',  # Split text into word tokens.\\n    }\\n    vectorizer = CountVectorizer(**kwargs)\\n\\n    # This creates a vocabulary (dict, where keys are n-grams and values are\\n    # idxices). This also converts every text to an array the length of\\n    # vocabulary, where every element idxicates the count of the n-gram\\n    # corresponding at that idxex in vocabulary.\\n    vectorized_texts = vectorizer.fit_transform(sample_texts)\\n\\n    # This is the list of all n-grams in the index order from the vocabulary.\\n    all_ngrams = list(vectorizer.get_feature_names())\\n    num_ngrams = min(num_ngrams, len(all_ngrams))\\n    # ngrams = all_ngrams[:num_ngrams]\\n\\n    # Add up the counts per n-gram ie. column-wise\\n    all_counts = vectorized_texts.sum(axis=0).tolist()[0]\\n\\n    # Sort n-grams and counts by frequency and get top `num_ngrams` ngrams.\\n    all_counts, all_ngrams = zip(*[(c, n) for c, n in sorted(\\n        zip(all_counts, all_ngrams), reverse=True)])\\n    ngrams = list(all_ngrams)[:num_ngrams]\\n    counts = list(all_counts)[:num_ngrams]\\n\\n    idx = np.arange(num_ngrams)\\n    plt.bar(idx, counts, width=0.8, color=\\'b\\')\\n    plt.xlabel(\\'N-grams\\')\\n    plt.ylabel(\\'Frequencies\\')\\n    plt.title(\\'Frequency distribution of n-grams\\')\\n    plt.xticks(idx, ngrams, rotation=45)\\n    plt.show()\\n\\n\\ndef plot_sample_length_distribution(sample_texts):\\n    \"\"\"Plots the sample length distribution.\\n    # Arguments\\n        samples_texts: list, sample texts.\\n    \"\"\"\\n    plt.hist([len(s) for s in sample_texts], 50)\\n    plt.xlabel(\\'Length of a sample\\')\\n    plt.ylabel(\\'Number of samples\\')\\n    plt.title(\\'Sample length distribution\\')\\n    plt.show()\\n\\n\\ndef plot_class_distribution(labels):\\n    \"\"\"Plots the class distribution.\\n    # Arguments\\n        labels: list, label values.\\n            There should be at lease one sample for values in the\\n            range (0, num_classes -1)\\n    \"\"\"\\n    num_classes = get_num_classes(labels)\\n    count_map = Counter(labels)\\n    counts = [count_map[i] for i in range(num_classes)]\\n    idx = np.arange(num_classes)\\n    plt.bar(idx, counts, width=0.8, color=\\'b\\')\\n    plt.xlabel(\\'Class\\')\\n    plt.ylabel(\\'Number of samples\\')\\n    plt.title(\\'Class distribution\\')\\n    plt.xticks(idx, idx)\\n    plt.show()'\n"
          ],
          "name": "stdout"
        }
      ]
    },
    {
      "cell_type": "code",
      "metadata": {
        "id": "cWdlj3qqcw0d"
      },
      "source": [
        "# 그냥 실핼하면 에러가 날 수 있습니다. \n",
        "# 위 'Direct Download Link'에서 explore_data를 다운받은 뒤 업로드해서 사용합니다. \n",
        "import explore_data as ed\n",
        "import seaborn as sns"
      ],
      "execution_count": 8,
      "outputs": []
    },
    {
      "cell_type": "code",
      "metadata": {
        "id": "-FyEX7QLcw0d",
        "colab": {
          "base_uri": "https://localhost:8080/"
        },
        "outputId": "8a15b63a-8ddb-45c0-81c0-7344ac996197"
      },
      "source": [
        "# Gets the median number of words per sample given corpus.\n",
        "median_words_per_sample = ed.get_num_words_per_sample(ng_train.data)\n",
        "print('Median words per sample: ', median_words_per_sample)"
      ],
      "execution_count": 9,
      "outputs": [
        {
          "output_type": "stream",
          "text": [
            "Median words per sample:  91.0\n"
          ],
          "name": "stdout"
        }
      ]
    },
    {
      "cell_type": "code",
      "metadata": {
        "id": "wXwjr9-Ucw0d",
        "colab": {
          "base_uri": "https://localhost:8080/",
          "height": 295
        },
        "outputId": "857ce7be-b6d3-4a3b-89cc-74b44bafe248"
      },
      "source": [
        "# 데이터 길이 확인\n",
        "ed.plot_sample_length_distribution(ng_train.data)"
      ],
      "execution_count": 10,
      "outputs": [
        {
          "output_type": "display_data",
          "data": {
            "image/png": "[encoded data removed]",
            "text/plain": [
              "<Figure size 432x288 with 1 Axes>"
            ]
          },
          "metadata": {
            "tags": [],
            "needs_background": "light"
          }
        }
      ]
    },
    {
      "cell_type": "code",
      "metadata": {
        "id": "3d6pkZEQcw0e",
        "colab": {
          "base_uri": "https://localhost:8080/",
          "height": 295
        },
        "outputId": "17429b4a-77c8-4f7a-9931-c0e049273f83"
      },
      "source": [
        "# 전자와 정치 두 카테고리 확인\n",
        "ed.plot_class_distribution(ng_train.target)"
      ],
      "execution_count": 11,
      "outputs": [
        {
          "output_type": "display_data",
          "data": {
            "image/png": "[encoded data removed]",
            "text/plain": [
              "<Figure size 432x288 with 1 Axes>"
            ]
          },
          "metadata": {
            "tags": [],
            "needs_background": "light"
          }
        }
      ]
    },
    {
      "cell_type": "code",
      "metadata": {
        "id": "TijdMKoocw0e"
      },
      "source": [
        "import matplotlib.pyplot as plt\n",
        "plt.rcParams[\"figure.figsize\"] = [15, 4]"
      ],
      "execution_count": 12,
      "outputs": []
    },
    {
      "cell_type": "code",
      "metadata": {
        "id": "cKxlSOYJcw0e",
        "colab": {
          "base_uri": "https://localhost:8080/",
          "height": 316
        },
        "outputId": "17f00706-2d52-453f-8bd7-d5d3c15b5f32"
      },
      "source": [
        "# Plots the frequency distribution of n-grams.\n",
        "ed.plot_frequency_distribution_of_ngrams(ng_train.data\n",
        "                                     , ngram_range=(1, 2)\n",
        "                                     , num_ngrams=50)"
      ],
      "execution_count": 13,
      "outputs": [
        {
          "output_type": "display_data",
          "data": {
            "image/png": "[encoded data removed]",
            "text/plain": [
              "<Figure size 1080x288 with 1 Axes>"
            ]
          },
          "metadata": {
            "tags": [],
            "needs_background": "light"
          }
        }
      ]
    },
    {
      "cell_type": "markdown",
      "metadata": {
        "id": "usaBEUqbpSCA"
      },
      "source": [
        "\n",
        "\n",
        "---\n",
        "\n"
      ]
    },
    {
      "cell_type": "markdown",
      "metadata": {
        "id": "5mY9oiF5cw0e"
      },
      "source": [
        "### 모델은 어떻게 선택할까요? \n",
        "- [Step 2.5: Choose a Model](https://developers.google.com/machine-learning/guides/text-classification/step-2-5)\n",
        "\n",
        "앞서 간단히 살펴본 데이터의 수치를 기반해서 2.5단계에서는 어떤 분류 모델을 사용할 것인지 선택을 해 보겠습니다.\n",
        "\n",
        "다음 플로우차트에서 어떻게 분류 모델을 선택해야 하는지 구글에서 수행한 여러 실험 결과를 가지고 간략한 가이드를 제공합니다. 목표는 주어진 데이터세트에서 가능한 최선의 정확도를 낼 수 있고 동시에 학습계산량을 줄이는 것이었습니다. 최적의 방법을 찾기 위해 감성분석, 토픽 분류 등 여러 문제들에 대한 12개의 데이터 세트를 사용했으며 또한 여러 학습 모델구조를 사용해 45만번 이상의 실험을 수행하였습니다.\n",
        "\n",
        "![flowchart](https://developers.google.com/machine-learning/guides/text-classification/images/TextClassificationFlowchart.png)"
      ]
    },
    {
      "cell_type": "code",
      "metadata": {
        "id": "TWqvu-skcw0f",
        "colab": {
          "base_uri": "https://localhost:8080/"
        },
        "outputId": "1d9a9c40-3867-465e-d107-8e61da530a87"
      },
      "source": [
        "# 데이터 출처... \n",
        "# categories = ['sci.electronics',\n",
        "#               'talk.politics.misc']\n",
        "\n",
        "# ng_train = fetch_20newsgroups(subset='train'\n",
        "#                              , remove=('headers', 'footers', 'quotes')\n",
        "#                              , categories=categories\n",
        "#                              )\n",
        "\n",
        "# ng_test = fetch_20newsgroups(subset='test'\n",
        "#                              , remove=('headers', 'footers', 'quotes')\n",
        "#                              , categories=categories\n",
        "#                              )\n",
        "\n",
        "# S/W ratio를 계산해 봅시다, 구글 flowchar에 따르면,\n",
        "# S/W < 1500 일 경우 BoW 를 사용해 벡터화 하고 simple MLP 모델 or 앙상블 모델을 사용하는것을 추천하고 있습니다.\n",
        "sw_ratio = len(ng_train.data) / median_words_per_sample\n",
        "print('number of samples / median words per sample ratio: ', int(sw_ratio))"
      ],
      "execution_count": 14,
      "outputs": [
        {
          "output_type": "stream",
          "text": [
            "number of samples / median words per sample ratio:  11\n"
          ],
          "name": "stdout"
        }
      ]
    },
    {
      "cell_type": "markdown",
      "metadata": {
        "id": "Dp6d-P1Zcw0f"
      },
      "source": [
        "### TF-IDF 모델로 베이스라인을 만들어 봅시다"
      ]
    },
    {
      "cell_type": "code",
      "metadata": {
        "id": "ACEA2Gu1cw0f"
      },
      "source": [
        "# 파이프라인 구성 요소를 만듭니다\n",
        "vect = TfidfVectorizer(stop_words='english', ngram_range=(1,2))\n",
        "rfc = RandomForestClassifier()"
      ],
      "execution_count": 15,
      "outputs": []
    },
    {
      "cell_type": "code",
      "metadata": {
        "id": "7qJydSP4cw0f",
        "colab": {
          "base_uri": "https://localhost:8080/"
        },
        "outputId": "01f07fbc-5cfe-4fe9-d23c-efcd265dad01"
      },
      "source": [
        "import pandas as pd\n",
        "\n",
        "# DTM을 생성합니다.\n",
        "# fit_transform : Learn vocabulary and idf, return document-term matrix.\n",
        "dtm = vect.fit_transform(ng_train.data) \n",
        "\n",
        "dtm = pd.DataFrame(dtm.todense(), columns=vect.get_feature_names())\n",
        "dtm.shape"
      ],
      "execution_count": 16,
      "outputs": [
        {
          "output_type": "execute_result",
          "data": {
            "text/plain": [
              "(1056, 97372)"
            ]
          },
          "metadata": {
            "tags": []
          },
          "execution_count": 16
        }
      ]
    },
    {
      "cell_type": "code",
      "metadata": {
        "id": "DLfA9rMgcw0f",
        "colab": {
          "base_uri": "https://localhost:8080/"
        },
        "outputId": "afef500e-0408-4af2-aa36-6603fb39efbb"
      },
      "source": [
        "# 파이프라인을 정의합니다\n",
        "pipe = Pipeline([\n",
        "    ('vect',vect)\n",
        "    ,('clf', rfc)\n",
        "])\n",
        "pipe"
      ],
      "execution_count": 17,
      "outputs": [
        {
          "output_type": "execute_result",
          "data": {
            "text/plain": [
              "Pipeline(memory=None,\n",
              "         steps=[('vect',\n",
              "                 TfidfVectorizer(analyzer='word', binary=False,\n",
              "                                 decode_error='strict',\n",
              "                                 dtype=<class 'numpy.float64'>,\n",
              "                                 encoding='utf-8', input='content',\n",
              "                                 lowercase=True, max_df=1.0, max_features=None,\n",
              "                                 min_df=1, ngram_range=(1, 2), norm='l2',\n",
              "                                 preprocessor=None, smooth_idf=True,\n",
              "                                 stop_words='english', strip_accents=None,\n",
              "                                 sublinear_tf=False,\n",
              "                                 token_patte...\n",
              "                 RandomForestClassifier(bootstrap=True, ccp_alpha=0.0,\n",
              "                                        class_weight=None, criterion='gini',\n",
              "                                        max_depth=None, max_features='auto',\n",
              "                                        max_leaf_nodes=None, max_samples=None,\n",
              "                                        min_impurity_decrease=0.0,\n",
              "                                        min_impurity_split=None,\n",
              "                                        min_samples_leaf=1, min_samples_split=2,\n",
              "                                        min_weight_fraction_leaf=0.0,\n",
              "                                        n_estimators=100, n_jobs=None,\n",
              "                                        oob_score=False, random_state=None,\n",
              "                                        verbose=0, warm_start=False))],\n",
              "         verbose=False)"
            ]
          },
          "metadata": {
            "tags": []
          },
          "execution_count": 17
        }
      ]
    },
    {
      "cell_type": "code",
      "metadata": {
        "id": "noL1qns7cw0g",
        "colab": {
          "base_uri": "https://localhost:8080/"
        },
        "outputId": "26a81c7f-0643-4dcb-b52c-93a16b71f8c0"
      },
      "source": [
        "# 파라미터 셋팅\n",
        "parameters = {\n",
        "    'vect__max_df': (0.7, 1.0) # document frequency(%) 높을 경우 제거\n",
        "    ,'vect__min_df': (2, 5, 10) # document frequency(횟수) 낮을 경우 제거\n",
        "    ,'vect__max_features': (5000, 20000) # 코퍼스에서 term frequency 높은 순서대로 나열하여 제한\n",
        "    ,'clf__n_estimators': (100, 500) # The number of trees in the forest.\n",
        "    ,'clf__max_depth': (10, 20, None) # The maximum depth of the tree\n",
        "}\n",
        "\n",
        "grid_search = GridSearchCV(pipe, parameters, cv=5, n_jobs=-1, verbose=1)\n",
        "grid_search.fit(ng_train.data, ng_train.target)\n"
      ],
      "execution_count": 18,
      "outputs": [
        {
          "output_type": "stream",
          "text": [
            "Fitting 5 folds for each of 72 candidates, totalling 360 fits\n"
          ],
          "name": "stdout"
        },
        {
          "output_type": "stream",
          "text": [
            "[Parallel(n_jobs=-1)]: Using backend LokyBackend with 2 concurrent workers.\n",
            "[Parallel(n_jobs=-1)]: Done  46 tasks      | elapsed:   24.3s\n",
            "[Parallel(n_jobs=-1)]: Done 196 tasks      | elapsed:  2.6min\n",
            "[Parallel(n_jobs=-1)]: Done 360 out of 360 | elapsed:  6.4min finished\n"
          ],
          "name": "stderr"
        },
        {
          "output_type": "execute_result",
          "data": {
            "text/plain": [
              "GridSearchCV(cv=5, error_score=nan,\n",
              "             estimator=Pipeline(memory=None,\n",
              "                                steps=[('vect',\n",
              "                                        TfidfVectorizer(analyzer='word',\n",
              "                                                        binary=False,\n",
              "                                                        decode_error='strict',\n",
              "                                                        dtype=<class 'numpy.float64'>,\n",
              "                                                        encoding='utf-8',\n",
              "                                                        input='content',\n",
              "                                                        lowercase=True,\n",
              "                                                        max_df=1.0,\n",
              "                                                        max_features=None,\n",
              "                                                        min_df=1,\n",
              "                                                        ngram_range=(1, 2),\n",
              "                                                        norm='l2',\n",
              "                                                        preprocessor=None,\n",
              "                                                        smooth_idf=True,\n",
              "                                                        stop_words='english',\n",
              "                                                        strip...\n",
              "                                                               n_jobs=None,\n",
              "                                                               oob_score=False,\n",
              "                                                               random_state=None,\n",
              "                                                               verbose=0,\n",
              "                                                               warm_start=False))],\n",
              "                                verbose=False),\n",
              "             iid='deprecated', n_jobs=-1,\n",
              "             param_grid={'clf__max_depth': (10, 20, None),\n",
              "                         'clf__n_estimators': (100, 500),\n",
              "                         'vect__max_df': (0.7, 1.0),\n",
              "                         'vect__max_features': (5000, 20000),\n",
              "                         'vect__min_df': (2, 5, 10)},\n",
              "             pre_dispatch='2*n_jobs', refit=True, return_train_score=False,\n",
              "             scoring=None, verbose=1)"
            ]
          },
          "metadata": {
            "tags": []
          },
          "execution_count": 18
        }
      ]
    },
    {
      "cell_type": "code",
      "metadata": {
        "id": "Z0EaF-A1cw0g",
        "colab": {
          "base_uri": "https://localhost:8080/"
        },
        "outputId": "19320959-0078-4fec-9aaf-7cc8df0b641a"
      },
      "source": [
        "grid_search.best_score_"
      ],
      "execution_count": 19,
      "outputs": [
        {
          "output_type": "execute_result",
          "data": {
            "text/plain": [
              "0.9052982205132791"
            ]
          },
          "metadata": {
            "tags": []
          },
          "execution_count": 19
        }
      ]
    },
    {
      "cell_type": "code",
      "metadata": {
        "id": "Sff53Hfxcw0g",
        "colab": {
          "base_uri": "https://localhost:8080/"
        },
        "outputId": "8f086347-1bc0-4198-afa6-999b6c052768"
      },
      "source": [
        "grid_search.best_params_"
      ],
      "execution_count": 20,
      "outputs": [
        {
          "output_type": "execute_result",
          "data": {
            "text/plain": [
              "{'clf__max_depth': None,\n",
              " 'clf__n_estimators': 500,\n",
              " 'vect__max_df': 1.0,\n",
              " 'vect__max_features': 20000,\n",
              " 'vect__min_df': 2}"
            ]
          },
          "metadata": {
            "tags": []
          },
          "execution_count": 20
        }
      ]
    },
    {
      "cell_type": "code",
      "metadata": {
        "id": "XNNO8lvPcw0g",
        "colab": {
          "base_uri": "https://localhost:8080/"
        },
        "outputId": "b7309aa5-5358-4d80-a6e7-5aa4b24f2191"
      },
      "source": [
        "from sklearn.metrics import accuracy_score\n",
        "\n",
        "# 테스트 데이터에 대해 정확도를 구해보겠습니다\n",
        "y_test = grid_search.predict(ng_test.data)\n",
        "accuracy_score(ng_test.target, y_test)"
      ],
      "execution_count": 21,
      "outputs": [
        {
          "output_type": "execute_result",
          "data": {
            "text/plain": [
              "0.89900426742532"
            ]
          },
          "metadata": {
            "tags": []
          },
          "execution_count": 21
        }
      ]
    },
    {
      "cell_type": "markdown",
      "metadata": {
        "id": "96o5cDQuLuj6"
      },
      "source": [
        "---"
      ]
    },
    {
      "cell_type": "markdown",
      "metadata": {
        "id": "IrYyMDPwcw0g"
      },
      "source": [
        "## 잠재의미분석(Latent Semantic Analysis, LSA)\n",
        "\n",
        "\n",
        "잠재의미분석(LSA)는 Word2Vec, BoW 등의 방법론을 사용해 만든 문서-단어행렬(DTM) 데이터의 차원을 축소해 문서들에 숨어있는(latent) 의미(Topics)를 끌어내는 방법입니다.\n",
        "\n",
        "이때 차원 축소에는 Truncated SVD(특이값 분해)를 사용해 원하는 문서나, 단어의 차원을 축소합니다.\n",
        "\n",
        "물론 차원이 축소가 되더라도 기존에 문서나, 단어들 간의 거리관계는 어느정도 보존이 됩니다.\n",
        "\n",
        "\n",
        "<img src=\"https://www.researchgate.net/profile/Konstantinos_Bougiatiotis/publication/321025221/figure/fig9/AS:668660309962763@1536432449448/Singular-value-decomposition-followed-by-rank-lowering-for-latent-semantic-indexing.jpg\" alt=\"Singular value decomposition followed by rank lowering for latent semantic indexing\"/>"
      ]
    },
    {
      "cell_type": "markdown",
      "metadata": {
        "id": "F4h2qAZ8cw0g"
      },
      "source": [
        "SVD를 사용해 행렬 $A$를 $U, Σ, V^{T}$ 세 행렬의 곱으로 분해(decomposion) 합니다.\n",
        "\n",
        "> $A=UΣV^{T}$\n",
        "\n",
        "여기서 $U$, $V$가 직교행렬(orthogonal matrix) 이고, $Σ$는 대각행렬로 대각성분이 특이값(singular value)입니다.\n",
        "\n",
        "$U$, $V$가 직교행렬(orthogonal matrix)일 때 $UU^T=U^TU=I$, $VV^T=V^TV=I$ 관계가 성립하므로\n",
        "\n",
        "> $AV=UΣ$  입니다\n",
        "\n",
        "$U$ 와 $V^T$ 의 열 벡터는 특이벡터(singular vector)라 불리는데\n",
        "\n",
        "Truncated SVD는 특이값(singular value, $Σ$ 대각성분) 가운데 가장 큰 k개만 남기고 해당 특이값에 대응하는 특이벡터들로 원래 행렬 A를 근사하는 방법입니다.\n",
        "\n",
        "물론 0보다 큰 특이값을 제거하면 정보의 손실이 발생하므로 적당히 필요한 차원만큼 k를 선택합니다.\n",
        "\n",
        "다음 그림에서 k값 선택에 따른 정보 손실을 확인할 수 있습니다.\n",
        "\n",
        "<img src=\"https://i.imgur.com/Dica82I.png\" width=\"600\" />\n",
        "\n",
        "\n",
        "행렬은 선형변환으로 볼 수 있으므로, $V$의 열벡터들을 $A$를 통해 선형변환하면 $Σ$의 특이값 만큼 크기가 변하면서 여전히 직교하는 $U$의 열벡터들을 얻을 수 있다는 것입니다.\n",
        "\n",
        "\n",
        "여기서 만약 m개 문서, n개 단어로 이루어진 행렬을 truncated SVD로 분해해 다음과 같은 분해를 수행 했다면 다음과 같은 근사 식을 얻을 것이며\n",
        "\n",
        "$$A_k=U_kΣ_kV^{T}_k$$\n",
        "\n",
        "$U_k$와 $V_k$를 사용해 n차원으로 표현 되었던 문서를 k차원으로, 또는 m 차원으로 표현되었던 단어를 k 차원으로 표현할 수 있게 됩니다.\n"
      ]
    },
    {
      "cell_type": "markdown",
      "metadata": {
        "id": "LAxGoxDTqwBB"
      },
      "source": [
        "\n",
        "\n",
        "---\n",
        "\n"
      ]
    },
    {
      "cell_type": "markdown",
      "metadata": {
        "id": "tee6pqmacw0h"
      },
      "source": [
        "#### TruncatedSVD 를 사용하여 파이프라인에서 차원을 축소하고 분류문제를 풀어보겠습니다."
      ]
    },
    {
      "cell_type": "code",
      "metadata": {
        "id": "i5fOjWzNcw0h"
      },
      "source": [
        "import numpy as np\n",
        "import scipy.stats as stats\n",
        "from sklearn.model_selection import RandomizedSearchCV\n",
        "from sklearn.feature_extraction.text import TfidfVectorizer\n",
        "\n",
        "# SVD를 사용한 차원 축소\n",
        "from sklearn.decomposition import TruncatedSVD\n",
        "\n",
        "vect = TfidfVectorizer(stop_words='english'\n",
        "                       , ngram_range=(1,2)\n",
        "                       , min_df=2\n",
        "                       , max_df=0.7\n",
        "                       , token_pattern=r'(?u)\\b\\w[A-Za-z]+\\b' # 영문자만 사용\n",
        "                       , max_features=10000\n",
        "                      )\n",
        "\n",
        "svd = TruncatedSVD(algorithm='randomized'\n",
        "                   , n_iter=5\n",
        "                   , random_state=2)\n",
        "\n",
        "rfc = RandomForestClassifier(n_estimators=500, random_state=2)"
      ],
      "execution_count": 22,
      "outputs": []
    },
    {
      "cell_type": "code",
      "metadata": {
        "id": "6pqw6H2scw0i"
      },
      "source": [
        "params = {\n",
        "    # 100~500 사이의 정수 크기로 차원을 줄입니다\n",
        "#     'svd__n_components': stats.randint(100, 500)\n",
        "    'svd__n_components': stats.randint(2, 3) # 문서의 차원을 2로 고정\n",
        "    \n",
        "}"
      ],
      "execution_count": 23,
      "outputs": []
    },
    {
      "cell_type": "code",
      "metadata": {
        "id": "uomwXfCwcw0i"
      },
      "source": [
        "# 1.Tfidf 문서 벡터화, 2. svd 차원축소, 3. 랜덤포레스트 분류기\n",
        "pipe = Pipeline([\n",
        "    ('vect', vect)\n",
        "    , ('svd', svd)\n",
        "    , ('clf', rfc)\n",
        "])"
      ],
      "execution_count": 24,
      "outputs": []
    },
    {
      "cell_type": "code",
      "metadata": {
        "id": "Eu3Di4vDcw0i",
        "colab": {
          "base_uri": "https://localhost:8080/"
        },
        "outputId": "bb67c003-bf95-400b-81ff-385d37cc4d24"
      },
      "source": [
        "# Fit\n",
        "random_search = RandomizedSearchCV(pipe,params, cv=3, n_iter=5, n_jobs=-1, verbose=1)\n",
        "random_search.fit(ng_train.data, ng_train.target)"
      ],
      "execution_count": 25,
      "outputs": [
        {
          "output_type": "stream",
          "text": [
            "Fitting 3 folds for each of 5 candidates, totalling 15 fits\n"
          ],
          "name": "stdout"
        },
        {
          "output_type": "stream",
          "text": [
            "[Parallel(n_jobs=-1)]: Using backend LokyBackend with 2 concurrent workers.\n",
            "[Parallel(n_jobs=-1)]: Done  15 out of  15 | elapsed:   15.6s finished\n"
          ],
          "name": "stderr"
        },
        {
          "output_type": "execute_result",
          "data": {
            "text/plain": [
              "RandomizedSearchCV(cv=3, error_score=nan,\n",
              "                   estimator=Pipeline(memory=None,\n",
              "                                      steps=[('vect',\n",
              "                                              TfidfVectorizer(analyzer='word',\n",
              "                                                              binary=False,\n",
              "                                                              decode_error='strict',\n",
              "                                                              dtype=<class 'numpy.float64'>,\n",
              "                                                              encoding='utf-8',\n",
              "                                                              input='content',\n",
              "                                                              lowercase=True,\n",
              "                                                              max_df=0.7,\n",
              "                                                              max_features=10000,\n",
              "                                                              min_df=2,\n",
              "                                                              ngram_range=(1,\n",
              "                                                                           2),\n",
              "                                                              norm='l2',\n",
              "                                                              preprocessor=None,\n",
              "                                                              smooth_idf=True,\n",
              "                                                              stop_words='english...\n",
              "                                                                     n_estimators=500,\n",
              "                                                                     n_jobs=None,\n",
              "                                                                     oob_score=False,\n",
              "                                                                     random_state=2,\n",
              "                                                                     verbose=0,\n",
              "                                                                     warm_start=False))],\n",
              "                                      verbose=False),\n",
              "                   iid='deprecated', n_iter=5, n_jobs=-1,\n",
              "                   param_distributions={'svd__n_components': <scipy.stats._distn_infrastructure.rv_frozen object at 0x7f565c33a490>},\n",
              "                   pre_dispatch='2*n_jobs', random_state=None, refit=True,\n",
              "                   return_train_score=False, scoring=None, verbose=1)"
            ]
          },
          "metadata": {
            "tags": []
          },
          "execution_count": 25
        }
      ]
    },
    {
      "cell_type": "code",
      "metadata": {
        "id": "lSixIHkucw0i",
        "colab": {
          "base_uri": "https://localhost:8080/"
        },
        "outputId": "85ddb2e5-a14d-4e06-a84b-409920547fac"
      },
      "source": [
        "# svd__n_components: Random search에서 선택된 줄어든 차원을 확인할 수 있습니다.\n",
        "random_search.best_params_"
      ],
      "execution_count": 26,
      "outputs": [
        {
          "output_type": "execute_result",
          "data": {
            "text/plain": [
              "{'svd__n_components': 2}"
            ]
          },
          "metadata": {
            "tags": []
          },
          "execution_count": 26
        }
      ]
    },
    {
      "cell_type": "code",
      "metadata": {
        "id": "4jCVajTncw0i",
        "colab": {
          "base_uri": "https://localhost:8080/"
        },
        "outputId": "6bbf0379-af30-410a-b112-e1643d310d54"
      },
      "source": [
        "random_search.best_score_"
      ],
      "execution_count": 27,
      "outputs": [
        {
          "output_type": "execute_result",
          "data": {
            "text/plain": [
              "0.9147727272727272"
            ]
          },
          "metadata": {
            "tags": []
          },
          "execution_count": 27
        }
      ]
    },
    {
      "cell_type": "code",
      "metadata": {
        "id": "UoZUxlzccw0j",
        "colab": {
          "base_uri": "https://localhost:8080/"
        },
        "outputId": "8754d566-126a-433e-c481-408302f62656"
      },
      "source": [
        "# 테스트셋으로 정확도를 계산합니다\n",
        "y_test = random_search.predict(ng_test.data)\n",
        "accuracy_score(ng_test.target, y_test)"
      ],
      "execution_count": 28,
      "outputs": [
        {
          "output_type": "execute_result",
          "data": {
            "text/plain": [
              "0.9075391180654339"
            ]
          },
          "metadata": {
            "tags": []
          },
          "execution_count": 28
        }
      ]
    },
    {
      "cell_type": "code",
      "metadata": {
        "id": "eD052pBScw0j",
        "colab": {
          "base_uri": "https://localhost:8080/"
        },
        "outputId": "7f0f67c9-45d4-4fd2-b774-331e06fa3567"
      },
      "source": [
        "from sklearn.metrics import classification_report\n",
        "\n",
        "print(classification_report(ng_test.target, y_test))"
      ],
      "execution_count": 29,
      "outputs": [
        {
          "output_type": "stream",
          "text": [
            "              precision    recall  f1-score   support\n",
            "\n",
            "           0       0.91      0.93      0.92       393\n",
            "           1       0.91      0.88      0.89       310\n",
            "\n",
            "    accuracy                           0.91       703\n",
            "   macro avg       0.91      0.90      0.91       703\n",
            "weighted avg       0.91      0.91      0.91       703\n",
            "\n"
          ],
          "name": "stdout"
        }
      ]
    },
    {
      "cell_type": "markdown",
      "metadata": {
        "id": "iN7fzCczq9KO"
      },
      "source": [
        "\n",
        "\n",
        "---\n",
        "\n"
      ]
    },
    {
      "cell_type": "markdown",
      "metadata": {
        "id": "uQ2xkx5_cw0j"
      },
      "source": [
        "#### SVD를 따로 수행해서 행렬분해가 어떻게 되는지 확인해 보겠습니다.\n",
        "\n",
        "- randomized_svd를 사용해서 $U$, $\\Sigma$, $V^T$ 행렬을 구해보겠습니다.\n",
        "- randomized_svd는 Truncated SVD에서 내부적으로 사용되는 기능입니다."
      ]
    },
    {
      "cell_type": "code",
      "metadata": {
        "id": "cpw-B8BVcw0j"
      },
      "source": [
        "# 학습 데이터를 TF-IDF vectorizer로 벡터화하여 사용하겠습니다.\n",
        "A = random_search.best_estimator_.named_steps['vect'].transform(ng_train.data).todense()\n",
        "X_test = random_search.best_estimator_.named_steps['vect'].transform(ng_test.data).todense()"
      ],
      "execution_count": 30,
      "outputs": []
    },
    {
      "cell_type": "code",
      "metadata": {
        "id": "OG9MGR7scw0j",
        "colab": {
          "base_uri": "https://localhost:8080/"
        },
        "outputId": "60a630ea-a316-4668-9b87-06e4fc1851e6"
      },
      "source": [
        "# DTM\n",
        "A.shape, X_test.shape"
      ],
      "execution_count": 31,
      "outputs": [
        {
          "output_type": "execute_result",
          "data": {
            "text/plain": [
              "((1056, 10000), (703, 10000))"
            ]
          },
          "metadata": {
            "tags": []
          },
          "execution_count": 31
        }
      ]
    },
    {
      "cell_type": "code",
      "metadata": {
        "id": "-wXozeaHcw0k"
      },
      "source": [
        "# randomized_svd를 사용하여 U, S(Sigma), VT(V transposed) 행렬을 얻습니다\n",
        "from sklearn.utils.extmath import randomized_svd\n",
        "\n",
        "U, S, VT = randomized_svd(A\n",
        "                         , n_components=2 # 상위 특이값 2개를 선택합니다\n",
        "                         , n_iter=5\n",
        "                         , random_state=2)"
      ],
      "execution_count": 32,
      "outputs": []
    },
    {
      "cell_type": "code",
      "metadata": {
        "id": "0IlvM14zcw0k",
        "colab": {
          "base_uri": "https://localhost:8080/"
        },
        "outputId": "87f49173-3c52-43b1-a3b2-56de860f6255"
      },
      "source": [
        "U.shape, S.shape, VT.shape"
      ],
      "execution_count": 33,
      "outputs": [
        {
          "output_type": "execute_result",
          "data": {
            "text/plain": [
              "((1056, 2), (2,), (2, 10000))"
            ]
          },
          "metadata": {
            "tags": []
          },
          "execution_count": 33
        }
      ]
    },
    {
      "cell_type": "code",
      "metadata": {
        "id": "S2YFuXCncw0k",
        "colab": {
          "base_uri": "https://localhost:8080/"
        },
        "outputId": "95793748-a755-4576-cd7a-41c5ec2d67e3"
      },
      "source": [
        "U"
      ],
      "execution_count": 34,
      "outputs": [
        {
          "output_type": "execute_result",
          "data": {
            "text/plain": [
              "array([[ 0.02975338,  0.02040102],\n",
              "       [ 0.0290698 ,  0.04117074],\n",
              "       [ 0.03961388, -0.04253567],\n",
              "       ...,\n",
              "       [ 0.03970262, -0.01638489],\n",
              "       [ 0.03398986,  0.03985268],\n",
              "       [ 0.01414231, -0.01261801]])"
            ]
          },
          "metadata": {
            "tags": []
          },
          "execution_count": 34
        }
      ]
    },
    {
      "cell_type": "code",
      "metadata": {
        "id": "aBZKePKicw0k",
        "colab": {
          "base_uri": "https://localhost:8080/"
        },
        "outputId": "24f25208-b08f-420d-87ef-d41d55babe3d"
      },
      "source": [
        "# 대각 성분(특이값)만 가져왔습니다.\n",
        "S"
      ],
      "execution_count": 35,
      "outputs": [
        {
          "output_type": "execute_result",
          "data": {
            "text/plain": [
              "array([3.92178091, 2.59248335])"
            ]
          },
          "metadata": {
            "tags": []
          },
          "execution_count": 35
        }
      ]
    },
    {
      "cell_type": "code",
      "metadata": {
        "id": "owjWO96Ocw0k",
        "colab": {
          "base_uri": "https://localhost:8080/"
        },
        "outputId": "67392076-a475-4f68-8389-87bc15dd7e66"
      },
      "source": [
        "VT"
      ],
      "execution_count": 36,
      "outputs": [
        {
          "output_type": "execute_result",
          "data": {
            "text/plain": [
              "array([[ 0.00103713,  0.00276685,  0.00616488, ...,  0.00451874,\n",
              "         0.00629204,  0.0035681 ],\n",
              "       [ 0.00127521,  0.00616524,  0.01354243, ...,  0.00637487,\n",
              "         0.00368002, -0.00077783]])"
            ]
          },
          "metadata": {
            "tags": []
          },
          "execution_count": 36
        }
      ]
    },
    {
      "cell_type": "markdown",
      "metadata": {
        "id": "wZ_qfgq0cw0l"
      },
      "source": [
        "$V_k^{T} V_k = I_k$"
      ]
    },
    {
      "cell_type": "code",
      "metadata": {
        "id": "veG_Llbxcw0l",
        "colab": {
          "base_uri": "https://localhost:8080/"
        },
        "outputId": "6f130660-820d-44b7-b315-e6cacfb57765"
      },
      "source": [
        "VT @ VT.T"
      ],
      "execution_count": 37,
      "outputs": [
        {
          "output_type": "execute_result",
          "data": {
            "text/plain": [
              "array([[ 1.00000000e+00, -3.46944695e-18],\n",
              "       [-3.46944695e-18,  1.00000000e+00]])"
            ]
          },
          "metadata": {
            "tags": []
          },
          "execution_count": 37
        }
      ]
    },
    {
      "cell_type": "markdown",
      "metadata": {
        "id": "Wxd__xuDcw0l"
      },
      "source": [
        "$A_k=U_kΣ_kV^{T}_k$ \n",
        "\n",
        "=> $A_k V_k = U_k\\Sigma_k$"
      ]
    },
    {
      "cell_type": "code",
      "metadata": {
        "id": "hXvZ6aj5cw0l",
        "colab": {
          "base_uri": "https://localhost:8080/"
        },
        "outputId": "59774c86-67bd-4d6e-e42c-09eaad15cab3"
      },
      "source": [
        "# A는 A_k는 아니지만 결과는 같습니다.\n",
        "AV = A @ VT.T\n",
        "AV"
      ],
      "execution_count": 38,
      "outputs": [
        {
          "output_type": "execute_result",
          "data": {
            "text/plain": [
              "matrix([[ 0.11668625,  0.0528893 ],\n",
              "        [ 0.11400537,  0.10673446],\n",
              "        [ 0.15535694, -0.11027301],\n",
              "        ...,\n",
              "        [ 0.15570497, -0.04247756],\n",
              "        [ 0.1333008 ,  0.10331742],\n",
              "        [ 0.05546305, -0.03271198]])"
            ]
          },
          "metadata": {
            "tags": []
          },
          "execution_count": 38
        }
      ]
    },
    {
      "cell_type": "code",
      "metadata": {
        "id": "3S2Lxdn_cw0l",
        "colab": {
          "base_uri": "https://localhost:8080/"
        },
        "outputId": "5ae17f92-4c27-4fa1-ed84-774024c4518d"
      },
      "source": [
        "US = U @ np.diag(S)\n",
        "US"
      ],
      "execution_count": 39,
      "outputs": [
        {
          "output_type": "execute_result",
          "data": {
            "text/plain": [
              "array([[ 0.11668625,  0.0528893 ],\n",
              "       [ 0.11400537,  0.10673446],\n",
              "       [ 0.15535694, -0.11027301],\n",
              "       ...,\n",
              "       [ 0.15570497, -0.04247756],\n",
              "       [ 0.1333008 ,  0.10331742],\n",
              "       [ 0.05546305, -0.03271198]])"
            ]
          },
          "metadata": {
            "tags": []
          },
          "execution_count": 39
        }
      ]
    },
    {
      "cell_type": "markdown",
      "metadata": {
        "id": "Eq3LCwEMcw0l"
      },
      "source": [
        "테스트 문서들도 $V_k$를 사용해서 문서의 차원을 축소할 수 있습니다.\n",
        "\n",
        "$XV_k$"
      ]
    },
    {
      "cell_type": "code",
      "metadata": {
        "id": "EN1HF-7Ucw0m",
        "colab": {
          "base_uri": "https://localhost:8080/"
        },
        "outputId": "79c7efbd-8545-43fd-c719-49f8134578ee"
      },
      "source": [
        "X_test_trans = X_test @ VT.T\n",
        "X_test_trans"
      ],
      "execution_count": 40,
      "outputs": [
        {
          "output_type": "execute_result",
          "data": {
            "text/plain": [
              "matrix([[ 0.03407879, -0.03776464],\n",
              "        [ 0.14614089, -0.05216358],\n",
              "        [ 0.0676408 ,  0.07027432],\n",
              "        ...,\n",
              "        [ 0.14372308,  0.06976893],\n",
              "        [ 0.09377234,  0.04664435],\n",
              "        [ 0.10378836, -0.04427015]])"
            ]
          },
          "metadata": {
            "tags": []
          },
          "execution_count": 40
        }
      ]
    },
    {
      "cell_type": "code",
      "metadata": {
        "id": "s7VkJmJ9cw0m",
        "colab": {
          "base_uri": "https://localhost:8080/"
        },
        "outputId": "7b35a3e3-4ed2-499f-ee14-142903841a8b"
      },
      "source": [
        "X_test_trans.shape"
      ],
      "execution_count": 41,
      "outputs": [
        {
          "output_type": "execute_result",
          "data": {
            "text/plain": [
              "(703, 2)"
            ]
          },
          "metadata": {
            "tags": []
          },
          "execution_count": 41
        }
      ]
    },
    {
      "cell_type": "markdown",
      "metadata": {
        "id": "8SN53cA0cw0m"
      },
      "source": [
        "#### truncatedSVD 결과물로 비교해 보겠습니다.\n",
        "\n",
        "truncatedSVD 속성 `components_` 가 행렬 VT입니다."
      ]
    },
    {
      "cell_type": "code",
      "metadata": {
        "id": "TZabbHsecw0m",
        "colab": {
          "base_uri": "https://localhost:8080/"
        },
        "outputId": "37ce343f-befc-474d-c59a-68f3f2788835"
      },
      "source": [
        "components = random_search.best_estimator_.named_steps['svd'].components_\n",
        "print((components - VT).sum())"
      ],
      "execution_count": 42,
      "outputs": [
        {
          "output_type": "stream",
          "text": [
            "-2.582271366323479e-15\n"
          ],
          "name": "stdout"
        }
      ]
    },
    {
      "cell_type": "markdown",
      "metadata": {
        "id": "WOlFnqAzcw0m"
      },
      "source": [
        "TruncatedSVD 속성을 조금 더 살펴봅시다.\n",
        "\n",
        "먼저 특이값를 확인해 보겠습니다. 위에서 구한 S(Sigma)와 같습니다."
      ]
    },
    {
      "cell_type": "code",
      "metadata": {
        "id": "mB1ajt_Pcw0m",
        "colab": {
          "base_uri": "https://localhost:8080/"
        },
        "outputId": "db9b5be1-ada3-4a87-ea6f-faf8f54c2d61"
      },
      "source": [
        "components[:10].shape"
      ],
      "execution_count": 43,
      "outputs": [
        {
          "output_type": "execute_result",
          "data": {
            "text/plain": [
              "(2, 10000)"
            ]
          },
          "metadata": {
            "tags": []
          },
          "execution_count": 43
        }
      ]
    },
    {
      "cell_type": "code",
      "metadata": {
        "id": "Ghmd4V1Ocw0n",
        "colab": {
          "base_uri": "https://localhost:8080/"
        },
        "outputId": "85fb61c0-f939-49b8-8175-e2d488073238"
      },
      "source": [
        "print(random_search.best_estimator_.named_steps['svd'].singular_values_)\n",
        "print(S)"
      ],
      "execution_count": 44,
      "outputs": [
        {
          "output_type": "stream",
          "text": [
            "[3.92178091 2.59248335]\n",
            "[3.92178091 2.59248335]\n"
          ],
          "name": "stdout"
        }
      ]
    },
    {
      "cell_type": "markdown",
      "metadata": {
        "id": "48swUKircw0n"
      },
      "source": [
        "차원이 줄어든 데이터(AV, US)의 분산값입니다.  "
      ]
    },
    {
      "cell_type": "code",
      "metadata": {
        "id": "QDg_b8K4cw0n",
        "colab": {
          "base_uri": "https://localhost:8080/"
        },
        "outputId": "e537291d-69b6-46ab-8f3d-d1bbad36bd3c"
      },
      "source": [
        "print(random_search.best_estimator_.named_steps['svd'].explained_variance_)\n",
        "print(np.var(US, axis=0))"
      ],
      "execution_count": 45,
      "outputs": [
        {
          "output_type": "stream",
          "text": [
            "[0.00302819 0.00629697]\n",
            "[0.00302819 0.00629697]\n"
          ],
          "name": "stdout"
        }
      ]
    },
    {
      "cell_type": "markdown",
      "metadata": {
        "id": "7i-lpQNXcw0n"
      },
      "source": [
        "이번에는 테스트 문서 샘플을 SVD를 사용해 차원 축소해 보겠습니다."
      ]
    },
    {
      "cell_type": "code",
      "metadata": {
        "id": "4RFiqWOjcw0n",
        "colab": {
          "base_uri": "https://localhost:8080/"
        },
        "outputId": "23a8e501-8ae3-4f76-931c-f663fcce3005"
      },
      "source": [
        "# 예시로 테스트 문서 0 벡터를 사용합니다.\n",
        "d0 = X_test[0]\n",
        "print(d0.shape)\n",
        "print(random_search.best_estimator_.named_steps['svd'].transform(d0))"
      ],
      "execution_count": 46,
      "outputs": [
        {
          "output_type": "stream",
          "text": [
            "(1, 10000)\n",
            "[[ 0.03407879 -0.03776464]]\n"
          ],
          "name": "stdout"
        }
      ]
    },
    {
      "cell_type": "markdown",
      "metadata": {
        "id": "97d1Ypk3cw0n"
      },
      "source": [
        "테스트 데이터를 모두 변환해 보겠습니다."
      ]
    },
    {
      "cell_type": "code",
      "metadata": {
        "id": "AJQI5w9Jcw0o",
        "colab": {
          "base_uri": "https://localhost:8080/"
        },
        "outputId": "4dbe042a-d732-4048-d937-add9e1626c7b"
      },
      "source": [
        "print(X_test.shape)\n",
        "X_test_trans_2 = random_search.best_estimator_.named_steps['svd'].transform(X_test)\n",
        "print(X_test_trans_2.shape)"
      ],
      "execution_count": 47,
      "outputs": [
        {
          "output_type": "stream",
          "text": [
            "(703, 10000)\n",
            "(703, 2)\n"
          ],
          "name": "stdout"
        }
      ]
    },
    {
      "cell_type": "markdown",
      "metadata": {
        "id": "0h938JJbcw0o"
      },
      "source": [
        "위에서 직접 구한 값과 같습니다. (X_test @ VT.T)"
      ]
    },
    {
      "cell_type": "code",
      "metadata": {
        "id": "J8pWdEX6cw0o",
        "colab": {
          "base_uri": "https://localhost:8080/"
        },
        "outputId": "4d6ad27f-1325-491a-a991-9438e23d75dd"
      },
      "source": [
        "# 문서 0만 보겠습니다.\n",
        "X_test_trans[0], X_test_trans_2[0]"
      ],
      "execution_count": 48,
      "outputs": [
        {
          "output_type": "execute_result",
          "data": {
            "text/plain": [
              "(matrix([[ 0.03407879, -0.03776464]]), array([ 0.03407879, -0.03776464]))"
            ]
          },
          "metadata": {
            "tags": []
          },
          "execution_count": 48
        }
      ]
    },
    {
      "cell_type": "markdown",
      "metadata": {
        "id": "QrInQXFIrKAQ"
      },
      "source": [
        "\n",
        "\n",
        "---\n",
        "\n"
      ]
    },
    {
      "cell_type": "markdown",
      "metadata": {
        "id": "RakLESJbcw0o"
      },
      "source": [
        "#### LSA는 SVD를 통해 찾아진 topic들을 가지고 문서와, 단어의 잠재적인 의미를 분석하는 것 입니다.\n",
        "\n",
        "각 차원에 어떤 단어들이 모여 있는지 확인해 봅시다.\n",
        "SVD를 통해 찾아진 두 잠재적 의미군(토픽)에 속하는 단어들을 확인할 수 있습니다."
      ]
    },
    {
      "cell_type": "code",
      "metadata": {
        "id": "XBzTOqeqcw0o",
        "colab": {
          "base_uri": "https://localhost:8080/"
        },
        "outputId": "4b74db8f-3b6a-4b68-c686-79866b74a429"
      },
      "source": [
        "# terms: 벡터화한 단어\n",
        "terms = random_search.best_estimator_.named_steps['vect'].get_feature_names()\n",
        "for index, topic in enumerate(components[:10]): # topic 최대 10개만 표시, 지금은 k가 2이므로 토픽 2개 다 프린트)\n",
        "    print('Topic %d: '%(index + 1), [terms[i] for i in topic.argsort()[::-1][:6]]) # 토픽에 가장 큰게 기여한 단어부터 최대 6단어 표시\n",
        "    print('Score %d: '%(index + 1), [topic[i] for i in topic.argsort()[::-1][:6]]) # 단어 스코어"
      ],
      "execution_count": 49,
      "outputs": [
        {
          "output_type": "stream",
          "text": [
            "Topic 1:  ['people', 'don', 'like', 'know', 'just', 'think']\n",
            "Score 1:  [0.1812089691771802, 0.1480755846368723, 0.14591065367394312, 0.1395040623730916, 0.13370844711918825, 0.1236837187427575]\n",
            "Topic 2:  ['thanks', 'output', 'ingr', 'dtmedin', 'catbyte', 'circuit']\n",
            "Score 2:  [0.12865724561119146, 0.11374062140626552, 0.10726694807306968, 0.10726694807306968, 0.10726694807306968, 0.10172948540074012]\n"
          ],
          "name": "stdout"
        }
      ]
    },
    {
      "cell_type": "markdown",
      "metadata": {
        "id": "Eqd6ojDPcw0q"
      },
      "source": [
        "#### MLP(Multi-layer perceptron classifier)를 간단히 사용해보겠습니다"
      ]
    },
    {
      "cell_type": "code",
      "metadata": {
        "id": "0BFROfLCcw0q"
      },
      "source": [
        "from sklearn.neural_network import MLPClassifier\n",
        "\n",
        "clf = MLPClassifier(solver='lbfgs'\n",
        "                   , alpha=1e-5\n",
        "                   , hidden_layer_sizes=(16,2)\n",
        "                   , random_state=2\n",
        "                   )"
      ],
      "execution_count": 50,
      "outputs": []
    },
    {
      "cell_type": "code",
      "metadata": {
        "id": "yj8OKDBQ21i8"
      },
      "source": [
        "# 1.Tfidf 문서 벡터화, 2. svd 차원축소, 3. 랜덤포레스트 분류기\n",
        "pipe = Pipeline([\n",
        "    ('vect', vect)\n",
        "    , ('svd', svd)\n",
        "    , ('clf', clf)\n",
        "])"
      ],
      "execution_count": 51,
      "outputs": []
    },
    {
      "cell_type": "code",
      "metadata": {
        "colab": {
          "base_uri": "https://localhost:8080/"
        },
        "id": "2dXvk2_V21jJ",
        "outputId": "60109e52-7647-4783-f895-ca1be2a2e381"
      },
      "source": [
        "# Fit\n",
        "random_search = RandomizedSearchCV(pipe,params, cv=3, n_iter=5, n_jobs=-1, verbose=1)\n",
        "random_search.fit(ng_train.data, ng_train.target)"
      ],
      "execution_count": 52,
      "outputs": [
        {
          "output_type": "stream",
          "text": [
            "Fitting 3 folds for each of 5 candidates, totalling 15 fits\n"
          ],
          "name": "stdout"
        },
        {
          "output_type": "stream",
          "text": [
            "[Parallel(n_jobs=-1)]: Using backend LokyBackend with 2 concurrent workers.\n",
            "[Parallel(n_jobs=-1)]: Done  15 out of  15 | elapsed:    5.6s finished\n"
          ],
          "name": "stderr"
        },
        {
          "output_type": "execute_result",
          "data": {
            "text/plain": [
              "RandomizedSearchCV(cv=3, error_score=nan,\n",
              "                   estimator=Pipeline(memory=None,\n",
              "                                      steps=[('vect',\n",
              "                                              TfidfVectorizer(analyzer='word',\n",
              "                                                              binary=False,\n",
              "                                                              decode_error='strict',\n",
              "                                                              dtype=<class 'numpy.float64'>,\n",
              "                                                              encoding='utf-8',\n",
              "                                                              input='content',\n",
              "                                                              lowercase=True,\n",
              "                                                              max_df=0.7,\n",
              "                                                              max_features=10000,\n",
              "                                                              min_df=2,\n",
              "                                                              ngram_range=(1,\n",
              "                                                                           2),\n",
              "                                                              norm='l2',\n",
              "                                                              preprocessor=None,\n",
              "                                                              smooth_idf=True,\n",
              "                                                              stop_words='english...\n",
              "                                                            shuffle=True,\n",
              "                                                            solver='lbfgs',\n",
              "                                                            tol=0.0001,\n",
              "                                                            validation_fraction=0.1,\n",
              "                                                            verbose=False,\n",
              "                                                            warm_start=False))],\n",
              "                                      verbose=False),\n",
              "                   iid='deprecated', n_iter=5, n_jobs=-1,\n",
              "                   param_distributions={'svd__n_components': <scipy.stats._distn_infrastructure.rv_frozen object at 0x7f565c33a490>},\n",
              "                   pre_dispatch='2*n_jobs', random_state=None, refit=True,\n",
              "                   return_train_score=False, scoring=None, verbose=1)"
            ]
          },
          "metadata": {
            "tags": []
          },
          "execution_count": 52
        }
      ]
    },
    {
      "cell_type": "code",
      "metadata": {
        "colab": {
          "base_uri": "https://localhost:8080/"
        },
        "id": "-2YYRszt3LQ3",
        "outputId": "57320621-abe0-4f10-8c60-4d6794b9741f"
      },
      "source": [
        "# 테스트셋으로 정확도를 계산합니다\n",
        "y_test = random_search.predict(ng_test.data)\n",
        "accuracy_score(ng_test.target, y_test)"
      ],
      "execution_count": 53,
      "outputs": [
        {
          "output_type": "execute_result",
          "data": {
            "text/plain": [
              "0.9246088193456614"
            ]
          },
          "metadata": {
            "tags": []
          },
          "execution_count": 53
        }
      ]
    },
    {
      "cell_type": "code",
      "metadata": {
        "colab": {
          "base_uri": "https://localhost:8080/"
        },
        "id": "bakOb5go3LRE",
        "outputId": "8cb09ee4-62b6-40e9-9b95-c22567aabfb0"
      },
      "source": [
        "from sklearn.metrics import classification_report\n",
        "\n",
        "print(classification_report(ng_test.target, y_test))"
      ],
      "execution_count": 54,
      "outputs": [
        {
          "output_type": "stream",
          "text": [
            "              precision    recall  f1-score   support\n",
            "\n",
            "           0       0.92      0.95      0.93       393\n",
            "           1       0.94      0.89      0.91       310\n",
            "\n",
            "    accuracy                           0.92       703\n",
            "   macro avg       0.93      0.92      0.92       703\n",
            "weighted avg       0.93      0.92      0.92       703\n",
            "\n"
          ],
          "name": "stdout"
        }
      ]
    },
    {
      "cell_type": "code",
      "metadata": {
        "id": "6jShS032cw0r",
        "colab": {
          "base_uri": "https://localhost:8080/"
        },
        "outputId": "bb48df8a-42a3-4467-f57a-412be61d97eb"
      },
      "source": [
        "clf.get_params()"
      ],
      "execution_count": 56,
      "outputs": [
        {
          "output_type": "execute_result",
          "data": {
            "text/plain": [
              "{'activation': 'relu',\n",
              " 'alpha': 1e-05,\n",
              " 'batch_size': 'auto',\n",
              " 'beta_1': 0.9,\n",
              " 'beta_2': 0.999,\n",
              " 'early_stopping': False,\n",
              " 'epsilon': 1e-08,\n",
              " 'hidden_layer_sizes': (16, 2),\n",
              " 'learning_rate': 'constant',\n",
              " 'learning_rate_init': 0.001,\n",
              " 'max_fun': 15000,\n",
              " 'max_iter': 200,\n",
              " 'momentum': 0.9,\n",
              " 'n_iter_no_change': 10,\n",
              " 'nesterovs_momentum': True,\n",
              " 'power_t': 0.5,\n",
              " 'random_state': 2,\n",
              " 'shuffle': True,\n",
              " 'solver': 'lbfgs',\n",
              " 'tol': 0.0001,\n",
              " 'validation_fraction': 0.1,\n",
              " 'verbose': False,\n",
              " 'warm_start': False}"
            ]
          },
          "metadata": {
            "tags": []
          },
          "execution_count": 56
        }
      ]
    }
  ]
}