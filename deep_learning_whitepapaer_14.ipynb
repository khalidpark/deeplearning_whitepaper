{
  "nbformat": 4,
  "nbformat_minor": 0,
  "metadata": {
    "colab": {
      "name": "deep_learning_whitepapaer_14.ipynb",
      "provenance": [],
      "collapsed_sections": [],
      "authorship_tag": "ABX9TyMUEk4rlpbRoNZ8i7hIyx1c",
      "include_colab_link": true
    },
    "kernelspec": {
      "name": "python3",
      "display_name": "Python 3"
    },
    "language_info": {
      "name": "python"
    }
  },
  "cells": [
    {
      "cell_type": "markdown",
      "metadata": {
        "id": "view-in-github",
        "colab_type": "text"
      },
      "source": [
        "<a href=\"https://colab.research.google.com/github/khalidpark/whitepaper-DeepLearning/blob/main/deep_learning_whitepapaer_14.ipynb\" target=\"_parent\"><img src=\"https://colab.research.google.com/assets/colab-badge.svg\" alt=\"Open In Colab\"/></a>"
      ]
    },
    {
      "cell_type": "markdown",
      "metadata": {
        "id": "h2GGXaIKzm_u"
      },
      "source": [
        "\n",
        "### 임베딩 모델 학습은 어떻게?\n",
        "Word2Vec을 학습시키기 위해서는 충분히 큰 코퍼스를 학습시켜야 한다는 것을 알 수 있습니다. 다행인 것은 이미 충분히 큰 코퍼스들로 학습된 단어 임베딩을 쉽게 찾아 사용할 수 있다는 것입니다. 여러분이 지금까지 사용해온 Spacy 라이브러리의 모델도 Word2Vec 와 유사한 방식으로 학습한 임베딩을 제공합니다. 무지막지하게 큰 [Common Crawl](https://en.wikipedia.org/wiki/Common_Crawl) 데이터를 학습에 사용해 만든 모델이기 때문에 영어의 경우 충분히 대표성을 가진 임베딩이 나올 수 있을 것이라 생각할 수 있겠습니다.\n",
        "\n",
        "이제 spacy를 통해 임베딩을 어떻게 사용하는지 살펴 봅시다."
      ]
    },
    {
      "cell_type": "code",
      "metadata": {
        "id": "EWIVbptuzm_u",
        "colab": {
          "base_uri": "https://localhost:8080/"
        },
        "outputId": "59b1231a-4ecb-48f0-f907-798c32c81715"
      },
      "source": [
        "!python -m spacy download en_core_web_md\n",
        "!python -m spacy download en_core_web_lg\n",
        "import spacy\n",
        "# 설치 후 에러가 나면 load할 때 , 런타임을 초기화 할 것."
      ],
      "execution_count": 1,
      "outputs": [
        {
          "output_type": "stream",
          "text": [
            "Requirement already satisfied: en_core_web_md==2.2.5 from https://github.com/explosion/spacy-models/releases/download/en_core_web_md-2.2.5/en_core_web_md-2.2.5.tar.gz#egg=en_core_web_md==2.2.5 in /usr/local/lib/python3.7/dist-packages (2.2.5)\n",
            "Requirement already satisfied: spacy>=2.2.2 in /usr/local/lib/python3.7/dist-packages (from en_core_web_md==2.2.5) (2.2.4)\n",
            "Requirement already satisfied: murmurhash<1.1.0,>=0.28.0 in /usr/local/lib/python3.7/dist-packages (from spacy>=2.2.2->en_core_web_md==2.2.5) (1.0.5)\n",
            "Requirement already satisfied: preshed<3.1.0,>=3.0.2 in /usr/local/lib/python3.7/dist-packages (from spacy>=2.2.2->en_core_web_md==2.2.5) (3.0.5)\n",
            "Requirement already satisfied: requests<3.0.0,>=2.13.0 in /usr/local/lib/python3.7/dist-packages (from spacy>=2.2.2->en_core_web_md==2.2.5) (2.23.0)\n",
            "Requirement already satisfied: blis<0.5.0,>=0.4.0 in /usr/local/lib/python3.7/dist-packages (from spacy>=2.2.2->en_core_web_md==2.2.5) (0.4.1)\n",
            "Requirement already satisfied: wasabi<1.1.0,>=0.4.0 in /usr/local/lib/python3.7/dist-packages (from spacy>=2.2.2->en_core_web_md==2.2.5) (0.8.2)\n",
            "Requirement already satisfied: setuptools in /usr/local/lib/python3.7/dist-packages (from spacy>=2.2.2->en_core_web_md==2.2.5) (57.0.0)\n",
            "Requirement already satisfied: catalogue<1.1.0,>=0.0.7 in /usr/local/lib/python3.7/dist-packages (from spacy>=2.2.2->en_core_web_md==2.2.5) (1.0.0)\n",
            "Requirement already satisfied: tqdm<5.0.0,>=4.38.0 in /usr/local/lib/python3.7/dist-packages (from spacy>=2.2.2->en_core_web_md==2.2.5) (4.41.1)\n",
            "Requirement already satisfied: thinc==7.4.0 in /usr/local/lib/python3.7/dist-packages (from spacy>=2.2.2->en_core_web_md==2.2.5) (7.4.0)\n",
            "Requirement already satisfied: numpy>=1.15.0 in /usr/local/lib/python3.7/dist-packages (from spacy>=2.2.2->en_core_web_md==2.2.5) (1.19.5)\n",
            "Requirement already satisfied: cymem<2.1.0,>=2.0.2 in /usr/local/lib/python3.7/dist-packages (from spacy>=2.2.2->en_core_web_md==2.2.5) (2.0.5)\n",
            "Requirement already satisfied: plac<1.2.0,>=0.9.6 in /usr/local/lib/python3.7/dist-packages (from spacy>=2.2.2->en_core_web_md==2.2.5) (1.1.3)\n",
            "Requirement already satisfied: srsly<1.1.0,>=1.0.2 in /usr/local/lib/python3.7/dist-packages (from spacy>=2.2.2->en_core_web_md==2.2.5) (1.0.5)\n",
            "Requirement already satisfied: certifi>=2017.4.17 in /usr/local/lib/python3.7/dist-packages (from requests<3.0.0,>=2.13.0->spacy>=2.2.2->en_core_web_md==2.2.5) (2021.5.30)\n",
            "Requirement already satisfied: idna<3,>=2.5 in /usr/local/lib/python3.7/dist-packages (from requests<3.0.0,>=2.13.0->spacy>=2.2.2->en_core_web_md==2.2.5) (2.10)\n",
            "Requirement already satisfied: chardet<4,>=3.0.2 in /usr/local/lib/python3.7/dist-packages (from requests<3.0.0,>=2.13.0->spacy>=2.2.2->en_core_web_md==2.2.5) (3.0.4)\n",
            "Requirement already satisfied: urllib3!=1.25.0,!=1.25.1,<1.26,>=1.21.1 in /usr/local/lib/python3.7/dist-packages (from requests<3.0.0,>=2.13.0->spacy>=2.2.2->en_core_web_md==2.2.5) (1.24.3)\n",
            "Requirement already satisfied: importlib-metadata>=0.20; python_version < \"3.8\" in /usr/local/lib/python3.7/dist-packages (from catalogue<1.1.0,>=0.0.7->spacy>=2.2.2->en_core_web_md==2.2.5) (4.6.0)\n",
            "Requirement already satisfied: zipp>=0.5 in /usr/local/lib/python3.7/dist-packages (from importlib-metadata>=0.20; python_version < \"3.8\"->catalogue<1.1.0,>=0.0.7->spacy>=2.2.2->en_core_web_md==2.2.5) (3.4.1)\n",
            "Requirement already satisfied: typing-extensions>=3.6.4; python_version < \"3.8\" in /usr/local/lib/python3.7/dist-packages (from importlib-metadata>=0.20; python_version < \"3.8\"->catalogue<1.1.0,>=0.0.7->spacy>=2.2.2->en_core_web_md==2.2.5) (3.7.4.3)\n",
            "\u001b[38;5;2m✔ Download and installation successful\u001b[0m\n",
            "You can now load the model via spacy.load('en_core_web_md')\n",
            "Requirement already satisfied: en_core_web_lg==2.2.5 from https://github.com/explosion/spacy-models/releases/download/en_core_web_lg-2.2.5/en_core_web_lg-2.2.5.tar.gz#egg=en_core_web_lg==2.2.5 in /usr/local/lib/python3.7/dist-packages (2.2.5)\n",
            "Requirement already satisfied: spacy>=2.2.2 in /usr/local/lib/python3.7/dist-packages (from en_core_web_lg==2.2.5) (2.2.4)\n",
            "Requirement already satisfied: murmurhash<1.1.0,>=0.28.0 in /usr/local/lib/python3.7/dist-packages (from spacy>=2.2.2->en_core_web_lg==2.2.5) (1.0.5)\n",
            "Requirement already satisfied: requests<3.0.0,>=2.13.0 in /usr/local/lib/python3.7/dist-packages (from spacy>=2.2.2->en_core_web_lg==2.2.5) (2.23.0)\n",
            "Requirement already satisfied: wasabi<1.1.0,>=0.4.0 in /usr/local/lib/python3.7/dist-packages (from spacy>=2.2.2->en_core_web_lg==2.2.5) (0.8.2)\n",
            "Requirement already satisfied: numpy>=1.15.0 in /usr/local/lib/python3.7/dist-packages (from spacy>=2.2.2->en_core_web_lg==2.2.5) (1.19.5)\n",
            "Requirement already satisfied: cymem<2.1.0,>=2.0.2 in /usr/local/lib/python3.7/dist-packages (from spacy>=2.2.2->en_core_web_lg==2.2.5) (2.0.5)\n",
            "Requirement already satisfied: catalogue<1.1.0,>=0.0.7 in /usr/local/lib/python3.7/dist-packages (from spacy>=2.2.2->en_core_web_lg==2.2.5) (1.0.0)\n",
            "Requirement already satisfied: setuptools in /usr/local/lib/python3.7/dist-packages (from spacy>=2.2.2->en_core_web_lg==2.2.5) (57.0.0)\n",
            "Requirement already satisfied: plac<1.2.0,>=0.9.6 in /usr/local/lib/python3.7/dist-packages (from spacy>=2.2.2->en_core_web_lg==2.2.5) (1.1.3)\n",
            "Requirement already satisfied: blis<0.5.0,>=0.4.0 in /usr/local/lib/python3.7/dist-packages (from spacy>=2.2.2->en_core_web_lg==2.2.5) (0.4.1)\n",
            "Requirement already satisfied: srsly<1.1.0,>=1.0.2 in /usr/local/lib/python3.7/dist-packages (from spacy>=2.2.2->en_core_web_lg==2.2.5) (1.0.5)\n",
            "Requirement already satisfied: thinc==7.4.0 in /usr/local/lib/python3.7/dist-packages (from spacy>=2.2.2->en_core_web_lg==2.2.5) (7.4.0)\n",
            "Requirement already satisfied: tqdm<5.0.0,>=4.38.0 in /usr/local/lib/python3.7/dist-packages (from spacy>=2.2.2->en_core_web_lg==2.2.5) (4.41.1)\n",
            "Requirement already satisfied: preshed<3.1.0,>=3.0.2 in /usr/local/lib/python3.7/dist-packages (from spacy>=2.2.2->en_core_web_lg==2.2.5) (3.0.5)\n",
            "Requirement already satisfied: chardet<4,>=3.0.2 in /usr/local/lib/python3.7/dist-packages (from requests<3.0.0,>=2.13.0->spacy>=2.2.2->en_core_web_lg==2.2.5) (3.0.4)\n",
            "Requirement already satisfied: idna<3,>=2.5 in /usr/local/lib/python3.7/dist-packages (from requests<3.0.0,>=2.13.0->spacy>=2.2.2->en_core_web_lg==2.2.5) (2.10)\n",
            "Requirement already satisfied: urllib3!=1.25.0,!=1.25.1,<1.26,>=1.21.1 in /usr/local/lib/python3.7/dist-packages (from requests<3.0.0,>=2.13.0->spacy>=2.2.2->en_core_web_lg==2.2.5) (1.24.3)\n",
            "Requirement already satisfied: certifi>=2017.4.17 in /usr/local/lib/python3.7/dist-packages (from requests<3.0.0,>=2.13.0->spacy>=2.2.2->en_core_web_lg==2.2.5) (2021.5.30)\n",
            "Requirement already satisfied: importlib-metadata>=0.20; python_version < \"3.8\" in /usr/local/lib/python3.7/dist-packages (from catalogue<1.1.0,>=0.0.7->spacy>=2.2.2->en_core_web_lg==2.2.5) (4.6.0)\n",
            "Requirement already satisfied: typing-extensions>=3.6.4; python_version < \"3.8\" in /usr/local/lib/python3.7/dist-packages (from importlib-metadata>=0.20; python_version < \"3.8\"->catalogue<1.1.0,>=0.0.7->spacy>=2.2.2->en_core_web_lg==2.2.5) (3.7.4.3)\n",
            "Requirement already satisfied: zipp>=0.5 in /usr/local/lib/python3.7/dist-packages (from importlib-metadata>=0.20; python_version < \"3.8\"->catalogue<1.1.0,>=0.0.7->spacy>=2.2.2->en_core_web_lg==2.2.5) (3.4.1)\n",
            "\u001b[38;5;2m✔ Download and installation successful\u001b[0m\n",
            "You can now load the model via spacy.load('en_core_web_lg')\n"
          ],
          "name": "stdout"
        }
      ]
    },
    {
      "cell_type": "code",
      "metadata": {
        "colab": {
          "base_uri": "https://localhost:8080/"
        },
        "id": "Y-J2VuB4w4q_",
        "outputId": "0775e982-b584-414b-f22f-dc4342539d8f"
      },
      "source": [
        "!python --version"
      ],
      "execution_count": 2,
      "outputs": [
        {
          "output_type": "stream",
          "text": [
            "Python 3.7.10\n"
          ],
          "name": "stdout"
        }
      ]
    },
    {
      "cell_type": "code",
      "metadata": {
        "colab": {
          "base_uri": "https://localhost:8080/"
        },
        "id": "-yWZMShTvkQZ",
        "outputId": "40a1806b-3a3c-48cf-846b-821213089056"
      },
      "source": [
        "nlp = spacy.load('en_core_web_lg')\n",
        "tokens = nlp(\"Dogs and cats school gagasdf\")\n",
        "\n",
        "# vector_norm: 벡터의 크기\n",
        "for token in tokens:\n",
        "    print(token.text, token.has_vector, token.vector_norm)"
      ],
      "execution_count": 3,
      "outputs": [
        {
          "output_type": "stream",
          "text": [
            "Dogs True 7.193099\n",
            "and True 4.6577983\n",
            "cats True 6.933004\n",
            "school True 6.7380905\n",
            "gagasdf False 0.0\n"
          ],
          "name": "stdout"
        }
      ]
    },
    {
      "cell_type": "markdown",
      "metadata": {
        "id": "v2TAPfx5zm_u"
      },
      "source": [
        "입력한 문장에 대한 임베딩 벡터를 얻고 문장 간 유사도를 측정해 봅니다."
      ]
    },
    {
      "cell_type": "code",
      "metadata": {
        "id": "ZIoEr--Vzm_u",
        "colab": {
          "base_uri": "https://localhost:8080/"
        },
        "outputId": "ae86e399-9bec-4178-90c2-f4202a52b00a"
      },
      "source": [
        "vects = tokens.vector\n",
        "print(vects)"
      ],
      "execution_count": 4,
      "outputs": [
        {
          "output_type": "stream",
          "text": [
            "[-1.79408014e-01  1.26198798e-01 -1.11785397e-01 -2.83820003e-01\n",
            " -2.62799971e-02  5.58035970e-02 -1.45570010e-01 -5.27487993e-02\n",
            "  1.69332191e-01  1.93045998e+00 -2.79807180e-01  1.38399795e-01\n",
            " -1.85558006e-01  5.02085984e-02 -1.40728995e-01  9.67558026e-02\n",
            "  2.06080005e-01  8.19686055e-01 -1.57560199e-01 -6.11754060e-02\n",
            " -1.73499614e-01 -1.09055400e-01 -4.25813980e-02 -2.84800589e-01\n",
            "  1.65506005e-01 -9.49792042e-02 -2.45875999e-01 -1.76592007e-01\n",
            "  1.02721252e-01 -1.18426010e-01 -9.64230075e-02  2.92337183e-02\n",
            " -8.17720070e-02 -2.63900049e-02  2.31444001e-01  9.93599277e-03\n",
            "  1.33631989e-01 -2.89353997e-01  8.05701874e-03  2.12559611e-01\n",
            "  1.11464588e-02  1.04168795e-01  6.81307912e-03 -1.94971208e-02\n",
            "  7.46979937e-02 -9.89580080e-02 -2.04918385e-01  1.74181998e-01\n",
            "  1.38363212e-01 -1.74419403e-01 -8.65179971e-02 -2.17613988e-02\n",
            "  1.88542008e-02  4.70872000e-02 -9.22998041e-02  2.23565191e-01\n",
            " -3.33181992e-02  6.36455938e-02 -2.20621794e-01  3.23160827e-01\n",
            "  7.06618130e-02 -1.33299991e-01  7.05728009e-02  5.07225990e-02\n",
            "  1.85075998e-02 -1.73200995e-01  1.46570206e-01  2.28904009e-01\n",
            "  1.15869999e-01  1.45907611e-01 -7.41464198e-02 -2.93245306e-03\n",
            "  1.76927999e-01 -1.12230204e-01  2.02573389e-01  3.83340009e-02\n",
            "  4.02077772e-02  3.21223959e-02  2.37526014e-01  2.03440199e-03\n",
            "  4.61397991e-02  1.76907986e-01 -1.65638000e-01  1.10619962e-02\n",
            " -1.38576003e-02 -2.04356030e-01  2.19403982e-01  2.58924007e-01\n",
            "  3.17174017e-01  2.84796022e-02 -2.06128061e-02  6.32442012e-02\n",
            "  1.92617387e-01 -1.55552402e-01  9.87199880e-03 -5.76351993e-02\n",
            "  1.22454248e-01 -1.15851797e-01  3.43279950e-02 -2.05176428e-01\n",
            "  1.57538012e-01  3.03530008e-01  1.66659970e-02 -5.13790026e-02\n",
            "  1.80297971e-01 -5.39748013e-01  2.14044809e-01 -8.67253989e-02\n",
            "  3.15148011e-02 -1.00457408e-01  1.08274005e-01  2.16653999e-02\n",
            "  1.42108604e-01 -4.26528037e-01 -6.20442033e-02 -6.88948408e-02\n",
            " -1.86819993e-02 -9.54598188e-04 -5.10616079e-02  2.23586001e-02\n",
            "  6.64183944e-02  1.26925990e-01  3.90487969e-01 -4.52394426e-01\n",
            " -4.82079992e-03  6.15017936e-02  2.62621999e-01 -3.26151960e-02\n",
            " -1.16785005e-01  3.10663991e-02  1.36915985e-02 -3.22481804e-02\n",
            " -1.79007590e-01  1.52172610e-01  2.93281972e-01 -3.51880044e-02\n",
            " -6.65543973e-02  8.87220055e-02  1.69600800e-01  1.53597400e-01\n",
            " -1.21144199e+00 -3.34477782e-01  2.03879997e-01  2.19875187e-01\n",
            "  1.89845204e-01  5.13368025e-02 -4.38288040e-02  9.24024060e-02\n",
            " -4.63436022e-02 -3.40633988e-02  9.41860117e-03  3.12891975e-02\n",
            " -6.10519946e-02  2.44600587e-02 -1.31334007e-01 -3.30240019e-02\n",
            " -9.23147947e-02  2.20420063e-02 -7.53320083e-02 -4.78557974e-01\n",
            "  1.62741989e-01 -8.43316093e-02 -7.46396035e-02 -2.92490005e-01\n",
            " -1.03690766e-01 -1.79798044e-02 -1.38816804e-01 -2.04536602e-01\n",
            "  3.32040004e-02  3.14394012e-02  2.03837991e-01  1.79215401e-01\n",
            "  1.75188005e-01 -4.60227951e-02 -5.63515946e-02  2.44379997e-01\n",
            " -2.07816407e-01  2.52512813e-01  1.02010593e-01  2.14170814e-01\n",
            "  7.75867999e-02 -1.33704007e-01 -2.19155401e-01  7.01961964e-02\n",
            " -2.02604815e-01 -5.36981598e-02 -1.69788003e-02  7.92500377e-03\n",
            "  5.94210029e-02 -2.57445991e-01 -1.15660593e-01 -2.66319998e-02\n",
            " -2.19249800e-01 -2.91447997e-01 -1.45527408e-01  3.56470019e-01\n",
            "  4.31900024e-02 -3.80075991e-01  3.97520006e-01 -6.94609955e-02\n",
            " -2.37546012e-01 -1.70287006e-02 -1.38436794e-01 -8.76650065e-02\n",
            "  2.73934782e-01  6.83466792e-02  2.27189988e-01 -5.07079959e-02\n",
            "  2.79985994e-01  5.14696017e-02 -2.67293990e-01  3.06694984e-01\n",
            " -1.55797794e-01  3.10354587e-02 -2.70036012e-01 -1.10019602e-01\n",
            "  6.86846003e-02  2.56755412e-01  1.59152038e-02  1.60861403e-01\n",
            " -3.22834030e-02  4.09860015e-02 -1.26569003e-01 -2.85745561e-01\n",
            " -2.96884000e-01  1.23613931e-01 -1.84703991e-01  3.35820019e-01\n",
            "  1.30998015e-01  8.82645994e-02 -2.94773996e-01 -9.63780005e-03\n",
            " -3.65859978e-02 -1.06170796e-01  2.74767399e-01  8.46758038e-02\n",
            "  1.10649601e-01 -1.13876007e-01  2.25924999e-01 -1.33907586e-01\n",
            " -4.24908698e-01 -5.14791980e-02 -2.08838016e-01 -7.06599932e-03\n",
            " -5.62896021e-02  3.76334004e-02 -3.46244395e-01  7.22953975e-02\n",
            " -2.02894002e-01 -4.09839908e-03 -3.69865410e-02  1.78002000e-01\n",
            " -1.16780594e-01  1.06330000e-01  1.23366609e-01  5.25748022e-02\n",
            " -1.09817997e-01 -1.42497614e-01 -1.29482403e-01 -1.83818005e-02\n",
            "  1.13296404e-01 -1.46337777e-01 -2.18502015e-01 -8.41268003e-02\n",
            "  2.72519998e-02  1.13252386e-01 -2.62620002e-01 -1.49156868e-01\n",
            " -4.07759566e-03  6.72063977e-02 -2.86052585e-01  2.65085995e-01\n",
            " -1.78678796e-01 -8.74760188e-03 -7.27500161e-03 -1.13103958e-02\n",
            "  4.27139997e-02  2.53716201e-01 -1.54976606e-01  4.04243991e-02\n",
            "  4.32590023e-02  1.28732011e-01 -1.57697603e-01 -1.35332197e-01\n",
            "  1.16097197e-01  2.14821100e-01  3.52397978e-01 -2.47403592e-01\n",
            " -7.57020712e-03 -7.91880041e-02 -1.05859995e-01 -3.32543790e-01\n",
            "  1.85099952e-02  1.60729602e-01 -1.59693107e-01  3.80479395e-01\n",
            "  6.79079965e-02 -1.03840396e-01  1.02859996e-01 -9.37639922e-02]\n"
          ],
          "name": "stdout"
        }
      ]
    },
    {
      "cell_type": "code",
      "metadata": {
        "id": "gz7KEIRTzm_v",
        "colab": {
          "base_uri": "https://localhost:8080/"
        },
        "outputId": "6a555ab9-f52d-4704-d809-eb8a7ab37583"
      },
      "source": [
        "# 벡터의 차원을 보겠습니다\n",
        "len(vects)"
      ],
      "execution_count": 5,
      "outputs": [
        {
          "output_type": "execute_result",
          "data": {
            "text/plain": [
              "300"
            ]
          },
          "metadata": {
            "tags": []
          },
          "execution_count": 5
        }
      ]
    },
    {
      "cell_type": "code",
      "metadata": {
        "id": "cxk_Lof6zm_v",
        "colab": {
          "base_uri": "https://localhost:8080/"
        },
        "outputId": "59a6884d-4058-4179-8289-1f4db102ac68"
      },
      "source": [
        "# 두 문서를 만들어 코사인 유사도를 측정해 보겠습니다\n",
        "doc1 = nlp(\"I found a wonderful restaurant\")\n",
        "doc2 = nlp(\"the food is delicious\")\n",
        "\n",
        "similarity = doc1.similarity(doc2)\n",
        "print(similarity)"
      ],
      "execution_count": 6,
      "outputs": [
        {
          "output_type": "stream",
          "text": [
            "0.792971253536227\n"
          ],
          "name": "stdout"
        }
      ]
    },
    {
      "cell_type": "code",
      "metadata": {
        "id": "YikT-Qsizm_v",
        "colab": {
          "base_uri": "https://localhost:8080/"
        },
        "outputId": "9260e7c1-0038-47fa-cd8d-4e6152efc915"
      },
      "source": [
        "doc3 = nlp(\"The restaurant we found yesterday is wonderful\")\n",
        "\n",
        "print(doc1.similarity(doc3))"
      ],
      "execution_count": 7,
      "outputs": [
        {
          "output_type": "stream",
          "text": [
            "0.9173849797280267\n"
          ],
          "name": "stdout"
        }
      ]
    },
    {
      "cell_type": "markdown",
      "metadata": {
        "id": "uVVDFx461eeJ"
      },
      "source": [
        "단어 간에도 유사도를 확인할 수 있습니다."
      ]
    },
    {
      "cell_type": "code",
      "metadata": {
        "id": "ME-aYDw4zm_v",
        "colab": {
          "base_uri": "https://localhost:8080/"
        },
        "outputId": "9c7d9dc0-99ee-410f-b7dd-2455949a71f6"
      },
      "source": [
        "car = nlp('car')\n",
        "bus = nlp('bus')\n",
        "human = nlp('human')\n",
        "monkey = nlp('monkey')\n",
        "lion = nlp('lion')\n",
        "gorilla = nlp('gorilla')\n",
        "avengers = nlp('avengers')\n",
        "marvel = nlp('marvel')\n",
        "\n",
        "print('car vs bus : ', car.similarity(bus))\n",
        "print('bus vs human : ', bus.similarity(human))\n",
        "print('human vs monkey : ', human.similarity(monkey))\n",
        "print('human vs lion : ', human.similarity(lion))\n",
        "print('monkey vs gorilla : ', monkey.similarity(gorilla))\n",
        "print('avengers vs marvel : ', avengers.similarity(marvel))"
      ],
      "execution_count": 8,
      "outputs": [
        {
          "output_type": "stream",
          "text": [
            "car vs bus :  0.4816960149829203\n",
            "bus vs human :  0.12412277316164501\n",
            "human vs monkey :  0.39899946231157096\n",
            "human vs lion :  0.27611871750909667\n",
            "monkey vs gorilla :  0.6525881793034227\n",
            "avengers vs marvel :  0.5988409089010447\n"
          ],
          "name": "stdout"
        }
      ]
    },
    {
      "cell_type": "markdown",
      "metadata": {
        "id": "G013Wj9Szm_v"
      },
      "source": [
        "### PCA를 사용한 벡터 시각화\n",
        "300 차원인 벡터들은 시각화 하기 어렵기 때문에 PCA를 사용해 2차원으로 변환해 보겠습니다.\n",
        "\n",
        "**Quiz. 다른 방식으로 시각화를 할 순 없는 지 알아보세요!**"
      ]
    },
    {
      "cell_type": "code",
      "metadata": {
        "id": "b7TbDo6Vzm_w",
        "colab": {
          "base_uri": "https://localhost:8080/"
        },
        "outputId": "93e34954-52c9-4ee6-bead-6d985a44d83e"
      },
      "source": [
        "from sklearn.decomposition import PCA\n",
        "\n",
        "def get_word_vectors(words):\n",
        "    # 단어 벡터로 변환합니다\n",
        "    return [nlp(word).vector for word in words]\n",
        "\n",
        "words = ['car', 'truck', 'suv', 'bus', 'human', 'man', 'woman', 'monkey', 'fish' , 'shark', 'lion', 'tiger', 'avengers', 'marvel', 'thor', 'comics', 'superhero']\n",
        "\n",
        "# PCA 모델의 차원을 설정하여 \n",
        "pca = PCA(n_components=2)\n",
        "\n",
        "# Fit & Transform\n",
        "word_vect_2d = pca.fit_transform(get_word_vectors(words))\n",
        "\n",
        "# 각 벡터가 300 차원에서 2차원으로 줄어 든 것을 확인 할 수 있습니다\n",
        "word_vect_2d"
      ],
      "execution_count": 9,
      "outputs": [
        {
          "output_type": "execute_result",
          "data": {
            "text/plain": [
              "array([[-3.66200993, -3.32131749],\n",
              "       [-3.546578  , -2.85085021],\n",
              "       [-1.79310422, -3.71355107],\n",
              "       [-3.06282644, -2.17552236],\n",
              "       [-0.32817602,  1.3725565 ],\n",
              "       [-1.07378983,  0.56357398],\n",
              "       [-1.38479131,  0.34247838],\n",
              "       [-0.32481679,  2.04812646],\n",
              "       [-1.69068704,  3.8972493 ],\n",
              "       [-0.79176752,  3.43002251],\n",
              "       [-0.28481803,  2.75749512],\n",
              "       [-0.77280682,  3.10963932],\n",
              "       [ 4.97271183, -1.21201458],\n",
              "       [ 2.90881958, -0.6911009 ],\n",
              "       [ 3.43790293, -1.18524999],\n",
              "       [ 3.76755523, -1.36028237],\n",
              "       [ 3.62918236, -1.0112526 ]])"
            ]
          },
          "metadata": {
            "tags": []
          },
          "execution_count": 9
        }
      ]
    },
    {
      "cell_type": "code",
      "metadata": {
        "id": "CAs-6ijywh4C"
      },
      "source": [
        "import matplotlib.pyplot as plt"
      ],
      "execution_count": 11,
      "outputs": []
    },
    {
      "cell_type": "code",
      "metadata": {
        "id": "Jj6SRS1Pzm_w",
        "colab": {
          "base_uri": "https://localhost:8080/",
          "height": 592
        },
        "outputId": "b3c129c7-af6b-4f76-d288-e692b9081577"
      },
      "source": [
        "# 결과가 잘 보이도록 크기를 설정합니다\n",
        "plt.figure(figsize=(15,10))\n",
        "\n",
        "# 단어벡터를 그립니다\n",
        "plt.scatter(word_vect_2d[:,0], word_vect_2d[:,1])\n",
        "\n",
        "# 점 옆에 단어를 표시합니다\n",
        "for word, coord in zip(words, word_vect_2d):\n",
        "    x, y = coord\n",
        "    plt.text(x, y, word, size= 15)\n",
        "\n",
        "plt.show()"
      ],
      "execution_count": 12,
      "outputs": [
        {
          "output_type": "display_data",
          "data": {
            "image/png": "[encoded data removed]",
            "text/plain": [
              "<Figure size 1080x720 with 1 Axes>"
            ]
          },
          "metadata": {
            "tags": [],
            "needs_background": "light"
          }
        }
      ]
    },
    {
      "cell_type": "code",
      "metadata": {
        "id": "H3b47N6mzm_w",
        "colab": {
          "base_uri": "https://localhost:8080/"
        },
        "outputId": "3db7ac17-6f43-41a0-daf9-b8166a491a62"
      },
      "source": [
        "# 벡터 연산을 통해 단어간의 관계를 추론할 수 있습니다\n",
        "\n",
        "from scipy.spatial.distance import cosine\n",
        "\n",
        "king = nlp(\"king\").vector\n",
        "queen = nlp(\"queen\").vector\n",
        "man = nlp(\"man\").vector\n",
        "woman = nlp(\"woman\").vector\n",
        "\n",
        "# 단어벡터가 의미를 가진다면 다음과 같은 연산을 통해 result는 queen과 비슷한 뜻이 되겠지요?\n",
        "result = king - man + woman\n",
        "\n",
        "print(\"similarity between queen and (king - man + woman) : \", 1 - cosine(queen, result))"
      ],
      "execution_count": 13,
      "outputs": [
        {
          "output_type": "stream",
          "text": [
            "similarity between queen and (king - man + woman) :  0.7880843877792358\n"
          ],
          "name": "stdout"
        }
      ]
    },
    {
      "cell_type": "markdown",
      "metadata": {
        "id": "fjX0JDQunaRd"
      },
      "source": [
        "\n",
        "\n",
        "---\n",
        "\n"
      ]
    }
  ]
}