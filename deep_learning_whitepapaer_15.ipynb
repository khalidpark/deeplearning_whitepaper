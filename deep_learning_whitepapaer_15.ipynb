{
  "nbformat": 4,
  "nbformat_minor": 0,
  "metadata": {
    "colab": {
      "name": "deep_learning_whitepapaer_15.ipynb",
      "provenance": [],
      "authorship_tag": "ABX9TyPSOMoCEyfCsZpdLmedy5wg",
      "include_colab_link": true
    },
    "kernelspec": {
      "name": "python3",
      "display_name": "Python 3"
    },
    "language_info": {
      "name": "python"
    }
  },
  "cells": [
    {
      "cell_type": "markdown",
      "metadata": {
        "id": "view-in-github",
        "colab_type": "text"
      },
      "source": [
        "<a href=\"https://colab.research.google.com/github/khalidpark/whitepaper-DeepLearning/blob/main/deep_learning_whitepapaer_15.ipynb\" target=\"_parent\"><img src=\"https://colab.research.google.com/assets/colab-badge.svg\" alt=\"Open In Colab\"/></a>"
      ]
    },
    {
      "cell_type": "markdown",
      "metadata": {
        "id": "LyBVcWqOlBWH"
      },
      "source": [
        "### 1. Keras를 이용한 RNN/LSTM 감정분류(Sentiment Classification)"
      ]
    },
    {
      "cell_type": "code",
      "metadata": {
        "id": "Ti23G0gRe3kr",
        "colab": {
          "base_uri": "https://localhost:8080/"
        },
        "outputId": "237fa973-f1cb-4656-9ed8-871484ead5f4"
      },
      "source": [
        "'''\n",
        "# IMDB 감성 분류 작업에 대한 LSTM 모델을 학습합니다.\n",
        "데이터 집합이 사실 너무 작아서 LSTM이 강점을 발휘할 수 없습니다.\n",
        "TF-IDF + LogReg와 같은 간단하고 빠른 방법이 LSTM에 비해 훨씬 빠릅니다.\n",
        "**Notes**\n",
        "- RNN은 까다롭습니다. 배치 크기 선택이 중요하고, 손실 및 최적화 도구 선택이 중요합니다. 일부 구성은 수렴되지 않을 것입니다.\n",
        "- 교육 중 LSTM 손실 감소 패턴은 CNN/MLP/etc에서 보는 것는 상당히 다를 수 있습니다.\n",
        "'''\n",
        "from __future__ import print_function\n",
        "\n",
        "from tensorflow.keras.preprocessing import sequence\n",
        "from tensorflow.keras.models import Sequential\n",
        "from tensorflow.keras.layers import Dense, Embedding\n",
        "from tensorflow.keras.layers import LSTM\n",
        "from tensorflow.keras.datasets import imdb\n",
        "\n",
        "# 이 단어 랭크 수 뒤에 텍스트는 사용하지 않도록 잘라냅니다(단어 등장 순위 : max_feature)\n",
        "# 참조링크 : https://www.tensorflow.org/api_docs/python/tf/keras/datasets/imdb/load_data\n",
        "max_features = 20000\n",
        "# 최대 단어 길이\n",
        "maxlen = 80\n",
        "batch_size = 32\n",
        "\n",
        "print('Loading data...')\n",
        "(x_train, y_train), (x_test, y_test) = imdb.load_data(num_words=max_features)\n",
        "print(len(x_train), 'train sequences')\n",
        "print(len(x_test), 'test sequences')"
      ],
      "execution_count": 2,
      "outputs": [
        {
          "output_type": "stream",
          "text": [
            "Loading data...\n",
            "Downloading data from https://storage.googleapis.com/tensorflow/tf-keras-datasets/imdb.npz\n",
            "17465344/17464789 [==============================] - 0s 0us/step\n"
          ],
          "name": "stdout"
        },
        {
          "output_type": "stream",
          "text": [
            "<string>:6: VisibleDeprecationWarning: Creating an ndarray from ragged nested sequences (which is a list-or-tuple of lists-or-tuples-or ndarrays with different lengths or shapes) is deprecated. If you meant to do this, you must specify 'dtype=object' when creating the ndarray\n",
            "/usr/local/lib/python3.7/dist-packages/tensorflow/python/keras/datasets/imdb.py:155: VisibleDeprecationWarning: Creating an ndarray from ragged nested sequences (which is a list-or-tuple of lists-or-tuples-or ndarrays with different lengths or shapes) is deprecated. If you meant to do this, you must specify 'dtype=object' when creating the ndarray\n",
            "  x_train, y_train = np.array(xs[:idx]), np.array(labels[:idx])\n"
          ],
          "name": "stderr"
        },
        {
          "output_type": "stream",
          "text": [
            "25000 train sequences\n",
            "25000 test sequences\n"
          ],
          "name": "stdout"
        },
        {
          "output_type": "stream",
          "text": [
            "/usr/local/lib/python3.7/dist-packages/tensorflow/python/keras/datasets/imdb.py:156: VisibleDeprecationWarning: Creating an ndarray from ragged nested sequences (which is a list-or-tuple of lists-or-tuples-or ndarrays with different lengths or shapes) is deprecated. If you meant to do this, you must specify 'dtype=object' when creating the ndarray\n",
            "  x_test, y_test = np.array(xs[idx:]), np.array(labels[idx:])\n"
          ],
          "name": "stderr"
        }
      ]
    },
    {
      "cell_type": "code",
      "metadata": {
        "id": "WwW0TZ87lBWQ",
        "colab": {
          "base_uri": "https://localhost:8080/"
        },
        "outputId": "2733eab5-9bf0-4164-bb4c-c68ae2638c44"
      },
      "source": [
        "print('Pad Sequences (samples x time)')\n",
        "x_train = sequence.pad_sequences(x_train, maxlen=maxlen)\n",
        "x_test = sequence.pad_sequences(x_test, maxlen=maxlen)\n",
        "print('x_train shape: ', x_train.shape)\n",
        "print('x_test shape: ', x_test.shape)"
      ],
      "execution_count": 3,
      "outputs": [
        {
          "output_type": "stream",
          "text": [
            "Pad Sequences (samples x time)\n",
            "x_train shape:  (25000, 80)\n",
            "x_test shape:  (25000, 80)\n"
          ],
          "name": "stdout"
        }
      ]
    },
    {
      "cell_type": "code",
      "metadata": {
        "id": "YeNO2I63lBWT",
        "colab": {
          "base_uri": "https://localhost:8080/"
        },
        "outputId": "06404df9-f5a4-4b73-b184-1516b0543b9f"
      },
      "source": [
        "x_train[0]"
      ],
      "execution_count": 4,
      "outputs": [
        {
          "output_type": "execute_result",
          "data": {
            "text/plain": [
              "array([   15,   256,     4,     2,     7,  3766,     5,   723,    36,\n",
              "          71,    43,   530,   476,    26,   400,   317,    46,     7,\n",
              "           4, 12118,  1029,    13,   104,    88,     4,   381,    15,\n",
              "         297,    98,    32,  2071,    56,    26,   141,     6,   194,\n",
              "        7486,    18,     4,   226,    22,    21,   134,   476,    26,\n",
              "         480,     5,   144,    30,  5535,    18,    51,    36,    28,\n",
              "         224,    92,    25,   104,     4,   226,    65,    16,    38,\n",
              "        1334,    88,    12,    16,   283,     5,    16,  4472,   113,\n",
              "         103,    32,    15,    16,  5345,    19,   178,    32],\n",
              "      dtype=int32)"
            ]
          },
          "metadata": {
            "tags": []
          },
          "execution_count": 4
        }
      ]
    },
    {
      "cell_type": "code",
      "metadata": {
        "id": "XdwCFRz3lBWY",
        "colab": {
          "base_uri": "https://localhost:8080/"
        },
        "outputId": "ff561a0b-935f-4ad1-94c6-b3fc67ff9ccd"
      },
      "source": [
        "import tensorflow as tf\n",
        "\n",
        "# model = Sequential()\n",
        "# model.add(Embedding(max_features, 128))\n",
        "# model.add(LSTM(128, dropout=0.2, recurrent_dropout=0.2))\n",
        "# model.add(Dense(1, activation='sigmoid'))\n",
        "\n",
        "model = tf.keras.models.Sequential([\n",
        "  tf.keras.layers.Embedding(max_features, 128),\n",
        "  tf.keras.layers.LSTM(128, dropout=0.2, recurrent_dropout=0.2),\n",
        "  tf.keras.layers.Dense(1, activation='sigmoid')\n",
        "])\n",
        "\n",
        "model.compile(loss='binary_crossentropy',\n",
        "              optimizer='adam', \n",
        "              metrics=['accuracy'])\n",
        "\n",
        "model.summary()"
      ],
      "execution_count": 5,
      "outputs": [
        {
          "output_type": "stream",
          "text": [
            "Model: \"sequential\"\n",
            "_________________________________________________________________\n",
            "Layer (type)                 Output Shape              Param #   \n",
            "=================================================================\n",
            "embedding (Embedding)        (None, None, 128)         2560000   \n",
            "_________________________________________________________________\n",
            "lstm (LSTM)                  (None, 128)               131584    \n",
            "_________________________________________________________________\n",
            "dense (Dense)                (None, 1)                 129       \n",
            "=================================================================\n",
            "Total params: 2,691,713\n",
            "Trainable params: 2,691,713\n",
            "Non-trainable params: 0\n",
            "_________________________________________________________________\n"
          ],
          "name": "stdout"
        }
      ]
    },
    {
      "cell_type": "code",
      "metadata": {
        "id": "jl4iHbNxlBWa",
        "colab": {
          "base_uri": "https://localhost:8080/"
        },
        "outputId": "46e90081-0e2b-48f1-fcdd-56b99cf186da"
      },
      "source": [
        "unicorns = model.fit(x_train, y_train,\n",
        "          batch_size=batch_size, \n",
        "          epochs=3, \n",
        "          validation_data=(x_test,y_test))"
      ],
      "execution_count": 6,
      "outputs": [
        {
          "output_type": "stream",
          "text": [
            "Epoch 1/3\n",
            "782/782 [==============================] - 221s 279ms/step - loss: 0.4342 - accuracy: 0.7970 - val_loss: 0.3850 - val_accuracy: 0.8333\n",
            "Epoch 2/3\n",
            "782/782 [==============================] - 217s 278ms/step - loss: 0.2571 - accuracy: 0.8974 - val_loss: 0.3721 - val_accuracy: 0.8385\n",
            "Epoch 3/3\n",
            "782/782 [==============================] - 218s 278ms/step - loss: 0.1656 - accuracy: 0.9381 - val_loss: 0.4802 - val_accuracy: 0.8246\n"
          ],
          "name": "stdout"
        }
      ]
    },
    {
      "cell_type": "code",
      "metadata": {
        "id": "V90NGxkblBWd",
        "colab": {
          "base_uri": "https://localhost:8080/",
          "height": 295
        },
        "outputId": "bcd0178e-1fff-40fd-fe83-c23a876c19eb"
      },
      "source": [
        "import matplotlib.pyplot as plt\n",
        "\n",
        "# Plot training & validation loss values\n",
        "plt.plot(unicorns.history['loss'])\n",
        "plt.plot(unicorns.history['val_loss'])\n",
        "plt.title('Model loss')\n",
        "plt.ylabel('Loss')\n",
        "plt.xlabel('Epoch')\n",
        "plt.legend(['Train', 'Test'], loc='upper left')\n",
        "plt.show();"
      ],
      "execution_count": 7,
      "outputs": [
        {
          "output_type": "display_data",
          "data": {
            "image/png": "[encoded data removed]",
            "text/plain": [
              "<Figure size 432x288 with 1 Axes>"
            ]
          },
          "metadata": {
            "tags": [],
            "needs_background": "light"
          }
        }
      ]
    },
    {
      "cell_type": "markdown",
      "metadata": {
        "id": "7pETWPIe362y"
      },
      "source": [
        "### 2. LSTM 텍스트 생성기 with Keras"
      ]
    },
    {
      "cell_type": "markdown",
      "metadata": {
        "id": "bZlqNJnMlBWh"
      },
      "source": [
        "LSTMs로 무엇을 할 수 있을까요? **시퀀스**를 분석하고 있기 때문에, 우리는 분류 이상의 것을 할 수 있습니다. \n",
        "\n",
        "다음 텍스트를 **생성**할 수 있습니다. \n",
        "**니체(Friedrich Nietzsche)의 글** 을 이용해서 실습을 해봅시다\n",
        "\n",
        "Keras [LSTM text Generation](https://keras.io/zh/examples/lstm_text_generation/)."
      ]
    },
    {
      "cell_type": "code",
      "metadata": {
        "id": "YDSeEDN2lBWi",
        "colab": {
          "base_uri": "https://localhost:8080/"
        },
        "outputId": "93b3cebf-65b5-412f-e9e6-9fa80c813790"
      },
      "source": [
        "# 라이브러리, 데이터 불러오기\n",
        "from __future__ import print_function\n",
        "from keras.callbacks import LambdaCallback\n",
        "from keras.models import Sequential\n",
        "from keras.layers import Dense\n",
        "from keras.layers import LSTM\n",
        "from keras.optimizers import RMSprop\n",
        "from keras.utils.data_utils import get_file\n",
        "import numpy as np\n",
        "import random\n",
        "import sys\n",
        "import io\n",
        "\n",
        "path = get_file(\n",
        "    'nietzsche.txt',\n",
        "    origin='https://s3.amazonaws.com/text-datasets/nietzsche.txt')\n",
        "with io.open(path, encoding='utf-8') as f:\n",
        "    text = f.read().lower()\n",
        "print('corpus length:', len(text))\n",
        "\n",
        "chars = sorted(list(set(text)))\n",
        "print('total chars:', len(chars))\n",
        "char_indices = dict((c, i) for i, c in enumerate(chars))\n",
        "indices_char = dict((i, c) for i, c in enumerate(chars))"
      ],
      "execution_count": 8,
      "outputs": [
        {
          "output_type": "stream",
          "text": [
            "Downloading data from https://s3.amazonaws.com/text-datasets/nietzsche.txt\n",
            "606208/600901 [==============================] - 0s 0us/step\n",
            "614400/600901 [==============================] - 0s 0us/step\n",
            "corpus length: 600893\n",
            "total chars: 57\n"
          ],
          "name": "stdout"
        }
      ]
    },
    {
      "cell_type": "code",
      "metadata": {
        "id": "YWf-YJp79wUH",
        "colab": {
          "base_uri": "https://localhost:8080/"
        },
        "outputId": "5827e03a-ae4e-4579-c9b9-ca0de0f4cce4"
      },
      "source": [
        "# max length를 이용하여 문자열의 크기 정렬\n",
        "maxlen = 40\n",
        "step = 3\n",
        "sentences = []\n",
        "next_chars = []\n",
        "for i in range(0, len(text) - maxlen, step):\n",
        "    sentences.append(text[i: i + maxlen])\n",
        "    next_chars.append(text[i + maxlen])\n",
        "print('nb sequences:', len(sentences))\n",
        "\n",
        "print('Vectorization...')\n",
        "x = np.zeros((len(sentences), maxlen, len(chars)), dtype=np.bool)\n",
        "y = np.zeros((len(sentences), len(chars)), dtype=np.bool)\n",
        "for i, sentence in enumerate(sentences):\n",
        "    for t, char in enumerate(sentence):\n",
        "        x[i, t, char_indices[char]] = 1\n",
        "    y[i, char_indices[next_chars[i]]] = 1"
      ],
      "execution_count": 9,
      "outputs": [
        {
          "output_type": "stream",
          "text": [
            "nb sequences: 200285\n",
            "Vectorization...\n"
          ],
          "name": "stdout"
        }
      ]
    },
    {
      "cell_type": "code",
      "metadata": {
        "id": "MDgXQ51N9x5F",
        "colab": {
          "base_uri": "https://localhost:8080/"
        },
        "outputId": "d3d1c659-2141-409b-922f-b958b0e057e9"
      },
      "source": [
        "# LSTM 모델 제작\n",
        "print('Build model...')\n",
        "model = Sequential()\n",
        "model.add(LSTM(128, input_shape=(maxlen, len(chars))))\n",
        "model.add(Dense(len(chars), activation='softmax'))\n",
        "\n",
        "optimizer = RMSprop(lr=0.01)\n",
        "model.compile(loss='categorical_crossentropy', optimizer=optimizer)"
      ],
      "execution_count": 10,
      "outputs": [
        {
          "output_type": "stream",
          "text": [
            "Build model...\n"
          ],
          "name": "stdout"
        },
        {
          "output_type": "stream",
          "text": [
            "/usr/local/lib/python3.7/dist-packages/tensorflow/python/keras/optimizer_v2/optimizer_v2.py:375: UserWarning: The `lr` argument is deprecated, use `learning_rate` instead.\n",
            "  \"The `lr` argument is deprecated, use `learning_rate` instead.\")\n"
          ],
          "name": "stderr"
        }
      ]
    },
    {
      "cell_type": "code",
      "metadata": {
        "id": "kvc8OpIP9yCZ"
      },
      "source": [
        "def sample(preds, temperature=1.0):\n",
        "    # helper function to sample an index from a probability array\n",
        "    preds = np.asarray(preds).astype('float64')\n",
        "    preds = np.log(preds) / temperature\n",
        "    exp_preds = np.exp(preds)\n",
        "    preds = exp_preds / np.sum(exp_preds)\n",
        "    probas = np.random.multinomial(1, preds, 1)\n",
        "    return np.argmax(probas)\n",
        "\n",
        "\n",
        "def on_epoch_end(epoch, _):\n",
        "    # Function invoked at end of each epoch. Prints generated text.\n",
        "    print()\n",
        "    print('----- Generating text after Epoch: %d' % epoch)\n",
        "\n",
        "    start_index = random.randint(0, len(text) - maxlen - 1)\n",
        "    for diversity in [0.2, 0.5, 1.0, 1.2]:\n",
        "        print('----- diversity:', diversity)\n",
        "\n",
        "        generated = ''\n",
        "        sentence = text[start_index: start_index + maxlen]\n",
        "        generated += sentence\n",
        "        print('----- Generating with seed: \"' + sentence + '\"')\n",
        "        sys.stdout.write(generated)\n",
        "\n",
        "        for i in range(400):\n",
        "            x_pred = np.zeros((1, maxlen, len(chars)))\n",
        "            for t, char in enumerate(sentence):\n",
        "                x_pred[0, t, char_indices[char]] = 1.\n",
        "\n",
        "            preds = model.predict(x_pred, verbose=0)[0]\n",
        "            next_index = sample(preds, diversity)\n",
        "            next_char = indices_char[next_index]\n",
        "\n",
        "            generated += next_char\n",
        "            sentence = sentence[1:] + next_char\n",
        "\n",
        "            sys.stdout.write(next_char)\n",
        "            sys.stdout.flush()\n",
        "        print()\n",
        "\n",
        "print_callback = LambdaCallback(on_epoch_end=on_epoch_end)"
      ],
      "execution_count": 11,
      "outputs": []
    },
    {
      "cell_type": "code",
      "metadata": {
        "id": "xWDL61Pf9yF4",
        "colab": {
          "base_uri": "https://localhost:8080/"
        },
        "outputId": "6e7e0423-c01a-4820-e6ab-8d6be587546d"
      },
      "source": [
        "model.fit(x, y,\n",
        "          batch_size=128,\n",
        "          epochs=2,\n",
        "          callbacks=[print_callback])"
      ],
      "execution_count": 13,
      "outputs": [
        {
          "output_type": "stream",
          "text": [
            "Epoch 1/2\n",
            "1565/1565 [==============================] - 165s 106ms/step - loss: 1.5822\n",
            "\n",
            "----- Generating text after Epoch: 0\n",
            "----- diversity: 0.2\n",
            "----- Generating with seed: \"mits the casting of doubts upon the inex\"\n",
            "mits the casting of doubts upon the inexperion of the such an and artists and in the self and interpreted and in the strange of the sense of the man is a man is a first the strength, the such assime of the self and assuming and and the world, and the serration of the freels and interpretion of the something the serrors of the strange of the strange of the prosertion of the strange of the sense of the conscience of the proserble in the s\n",
            "----- diversity: 0.5\n",
            "----- Generating with seed: \"mits the casting of doubts upon the inex\"\n",
            "mits the casting of doubts upon the inexperience of the sense of the conscious\n",
            "and still such and woman and sees the fact of the proper--and onebless as there is as is like that is for the to something the respect of the certain of the self in the\n",
            "worker, and also the man is also to the existencess of an ansertation and interpresible the prospicise of the comprehing\n",
            "religion of assutions, and also the prose of the engling of the taste a\n",
            "----- diversity: 1.0\n",
            "----- Generating with seed: \"mits the casting of doubts upon the inex\"\n",
            "mits the casting of doubts upon the inextens, af ammain anouritian). \"'reanness of also the conducted in be ins\n",
            "now, in moral virliester tbate yet us\n",
            "antistice in digry, his himself i for a sumpt on beanes\" soush conscilus entry what dedies of the\n",
            "strives are (we assugtate to nee the very\n",
            " self in the ordiverstated bcening hooghysty, estantual, , so placey;\n",
            "has. i  yompose thas as his else, ycuul and falled, in best ut; a lread\n",
            "bill wus\n",
            "----- diversity: 1.2\n",
            "----- Generating with seed: \"mits the casting of doubts upon the inex\"\n",
            "mits the casting of doubts upon the inex same madealy:\n",
            "\n",
            "by, evorement, a dot; in thinker as has the masty in plales\n",
            "calne?\n",
            "orympuding vilude and vonutionay, that tusc: be\n",
            "asmite\n",
            "luter obperually the pyrute, the con, traetif--dow ecrtake: nother to1n, withorewer of the lotter-.\"y\n",
            "frarsel me, triefl:\n",
            "in cxsessed,, and euling otherfulsorts and\n",
            "famotic,\n",
            "an equers in goodnession what firnals th1ievst--for,\" so,\n",
            "a said to abolem? and xiththit\n",
            "Epoch 2/2\n",
            "1565/1565 [==============================] - 165s 106ms/step - loss: 1.5120\n",
            "\n",
            "----- Generating text after Epoch: 1\n",
            "----- diversity: 0.2\n",
            "----- Generating with seed: \"ium, ballast,\n",
            "and perpendicular stabilit\"\n",
            "ium, ballast,\n",
            "and perpendicular stability of the stald is a stands of the same of the stands and the pain the self is a stands of the suppose of the stands the call the superior to the same still to the subtless of the superior is all the sense of the subtleted to the think to the the stands the suffering to the same of the constitused to the same to the self-south as the suffering of the stands of the stand of the same of the past of t\n",
            "----- diversity: 0.5\n",
            "----- Generating with seed: \"ium, ballast,\n",
            "and perpendicular stabilit\"\n",
            "ium, ballast,\n",
            "and perpendicular stability of the stands that which has the something to the sughour of the tore of callity of any forms and implauted there is a same the many as the suffering his sublims and persons and lard to a philosophers of the completed to the possession to say the last as a free of the persons and in itself is and streat of the destruded to perhaps are so usis of their streats, as a confice of every persons to co\n",
            "----- diversity: 1.0\n",
            "----- Generating with seed: \"ium, ballast,\n",
            "and perpendicular stabilit\"\n",
            "ium, ballast,\n",
            "and perpendicular stability are testers of asself more womels twume. as the\n",
            "more woman and considenect lass. by the isely.but happy\n",
            "and far and shill,\n",
            "\"but has impure our the\n",
            "subt all loaintiess aid. we pailn supposed to bdands\n",
            "with edian,\n",
            "a\n",
            "how\n",
            "sheaking, and ip, been sakes more among out extillar! in speet love to plepress of all for\n",
            "vanity orhadpineb\n",
            "is it everywary a\n",
            "domy eash of must gever after suffering thisjesse ove\n",
            "----- diversity: 1.2\n",
            "----- Generating with seed: \"ium, ballast,\n",
            "and perpendicular stabilit\"\n",
            "ium, ballast,\n",
            "and perpendicular stability has\n",
            "its\"? arfowd with highes.\n",
            "nom\n",
            "to his\n",
            "must man's\n",
            "intellect abog the mourenes as value have le!\n",
            "thsll him always neutfrousncied shent, toour\n",
            "do prophinomedptaided\n",
            "form?nconce otcumers whyl relomy. which has so forces, spirming time olders for nature ay xoments of, the schefer, bus cannine which they begaid. jankinatidiablicd\n",
            "one.herpt, atosal threffend\n",
            "more bediex--\n",
            "the rrast\n",
            "senses that whic \n"
          ],
          "name": "stdout"
        },
        {
          "output_type": "execute_result",
          "data": {
            "text/plain": [
              "<keras.callbacks.History at 0x7fd0f3f59b90>"
            ]
          },
          "metadata": {
            "tags": []
          },
          "execution_count": 13
        }
      ]
    }
  ]
}